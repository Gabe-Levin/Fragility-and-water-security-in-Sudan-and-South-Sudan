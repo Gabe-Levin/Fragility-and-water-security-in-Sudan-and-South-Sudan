{
 "cells": [
  {
   "cell_type": "markdown",
   "metadata": {},
   "source": [
    "## Country-level INFRA-SAP"
   ]
  },
  {
   "cell_type": "markdown",
   "metadata": {},
   "source": [
    "This notebook exemplifies a simple market access estimation based on global datasets:\n",
    "\n",
    "- **Global Friction Surface (Malaria Atlas Project)**  \n",
    "see: https://developers.google.com/earth-engine/datasets/catalog/Oxford_MAP_friction_surface_2019\n",
    "\n",
    "\n",
    "- **World Pop 1 km Population Grid**"
   ]
  },
  {
   "cell_type": "code",
   "execution_count": 1,
   "metadata": {},
   "outputs": [],
   "source": [
    "import os, sys, time, importlib\n",
    "\n",
    "import geopandas as gpd\n",
    "import pandas as pd\n",
    "sys.path.append('/home/wb514197/Repos/GOSTnets')\n",
    "\n",
    "import rasterio as rio\n",
    "import numpy as np\n",
    "from shapely.geometry import Point\n",
    "\n",
    "sys.path.append('/home/wb514197/Repos/INFRA_SAP')\n",
    "from infrasap import aggregator\n",
    "from utm_zone import epsg as epsg_get\n",
    "import json\n",
    "\n",
    "sys.path.append('/home/wb514197/Repos/gostrocks/src')\n",
    "sys.path.append('/home/wb514197/Repos/GOSTNets_Raster/src')\n",
    "\n",
    "import GOSTRocks.rasterMisc as rMisc\n",
    "import GOSTNetsRaster.market_access as ma\n",
    "import skimage.graph as graph\n",
    "\n",
    "%load_ext autoreload\n",
    "%autoreload 2"
   ]
  },
  {
   "cell_type": "code",
   "execution_count": 2,
   "metadata": {},
   "outputs": [],
   "source": [
    "data_dir = os.path.join(os.path.expanduser(\"~\"), 'data', 'south_sudan')"
   ]
  },
  {
   "cell_type": "code",
   "execution_count": 3,
   "metadata": {},
   "outputs": [],
   "source": [
    "iso3 = \"SSD\""
   ]
  },
  {
   "cell_type": "code",
   "execution_count": 4,
   "metadata": {},
   "outputs": [],
   "source": [
    "out_folder = os.path.join(data_dir, \"output_raster\")\n",
    "if not os.path.exists(out_folder):\n",
    "    os.makedirs(out_folder)"
   ]
  },
  {
   "cell_type": "markdown",
   "metadata": {},
   "source": [
    "### Clip friction surface and population to country extent"
   ]
  },
  {
   "cell_type": "code",
   "execution_count": 30,
   "metadata": {},
   "outputs": [],
   "source": [
    "global_friction_surface = \"/home/public/Data/GLOBAL/INFRA/FRICTION_2020/2020_motorized_friction_surface.geotiff\"\n",
    "global_population = \"/home/public/Data/GLOBAL/Population/WorldPop_PPP_2020/ppp_2020_1km_Aggregated.tif\"\n",
    "inG = rio.open(global_friction_surface)\n",
    "inP = rio.open(global_population)\n",
    "\n",
    "# Read in country bounds\n",
    "global_bounds = \"/home/public/Data/GLOBAL/ADMIN/Admin0_Polys.shp\"\n",
    "admin1 = \"/home/public/Data/GLOBAL/ADMIN/Admin1_Polys.shp\"\n",
    "admin2 = \"/home/wb514197/data/PAK/pakistan_indicators.shp\"\n",
    "\n",
    "inB = gpd.read_file(global_bounds)\n",
    "inB = inB.loc[inB['ISO3'] == iso3]\n",
    "inB = inB.to_crs(inG.crs.to_string())"
   ]
  },
  {
   "cell_type": "code",
   "execution_count": 26,
   "metadata": {},
   "outputs": [],
   "source": [
    "g = inB.geometry\n",
    "g = g.unary_union\n",
    "bb = g.bounds\n",
    "bb = shapely.geometry.box(bb[0], bb[1], bb[2], bb[3])\n",
    "bb = gpd.GeoDataFrame(geometry=[bb], crs='EPSG:4326')"
   ]
  },
  {
   "cell_type": "code",
   "execution_count": 33,
   "metadata": {},
   "outputs": [],
   "source": [
    "# Clip the travel raster to ISO3\n",
    "out_travel_surface = os.path.join(data_dir, \"TRAVEL_SURFACE.tif\")\n",
    "rMisc.clipRaster(inG, bb, out_travel_surface)"
   ]
  },
  {
   "cell_type": "code",
   "execution_count": null,
   "metadata": {},
   "outputs": [],
   "source": [
    "# Clip the population raster to ISO3\n",
    "out_pop_surface = os.path.join(data_dir, \"POP_2020_NEW.tif\")\n",
    "rMisc.clipRaster(inP, inB, out_pop_surface)"
   ]
  },
  {
   "cell_type": "code",
   "execution_count": 35,
   "metadata": {},
   "outputs": [],
   "source": [
    "out_pop_surface = os.path.join(data_dir, \"POP_2020_NEW.tif\")\n"
   ]
  },
  {
   "cell_type": "code",
   "execution_count": 36,
   "metadata": {},
   "outputs": [],
   "source": [
    "travel_surf = rio.open(out_travel_surface)\n",
    "pop_surf = rio.open(out_pop_surface)"
   ]
  },
  {
   "cell_type": "code",
   "execution_count": 37,
   "metadata": {},
   "outputs": [
    {
     "data": {
      "text/plain": [
       "[array([[[-3.4028235e+38, -3.4028235e+38, -3.4028235e+38, ...,\n",
       "          -3.4028235e+38, -3.4028235e+38, -3.4028235e+38],\n",
       "         [-3.4028235e+38, -3.4028235e+38, -3.4028235e+38, ...,\n",
       "          -3.4028235e+38, -3.4028235e+38, -3.4028235e+38],\n",
       "         [-3.4028235e+38, -3.4028235e+38, -3.4028235e+38, ...,\n",
       "          -3.4028235e+38, -3.4028235e+38, -3.4028235e+38],\n",
       "         ...,\n",
       "         [-3.4028235e+38, -3.4028235e+38, -3.4028235e+38, ...,\n",
       "          -3.4028235e+38, -3.4028235e+38, -3.4028235e+38],\n",
       "         [-3.4028235e+38, -3.4028235e+38, -3.4028235e+38, ...,\n",
       "          -3.4028235e+38, -3.4028235e+38, -3.4028235e+38],\n",
       "         [-3.4028235e+38, -3.4028235e+38, -3.4028235e+38, ...,\n",
       "          -3.4028235e+38, -3.4028235e+38, -3.4028235e+38]]], dtype=float32),\n",
       " {'driver': 'GTiff',\n",
       "  'dtype': 'float32',\n",
       "  'nodata': -3.4028234663852886e+38,\n",
       "  'width': 1341,\n",
       "  'height': 1051,\n",
       "  'count': 1,\n",
       "  'crs': CRS.from_epsg(4326),\n",
       "  'transform': Affine(0.008333333333333333, 0.0, 24.150000000000006,\n",
       "         0.0, -0.008333333333333333, 12.241666666666674)}]"
      ]
     },
     "execution_count": 37,
     "metadata": {},
     "output_type": "execute_result"
    }
   ],
   "source": [
    "# Make sure that both rasters have the exact same resolution, crs, and number of pixels\n",
    "out_pop_surface_std = os.path.join(data_dir, \"POP_2020_NEW_STD.tif\")\n",
    "rMisc.standardizeInputRasters(pop_surf, travel_surf, os.path.join(data_dir, \"POP_2020_NEW_STD.tif\"), data_type=\"C\")"
   ]
  },
  {
   "cell_type": "markdown",
   "metadata": {},
   "source": [
    "### Prepare Raster"
   ]
  },
  {
   "cell_type": "code",
   "execution_count": 7,
   "metadata": {},
   "outputs": [],
   "source": [
    "out_pop_surface_std = os.path.join(data_dir, \"POP_2020_NEW_STD.tif\")\n",
    "out_travel_surface = os.path.join(data_dir, \"TRAVEL_SURFACE.tif\")"
   ]
  },
  {
   "cell_type": "code",
   "execution_count": 8,
   "metadata": {},
   "outputs": [],
   "source": [
    "travel_surf = rio.open(out_travel_surface)"
   ]
  },
  {
   "cell_type": "code",
   "execution_count": 11,
   "metadata": {},
   "outputs": [],
   "source": [
    "pop_surf = rio.open(out_pop_surface_std)\n",
    "pop = pop_surf.read(1, masked=True)\n",
    "indices = list(np.ndindex(pop.shape))\n",
    "xys = [pop_surf.xy(ind[0], ind[1]) for ind in indices]\n",
    "res_df = pd.DataFrame({\n",
    "    'spatial_index': indices, \n",
    "    'xy': xys, \n",
    "    'pop': pop.flatten()\n",
    "})\n",
    "res_df['pointid'] = res_df.index"
   ]
  },
  {
   "cell_type": "code",
   "execution_count": 12,
   "metadata": {},
   "outputs": [],
   "source": [
    "# create MCP object\n",
    "inG_data = travel_surf.read(1) * 1000 #\n",
    "# Correct no data values\n",
    "inG_data[inG_data < 0] = 99999999\n",
    "# inG_data[inG_data < 0] = np.nan\n",
    "mcp = graph.MCP_Geometric(inG_data)"
   ]
  },
  {
   "cell_type": "markdown",
   "metadata": {},
   "source": [
    "### Prepare destinations"
   ]
  },
  {
   "cell_type": "code",
   "execution_count": 13,
   "metadata": {},
   "outputs": [],
   "source": [
    "inWater = gpd.read_file(os.path.join(data_dir, \"SSd_Waterpoints_WIMS_2012.shp\"))"
   ]
  },
  {
   "cell_type": "code",
   "execution_count": 14,
   "metadata": {
    "scrolled": true
   },
   "outputs": [
    {
     "data": {
      "text/html": [
       "<div>\n",
       "<style scoped>\n",
       "    .dataframe tbody tr th:only-of-type {\n",
       "        vertical-align: middle;\n",
       "    }\n",
       "\n",
       "    .dataframe tbody tr th {\n",
       "        vertical-align: top;\n",
       "    }\n",
       "\n",
       "    .dataframe thead th {\n",
       "        text-align: right;\n",
       "    }\n",
       "</style>\n",
       "<table border=\"1\" class=\"dataframe\">\n",
       "  <thead>\n",
       "    <tr style=\"text-align: right;\">\n",
       "      <th></th>\n",
       "      <th>ID</th>\n",
       "      <th>cleaning</th>\n",
       "      <th>Source_Typ</th>\n",
       "      <th>State</th>\n",
       "      <th>County</th>\n",
       "      <th>Payam</th>\n",
       "      <th>Boma</th>\n",
       "      <th>Village</th>\n",
       "      <th>Local_Name</th>\n",
       "      <th>Latitude</th>\n",
       "      <th>...</th>\n",
       "      <th>Pump_Type</th>\n",
       "      <th>SWL</th>\n",
       "      <th>Estimated</th>\n",
       "      <th>Total_Dept</th>\n",
       "      <th>DWL</th>\n",
       "      <th>Pump_Insta</th>\n",
       "      <th>Assessed_b</th>\n",
       "      <th>Drilled_by</th>\n",
       "      <th>Report_Dat</th>\n",
       "      <th>geometry</th>\n",
       "    </tr>\n",
       "  </thead>\n",
       "  <tbody>\n",
       "    <tr>\n",
       "      <th>0</th>\n",
       "      <td>1.0</td>\n",
       "      <td>1.0</td>\n",
       "      <td>Borehole</td>\n",
       "      <td>CE</td>\n",
       "      <td>Juba</td>\n",
       "      <td>Juba</td>\n",
       "      <td>Goron</td>\n",
       "      <td>Goron 2</td>\n",
       "      <td>Goron 2</td>\n",
       "      <td>4.80375</td>\n",
       "      <td>...</td>\n",
       "      <td>None</td>\n",
       "      <td>13.14</td>\n",
       "      <td>7.20</td>\n",
       "      <td>32.0</td>\n",
       "      <td>None</td>\n",
       "      <td>None</td>\n",
       "      <td>None</td>\n",
       "      <td>None</td>\n",
       "      <td>12/2/2006</td>\n",
       "      <td>POINT (31.36732 4.80375)</td>\n",
       "    </tr>\n",
       "    <tr>\n",
       "      <th>1</th>\n",
       "      <td>2.0</td>\n",
       "      <td>1.0</td>\n",
       "      <td>Borehole</td>\n",
       "      <td>CE</td>\n",
       "      <td>Juba</td>\n",
       "      <td>Juba</td>\n",
       "      <td>Juba</td>\n",
       "      <td>Kupuri 2 - B School</td>\n",
       "      <td>Kupuri 2 - B School</td>\n",
       "      <td>4.86687</td>\n",
       "      <td>...</td>\n",
       "      <td>None</td>\n",
       "      <td>7.00</td>\n",
       "      <td>0.60</td>\n",
       "      <td>24.0</td>\n",
       "      <td>None</td>\n",
       "      <td>None</td>\n",
       "      <td>None</td>\n",
       "      <td>None</td>\n",
       "      <td>6/17/2006</td>\n",
       "      <td>POINT (31.50628 4.86687)</td>\n",
       "    </tr>\n",
       "    <tr>\n",
       "      <th>2</th>\n",
       "      <td>3.0</td>\n",
       "      <td>1.0</td>\n",
       "      <td>Borehole</td>\n",
       "      <td>CE</td>\n",
       "      <td>Juba</td>\n",
       "      <td>Juba</td>\n",
       "      <td>Juba</td>\n",
       "      <td>Kapuri Lemon Gaba</td>\n",
       "      <td>Kapuri 1- Lemon Gaba</td>\n",
       "      <td>4.86613</td>\n",
       "      <td>...</td>\n",
       "      <td>None</td>\n",
       "      <td>10.90</td>\n",
       "      <td>0.00</td>\n",
       "      <td>26.0</td>\n",
       "      <td>None</td>\n",
       "      <td>None</td>\n",
       "      <td>None</td>\n",
       "      <td>None</td>\n",
       "      <td>6/15/2006</td>\n",
       "      <td>POINT (31.50215 4.86613)</td>\n",
       "    </tr>\n",
       "    <tr>\n",
       "      <th>3</th>\n",
       "      <td>4.0</td>\n",
       "      <td>1.0</td>\n",
       "      <td>Borehole</td>\n",
       "      <td>CE</td>\n",
       "      <td>Juba</td>\n",
       "      <td>Juba</td>\n",
       "      <td>Juba</td>\n",
       "      <td>Juba</td>\n",
       "      <td>Barge port</td>\n",
       "      <td>4.83120</td>\n",
       "      <td>...</td>\n",
       "      <td>None</td>\n",
       "      <td>2.51</td>\n",
       "      <td>0.45</td>\n",
       "      <td>26.0</td>\n",
       "      <td>None</td>\n",
       "      <td>None</td>\n",
       "      <td>None</td>\n",
       "      <td>None</td>\n",
       "      <td>9/21/2006</td>\n",
       "      <td>POINT (31.61228 4.83120)</td>\n",
       "    </tr>\n",
       "    <tr>\n",
       "      <th>4</th>\n",
       "      <td>5.0</td>\n",
       "      <td>1.0</td>\n",
       "      <td>Borehole</td>\n",
       "      <td>CE</td>\n",
       "      <td>Juba</td>\n",
       "      <td>Juba</td>\n",
       "      <td>Juba</td>\n",
       "      <td>Gorom 1</td>\n",
       "      <td>Gorom 1</td>\n",
       "      <td>4.79980</td>\n",
       "      <td>...</td>\n",
       "      <td>None</td>\n",
       "      <td>15.62</td>\n",
       "      <td>2.40</td>\n",
       "      <td>28.0</td>\n",
       "      <td>None</td>\n",
       "      <td>None</td>\n",
       "      <td>None</td>\n",
       "      <td>None</td>\n",
       "      <td>11/10/2006</td>\n",
       "      <td>POINT (31.36932 4.79980)</td>\n",
       "    </tr>\n",
       "  </tbody>\n",
       "</table>\n",
       "<p>5 rows × 23 columns</p>\n",
       "</div>"
      ],
      "text/plain": [
       "    ID  cleaning Source_Typ State County Payam   Boma              Village  \\\n",
       "0  1.0       1.0   Borehole    CE   Juba  Juba  Goron              Goron 2   \n",
       "1  2.0       1.0   Borehole    CE   Juba  Juba   Juba  Kupuri 2 - B School   \n",
       "2  3.0       1.0   Borehole    CE   Juba  Juba   Juba    Kapuri Lemon Gaba   \n",
       "3  4.0       1.0   Borehole    CE   Juba  Juba   Juba                 Juba   \n",
       "4  5.0       1.0   Borehole    CE   Juba  Juba   Juba              Gorom 1   \n",
       "\n",
       "             Local_Name  Latitude  ...  Pump_Type    SWL Estimated Total_Dept  \\\n",
       "0               Goron 2   4.80375  ...       None  13.14      7.20       32.0   \n",
       "1   Kupuri 2 - B School   4.86687  ...       None   7.00      0.60       24.0   \n",
       "2  Kapuri 1- Lemon Gaba   4.86613  ...       None  10.90      0.00       26.0   \n",
       "3            Barge port   4.83120  ...       None   2.51      0.45       26.0   \n",
       "4               Gorom 1   4.79980  ...       None  15.62      2.40       28.0   \n",
       "\n",
       "    DWL  Pump_Insta  Assessed_b Drilled_by  Report_Dat  \\\n",
       "0  None        None        None       None   12/2/2006   \n",
       "1  None        None        None       None   6/17/2006   \n",
       "2  None        None        None       None   6/15/2006   \n",
       "3  None        None        None       None   9/21/2006   \n",
       "4  None        None        None       None  11/10/2006   \n",
       "\n",
       "                   geometry  \n",
       "0  POINT (31.36732 4.80375)  \n",
       "1  POINT (31.50628 4.86687)  \n",
       "2  POINT (31.50215 4.86613)  \n",
       "3  POINT (31.61228 4.83120)  \n",
       "4  POINT (31.36932 4.79980)  \n",
       "\n",
       "[5 rows x 23 columns]"
      ]
     },
     "execution_count": 14,
     "metadata": {},
     "output_type": "execute_result"
    }
   ],
   "source": [
    "inWater.head()"
   ]
  },
  {
   "cell_type": "code",
   "execution_count": 32,
   "metadata": {},
   "outputs": [
    {
     "data": {
      "text/plain": [
       "operational      5836\n",
       "needs repairs    1622\n",
       "seasonal          139\n",
       "abandoned           9\n",
       "Name: Status, dtype: int64"
      ]
     },
     "execution_count": 32,
     "metadata": {},
     "output_type": "execute_result"
    }
   ],
   "source": [
    "inWater.Status.value_counts()"
   ]
  },
  {
   "cell_type": "code",
   "execution_count": 31,
   "metadata": {},
   "outputs": [
    {
     "data": {
      "text/plain": [
       "9607"
      ]
     },
     "execution_count": 31,
     "metadata": {},
     "output_type": "execute_result"
    }
   ],
   "source": [
    "len(inWater[inWater.Status != None])"
   ]
  },
  {
   "cell_type": "code",
   "execution_count": 56,
   "metadata": {},
   "outputs": [],
   "source": [
    "# inWater = inWater.loc[inWater.Status.isin(['operational', 'seasonal'])].copy()"
   ]
  },
  {
   "cell_type": "code",
   "execution_count": 33,
   "metadata": {},
   "outputs": [
    {
     "name": "stdout",
     "output_type": "stream",
     "text": [
      "CPU times: user 1.18 s, sys: 41.2 ms, total: 1.22 s\n",
      "Wall time: 1.33 s\n"
     ]
    }
   ],
   "source": [
    "%%time\n",
    "res_all = ma.calculate_travel_time(travel_surf, mcp, inWater)[0]"
   ]
  },
  {
   "cell_type": "code",
   "execution_count": 58,
   "metadata": {},
   "outputs": [
    {
     "data": {
      "text/plain": [
       "array([1.32667482e+03, 1.31323843e+03, 1.29970666e+03, ...,\n",
       "       2.54554427e+02, 2.71523210e+02, 5.00002800e+07])"
      ]
     },
     "execution_count": 58,
     "metadata": {},
     "output_type": "execute_result"
    }
   ],
   "source": [
    "res_df.loc[:,'tt_water'] = res_all.flatten()"
   ]
  },
  {
   "cell_type": "code",
   "execution_count": 38,
   "metadata": {},
   "outputs": [],
   "source": [
    "# remove values where pop is 0 or nan\n",
    "res_df = res_df.loc[res_df['pop']!=0].copy()\n",
    "res_df = res_df.loc[~(res_df['pop'].isna())].copy()"
   ]
  },
  {
   "cell_type": "code",
   "execution_count": 39,
   "metadata": {},
   "outputs": [],
   "source": [
    "res_df.loc[:,'xy'] = res_df.loc[:,'xy'].apply(lambda x: Point(x))"
   ]
  },
  {
   "cell_type": "code",
   "execution_count": 40,
   "metadata": {},
   "outputs": [
    {
     "data": {
      "text/plain": [
       "735858"
      ]
     },
     "execution_count": 40,
     "metadata": {},
     "output_type": "execute_result"
    }
   ],
   "source": [
    "len(res_df)"
   ]
  },
  {
   "cell_type": "markdown",
   "metadata": {},
   "source": [
    "Remove values where travel time was undefined"
   ]
  },
  {
   "cell_type": "code",
   "execution_count": 41,
   "metadata": {},
   "outputs": [],
   "source": [
    "res_df = res_df.loc[res_df[\"tt_water\"]<99999999]"
   ]
  },
  {
   "cell_type": "code",
   "execution_count": 42,
   "metadata": {},
   "outputs": [
    {
     "data": {
      "text/plain": [
       "735858"
      ]
     },
     "execution_count": 42,
     "metadata": {},
     "output_type": "execute_result"
    }
   ],
   "source": [
    "len(res_df)"
   ]
  },
  {
   "cell_type": "code",
   "execution_count": 43,
   "metadata": {},
   "outputs": [],
   "source": [
    "origins_join = res_df.copy()"
   ]
  },
  {
   "cell_type": "code",
   "execution_count": 44,
   "metadata": {},
   "outputs": [],
   "source": [
    "origins_join2 = gpd.GeoDataFrame(origins_join, geometry='xy', crs='EPSG:4326')"
   ]
  },
  {
   "cell_type": "code",
   "execution_count": 45,
   "metadata": {},
   "outputs": [],
   "source": [
    "origins_join2.rename(columns={'xy':'geometry'}, inplace=True)"
   ]
  },
  {
   "cell_type": "markdown",
   "metadata": {},
   "source": [
    "#### Convert to raster and save results"
   ]
  },
  {
   "cell_type": "code",
   "execution_count": 46,
   "metadata": {},
   "outputs": [],
   "source": [
    "raster_path = out_pop_surface_std"
   ]
  },
  {
   "cell_type": "code",
   "execution_count": 47,
   "metadata": {},
   "outputs": [],
   "source": [
    "# origins_join2.loc[:, \"tt_water\"] = origins_join2.loc[:, \"tt_water\"].apply(lambda x: x/60)"
   ]
  },
  {
   "cell_type": "code",
   "execution_count": 48,
   "metadata": {},
   "outputs": [],
   "source": [
    "aggregator.rasterize_gdf(origins_join2, 'tt_water', raster_path, os.path.join(out_folder ,f\"tt_water_all.tif\"))"
   ]
  }
 ],
 "metadata": {
  "kernelspec": {
   "display_name": "GEO",
   "language": "python",
   "name": "geo"
  },
  "language_info": {
   "codemirror_mode": {
    "name": "ipython",
    "version": 3
   },
   "file_extension": ".py",
   "mimetype": "text/x-python",
   "name": "python",
   "nbconvert_exporter": "python",
   "pygments_lexer": "ipython3",
   "version": "3.7.6"
  }
 },
 "nbformat": 4,
 "nbformat_minor": 2
}
