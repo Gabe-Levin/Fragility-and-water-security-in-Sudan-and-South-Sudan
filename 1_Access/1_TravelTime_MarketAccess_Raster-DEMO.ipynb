{
 "cells": [
  {
   "cell_type": "markdown",
   "metadata": {},
   "source": [
    "## Country-level INFRA-SAP"
   ]
  },
  {
   "cell_type": "markdown",
   "metadata": {},
   "source": [
    "This notebook exemplifies a simple market access estimation based on global datasets:\n",
    "\n",
    "- **Global Friction Surface (Malaria Atlas Project)**  \n",
    "see: https://developers.google.com/earth-engine/datasets/catalog/Oxford_MAP_friction_surface_2019\n",
    "\n",
    "\n",
    "- **World Pop 1 km Population Grid**"
   ]
  },
  {
   "cell_type": "code",
   "execution_count": 1,
   "metadata": {},
   "outputs": [],
   "source": [
    "import os, sys, time, importlib\n",
    "\n",
    "import geopandas as gpd\n",
    "import pandas as pd\n",
    "import networkx as nx\n",
    "sys.path.append('/home/wb514197/Repos/GOSTnets')\n",
    "\n",
    "import GOSTnets as gn\n",
    "import GOSTnets.calculate_od_raw as calcOD\n",
    "from GOSTnets.load_osm import *\n",
    "import rasterio as rio\n",
    "from osgeo import gdal\n",
    "import numpy as np\n",
    "from shapely.geometry import Point\n",
    "\n",
    "sys.path.append('/home/wb514197/Repos/INFRA_SAP')\n",
    "from infrasap import aggregator\n",
    "from utm_zone import epsg as epsg_get\n",
    "import json\n",
    "\n",
    "%load_ext autoreload\n",
    "%autoreload 2"
   ]
  },
  {
   "cell_type": "code",
   "execution_count": 2,
   "metadata": {},
   "outputs": [],
   "source": [
    "sys.path.append('/home/wb514197/Repos/gostrocks/src')\n",
    "sys.path.append('/home/wb514197/Repos/GOSTNets_Raster/src')"
   ]
  },
  {
   "cell_type": "code",
   "execution_count": 3,
   "metadata": {},
   "outputs": [],
   "source": [
    "import GOSTRocks.rasterMisc as rMisc\n",
    "import GOSTNetsRaster.market_access as ma\n",
    "import skimage.graph as graph"
   ]
  },
  {
   "cell_type": "markdown",
   "metadata": {},
   "source": [
    "### Load origins and graph"
   ]
  },
  {
   "cell_type": "code",
   "execution_count": 5,
   "metadata": {},
   "outputs": [],
   "source": [
    "# base_in = \"/home/public/Data/PROJECTS/INFRA_SAP\"\n",
    "base_in = \"/home/wb514197/data/INFRA_SAP\"\n",
    "in_folder = os.path.join(base_in, iso3)\n",
    "\n",
    "# define data paths\n",
    "focal_admin2 = os.path.join(in_folder, \"admin.shp\")\n",
    "focal_osm = os.path.join(in_folder, f\"{country}-latest.osm.pbf\")\n",
    "pop_name = \"WP_2020_1km\"\n",
    "wp_1km = os.path.join(in_folder, f\"{pop_name}.tif\")\n",
    "urban_extents = os.path.join(in_folder, \"urban_extents.shp\")\n",
    "airports = os.path.join(in_folder, \"airports.shp\")\n",
    "ports = os.path.join(in_folder, \"ports.shp\")\n",
    "borders = os.path.join(in_folder, \"borders.shp\")\n",
    "\n",
    "out_folder = os.path.join(in_folder, \"output\")\n",
    "if not os.path.exists(out_folder):\n",
    "    os.makedirs(out_folder)"
   ]
  },
  {
   "cell_type": "markdown",
   "metadata": {},
   "source": [
    "### Clip friction surface and population to country extent"
   ]
  },
  {
   "cell_type": "code",
   "execution_count": 4,
   "metadata": {},
   "outputs": [],
   "source": [
    "global_friction_surface = \"/home/public/Data/GLOBAL/INFRA/FRICTION_2020/2020_motorized_friction_surface.geotiff\"\n",
    "global_population = \"/home/public/Data/GLOBAL/Population/WorldPop_PPP_2020/ppp_2020_1km_Aggregated.tif\"\n",
    "inG = rio.open(global_friction_surface)\n",
    "inP = rio.open(global_population)\n",
    "\n",
    "# Read in country bounds\n",
    "global_bounds = \"/home/public/Data/GLOBAL/ADMIN/Admin0_Polys.shp\"\n",
    "admin1 = \"/home/public/Data/GLOBAL/ADMIN/Admin1_Polys.shp\"\n",
    "admin2 = \"/home/wb514197/data/PAK/pakistan_indicators.shp\"\n",
    "\n",
    "inB = gpd.read_file(global_bounds)\n",
    "inB = inB.loc[inB['ISO3'] == iso3]\n",
    "inB = inB.to_crs(inG.crs.to_string())"
   ]
  },
  {
   "cell_type": "code",
   "execution_count": 5,
   "metadata": {},
   "outputs": [],
   "source": [
    "# Clip the travel raster to ISO3\n",
    "out_travel_surface = os.path.join(data_dir, \"TRAVEL_SURFACE.tif\")\n",
    "rMisc.clipRaster(inG, inB, out_travel_surface)\n",
    "\n",
    "# Clip the population raster to ISO3\n",
    "out_pop_surface = os.path.join(data_dir, \"POP_2020_NEW.tif\")\n",
    "rMisc.clipRaster(inP, inB, out_pop_surface)"
   ]
  },
  {
   "cell_type": "code",
   "execution_count": 8,
   "metadata": {},
   "outputs": [],
   "source": [
    "travel_surf = rio.open(out_travel_surface)\n",
    "pop_surf = rio.open(out_pop_surface)"
   ]
  },
  {
   "cell_type": "code",
   "execution_count": 7,
   "metadata": {},
   "outputs": [],
   "source": [
    "# Make sure that both rasters have the exact same resolution, crs, and number of pixels\n",
    "out_pop_surface_std = os.path.join(data_dir, \"POP_2020_NEW_STD.tif\")\n",
    "rMisc.standardizeInputRasters(pop_surf, travel_surf, os.path.join(data_dir, \"POP_2020_NEW_STD.tif\"), data_type=\"C\")"
   ]
  },
  {
   "cell_type": "markdown",
   "metadata": {},
   "source": [
    "### Prepare Raster"
   ]
  },
  {
   "cell_type": "code",
   "execution_count": 15,
   "metadata": {},
   "outputs": [],
   "source": [
    "travel_surf = rio.open(out_travel_surface)"
   ]
  },
  {
   "cell_type": "code",
   "execution_count": 11,
   "metadata": {},
   "outputs": [],
   "source": [
    "pop_surf = rio.open(out_pop_surface_std)\n",
    "pop = pop_surf.read(1, masked=True)\n",
    "indices = list(np.ndindex(pop.shape))\n",
    "xys = [pop_surf.xy(ind[0], ind[1]) for ind in indices]\n",
    "res_df = pd.DataFrame({\n",
    "    'spatial_index': indices, \n",
    "    'xy': xys, \n",
    "    'pop': pop.flatten()\n",
    "})\n",
    "res_df['pointid'] = res_df.index"
   ]
  },
  {
   "cell_type": "code",
   "execution_count": 12,
   "metadata": {},
   "outputs": [
    {
     "data": {
      "text/plain": [
       "2510475"
      ]
     },
     "execution_count": 12,
     "metadata": {},
     "output_type": "execute_result"
    }
   ],
   "source": [
    "len(res_df)"
   ]
  },
  {
   "cell_type": "code",
   "execution_count": 13,
   "metadata": {},
   "outputs": [],
   "source": [
    "# create MCP object\n",
    "inG_data = travel_surf.read(1) * 1000 #\n",
    "# Correct no data values\n",
    "inG_data[inG_data < 0] = 99999999\n",
    "# inG_data[inG_data < 0] = np.nan\n",
    "mcp = graph.MCP_Geometric(inG_data)"
   ]
  },
  {
   "cell_type": "markdown",
   "metadata": {},
   "source": [
    "### Prepare destinations"
   ]
  },
  {
   "cell_type": "code",
   "execution_count": 14,
   "metadata": {},
   "outputs": [],
   "source": [
    "inCities = gpd.read_file(urban_extents)\n",
    "pop_thresh=50000\n",
    "inCities = inCities.loc[inCities.Pop>pop_thresh]"
   ]
  },
  {
   "cell_type": "code",
   "execution_count": 15,
   "metadata": {},
   "outputs": [],
   "source": [
    "inCities['geometry'] = inCities.geometry.representative_point()\n",
    "dest_cities = inCities.assign(dest_type = 'city')"
   ]
  },
  {
   "cell_type": "code",
   "execution_count": 16,
   "metadata": {},
   "outputs": [],
   "source": [
    "dest_airports = gpd.read_file(airports)\n",
    "dest_airports = dest_airports.assign(dest_type = 'airport')"
   ]
  },
  {
   "cell_type": "code",
   "execution_count": 17,
   "metadata": {},
   "outputs": [],
   "source": [
    "dest_ports = gpd.read_file(ports).assign(dest_type = 'port')\n",
    "dest_borders = gpd.read_file(borders).assign(dest_type = 'border')\n",
    "dest_borders['geometry'] = dest_borders.geometry.apply(lambda x: x[0])"
   ]
  },
  {
   "cell_type": "code",
   "execution_count": 18,
   "metadata": {
    "scrolled": true
   },
   "outputs": [],
   "source": [
    "dest_all = pd.concat([dest_cities, dest_airports, dest_ports, dest_borders], ignore_index=True) # dest_borders"
   ]
  },
  {
   "cell_type": "code",
   "execution_count": 19,
   "metadata": {},
   "outputs": [
    {
     "data": {
      "text/plain": [
       "border     32\n",
       "city       29\n",
       "airport    12\n",
       "port        4\n",
       "Name: dest_type, dtype: int64"
      ]
     },
     "execution_count": 19,
     "metadata": {},
     "output_type": "execute_result"
    }
   ],
   "source": [
    "dest_all.dest_type.value_counts()"
   ]
  },
  {
   "cell_type": "code",
   "execution_count": 21,
   "metadata": {},
   "outputs": [],
   "source": [
    "dest_all.to_file(os.path.join(out_folder, 'destination_all.shp'), driver=\"ESRI Shapefile\")"
   ]
  },
  {
   "cell_type": "code",
   "execution_count": 23,
   "metadata": {},
   "outputs": [
    {
     "name": "stderr",
     "output_type": "stream",
     "text": [
      "77it [02:33,  1.99s/it]\n"
     ]
    }
   ],
   "source": [
    "# for each destination get cost of travel for every origin\n",
    "for idx, dest in tqdm(dest_all.iterrows()):\n",
    "    dest_gdf = gpd.GeoDataFrame([dest], geometry='geometry', crs='EPSG:4326')\n",
    "    res = ma.calculate_travel_time(travel_surf, mcp, dest_gdf)[0]\n",
    "    res_df.loc[:,idx] = res.flatten()"
   ]
  },
  {
   "cell_type": "code",
   "execution_count": 24,
   "metadata": {},
   "outputs": [
    {
     "data": {
      "text/html": [
       "<div>\n",
       "<style scoped>\n",
       "    .dataframe tbody tr th:only-of-type {\n",
       "        vertical-align: middle;\n",
       "    }\n",
       "\n",
       "    .dataframe tbody tr th {\n",
       "        vertical-align: top;\n",
       "    }\n",
       "\n",
       "    .dataframe thead th {\n",
       "        text-align: right;\n",
       "    }\n",
       "</style>\n",
       "<table border=\"1\" class=\"dataframe\">\n",
       "  <thead>\n",
       "    <tr style=\"text-align: right;\">\n",
       "      <th></th>\n",
       "      <th>spatial_index</th>\n",
       "      <th>xy</th>\n",
       "      <th>pop</th>\n",
       "      <th>pointid</th>\n",
       "      <th>0</th>\n",
       "      <th>1</th>\n",
       "      <th>2</th>\n",
       "      <th>3</th>\n",
       "      <th>4</th>\n",
       "      <th>5</th>\n",
       "      <th>...</th>\n",
       "      <th>67</th>\n",
       "      <th>68</th>\n",
       "      <th>69</th>\n",
       "      <th>70</th>\n",
       "      <th>71</th>\n",
       "      <th>72</th>\n",
       "      <th>73</th>\n",
       "      <th>74</th>\n",
       "      <th>75</th>\n",
       "      <th>76</th>\n",
       "    </tr>\n",
       "  </thead>\n",
       "  <tbody>\n",
       "    <tr>\n",
       "      <th>0</th>\n",
       "      <td>(0, 0)</td>\n",
       "      <td>(30.220833333333335, -10.470833333333335)</td>\n",
       "      <td>NaN</td>\n",
       "      <td>0</td>\n",
       "      <td>5.000203e+07</td>\n",
       "      <td>5.000183e+07</td>\n",
       "      <td>5.000134e+07</td>\n",
       "      <td>5.000101e+07</td>\n",
       "      <td>5.000196e+07</td>\n",
       "      <td>5.000141e+07</td>\n",
       "      <td>...</td>\n",
       "      <td>5.000118e+07</td>\n",
       "      <td>5.000118e+07</td>\n",
       "      <td>5.000117e+07</td>\n",
       "      <td>5.000117e+07</td>\n",
       "      <td>5.000122e+07</td>\n",
       "      <td>5.000122e+07</td>\n",
       "      <td>5.000129e+07</td>\n",
       "      <td>5.000129e+07</td>\n",
       "      <td>5.000221e+07</td>\n",
       "      <td>5.000221e+07</td>\n",
       "    </tr>\n",
       "    <tr>\n",
       "      <th>1</th>\n",
       "      <td>(0, 1)</td>\n",
       "      <td>(30.229166666666668, -10.470833333333335)</td>\n",
       "      <td>NaN</td>\n",
       "      <td>1</td>\n",
       "      <td>5.000202e+07</td>\n",
       "      <td>5.000182e+07</td>\n",
       "      <td>5.000133e+07</td>\n",
       "      <td>5.000100e+07</td>\n",
       "      <td>5.000194e+07</td>\n",
       "      <td>5.000140e+07</td>\n",
       "      <td>...</td>\n",
       "      <td>5.000117e+07</td>\n",
       "      <td>5.000117e+07</td>\n",
       "      <td>5.000116e+07</td>\n",
       "      <td>5.000116e+07</td>\n",
       "      <td>5.000121e+07</td>\n",
       "      <td>5.000121e+07</td>\n",
       "      <td>5.000128e+07</td>\n",
       "      <td>5.000128e+07</td>\n",
       "      <td>5.000219e+07</td>\n",
       "      <td>5.000219e+07</td>\n",
       "    </tr>\n",
       "    <tr>\n",
       "      <th>2</th>\n",
       "      <td>(0, 2)</td>\n",
       "      <td>(30.2375, -10.470833333333335)</td>\n",
       "      <td>NaN</td>\n",
       "      <td>2</td>\n",
       "      <td>5.000200e+07</td>\n",
       "      <td>5.000181e+07</td>\n",
       "      <td>5.000131e+07</td>\n",
       "      <td>5.000098e+07</td>\n",
       "      <td>5.000193e+07</td>\n",
       "      <td>5.000138e+07</td>\n",
       "      <td>...</td>\n",
       "      <td>5.000115e+07</td>\n",
       "      <td>5.000115e+07</td>\n",
       "      <td>5.000114e+07</td>\n",
       "      <td>5.000114e+07</td>\n",
       "      <td>5.000119e+07</td>\n",
       "      <td>5.000119e+07</td>\n",
       "      <td>5.000126e+07</td>\n",
       "      <td>5.000126e+07</td>\n",
       "      <td>5.000218e+07</td>\n",
       "      <td>5.000218e+07</td>\n",
       "    </tr>\n",
       "    <tr>\n",
       "      <th>3</th>\n",
       "      <td>(0, 3)</td>\n",
       "      <td>(30.245833333333334, -10.470833333333335)</td>\n",
       "      <td>NaN</td>\n",
       "      <td>3</td>\n",
       "      <td>5.000201e+07</td>\n",
       "      <td>5.000181e+07</td>\n",
       "      <td>5.000131e+07</td>\n",
       "      <td>5.000099e+07</td>\n",
       "      <td>5.000193e+07</td>\n",
       "      <td>5.000138e+07</td>\n",
       "      <td>...</td>\n",
       "      <td>5.000116e+07</td>\n",
       "      <td>5.000116e+07</td>\n",
       "      <td>5.000114e+07</td>\n",
       "      <td>5.000114e+07</td>\n",
       "      <td>5.000119e+07</td>\n",
       "      <td>5.000119e+07</td>\n",
       "      <td>5.000127e+07</td>\n",
       "      <td>5.000127e+07</td>\n",
       "      <td>5.000218e+07</td>\n",
       "      <td>5.000218e+07</td>\n",
       "    </tr>\n",
       "    <tr>\n",
       "      <th>4</th>\n",
       "      <td>(0, 4)</td>\n",
       "      <td>(30.25416666666667, -10.470833333333335)</td>\n",
       "      <td>NaN</td>\n",
       "      <td>4</td>\n",
       "      <td>5.000202e+07</td>\n",
       "      <td>5.000182e+07</td>\n",
       "      <td>5.000133e+07</td>\n",
       "      <td>5.000100e+07</td>\n",
       "      <td>5.000195e+07</td>\n",
       "      <td>5.000140e+07</td>\n",
       "      <td>...</td>\n",
       "      <td>5.000117e+07</td>\n",
       "      <td>5.000117e+07</td>\n",
       "      <td>5.000116e+07</td>\n",
       "      <td>5.000116e+07</td>\n",
       "      <td>5.000121e+07</td>\n",
       "      <td>5.000121e+07</td>\n",
       "      <td>5.000128e+07</td>\n",
       "      <td>5.000128e+07</td>\n",
       "      <td>5.000219e+07</td>\n",
       "      <td>5.000219e+07</td>\n",
       "    </tr>\n",
       "  </tbody>\n",
       "</table>\n",
       "<p>5 rows × 81 columns</p>\n",
       "</div>"
      ],
      "text/plain": [
       "  spatial_index                                         xy  pop  pointid  \\\n",
       "0        (0, 0)  (30.220833333333335, -10.470833333333335)  NaN        0   \n",
       "1        (0, 1)  (30.229166666666668, -10.470833333333335)  NaN        1   \n",
       "2        (0, 2)             (30.2375, -10.470833333333335)  NaN        2   \n",
       "3        (0, 3)  (30.245833333333334, -10.470833333333335)  NaN        3   \n",
       "4        (0, 4)   (30.25416666666667, -10.470833333333335)  NaN        4   \n",
       "\n",
       "              0             1             2             3             4  \\\n",
       "0  5.000203e+07  5.000183e+07  5.000134e+07  5.000101e+07  5.000196e+07   \n",
       "1  5.000202e+07  5.000182e+07  5.000133e+07  5.000100e+07  5.000194e+07   \n",
       "2  5.000200e+07  5.000181e+07  5.000131e+07  5.000098e+07  5.000193e+07   \n",
       "3  5.000201e+07  5.000181e+07  5.000131e+07  5.000099e+07  5.000193e+07   \n",
       "4  5.000202e+07  5.000182e+07  5.000133e+07  5.000100e+07  5.000195e+07   \n",
       "\n",
       "              5  ...            67            68            69            70  \\\n",
       "0  5.000141e+07  ...  5.000118e+07  5.000118e+07  5.000117e+07  5.000117e+07   \n",
       "1  5.000140e+07  ...  5.000117e+07  5.000117e+07  5.000116e+07  5.000116e+07   \n",
       "2  5.000138e+07  ...  5.000115e+07  5.000115e+07  5.000114e+07  5.000114e+07   \n",
       "3  5.000138e+07  ...  5.000116e+07  5.000116e+07  5.000114e+07  5.000114e+07   \n",
       "4  5.000140e+07  ...  5.000117e+07  5.000117e+07  5.000116e+07  5.000116e+07   \n",
       "\n",
       "             71            72            73            74            75  \\\n",
       "0  5.000122e+07  5.000122e+07  5.000129e+07  5.000129e+07  5.000221e+07   \n",
       "1  5.000121e+07  5.000121e+07  5.000128e+07  5.000128e+07  5.000219e+07   \n",
       "2  5.000119e+07  5.000119e+07  5.000126e+07  5.000126e+07  5.000218e+07   \n",
       "3  5.000119e+07  5.000119e+07  5.000127e+07  5.000127e+07  5.000218e+07   \n",
       "4  5.000121e+07  5.000121e+07  5.000128e+07  5.000128e+07  5.000219e+07   \n",
       "\n",
       "             76  \n",
       "0  5.000221e+07  \n",
       "1  5.000219e+07  \n",
       "2  5.000218e+07  \n",
       "3  5.000218e+07  \n",
       "4  5.000219e+07  \n",
       "\n",
       "[5 rows x 81 columns]"
      ]
     },
     "execution_count": 24,
     "metadata": {},
     "output_type": "execute_result"
    }
   ],
   "source": [
    "res_df.head()"
   ]
  },
  {
   "cell_type": "code",
   "execution_count": 25,
   "metadata": {},
   "outputs": [],
   "source": [
    "# remove values where pop is 0 or nan\n",
    "res_df = res_df.loc[res_df['pop']!=0].copy()\n",
    "res_df = res_df.loc[~(res_df['pop'].isna())].copy()"
   ]
  },
  {
   "cell_type": "code",
   "execution_count": 26,
   "metadata": {},
   "outputs": [],
   "source": [
    "res_df.loc[:,'xy'] = res_df.loc[:,'xy'].apply(lambda x: Point(x))"
   ]
  },
  {
   "cell_type": "code",
   "execution_count": 27,
   "metadata": {},
   "outputs": [
    {
     "data": {
      "text/plain": [
       "959933"
      ]
     },
     "execution_count": 27,
     "metadata": {},
     "output_type": "execute_result"
    }
   ],
   "source": [
    "len(res_df)"
   ]
  },
  {
   "cell_type": "markdown",
   "metadata": {},
   "source": [
    "Remove values where travel time was undefined"
   ]
  },
  {
   "cell_type": "code",
   "execution_count": 28,
   "metadata": {},
   "outputs": [],
   "source": [
    "res_df = res_df.loc[res_df[0]<99999999]"
   ]
  },
  {
   "cell_type": "code",
   "execution_count": 29,
   "metadata": {},
   "outputs": [],
   "source": [
    "origins_join = res_df.copy()"
   ]
  },
  {
   "cell_type": "code",
   "execution_count": 30,
   "metadata": {},
   "outputs": [
    {
     "data": {
      "text/plain": [
       "True"
      ]
     },
     "execution_count": 30,
     "metadata": {},
     "output_type": "execute_result"
    }
   ],
   "source": [
    "all(origins_join.columns[4:] == dest_all.index)"
   ]
  },
  {
   "cell_type": "code",
   "execution_count": 31,
   "metadata": {},
   "outputs": [
    {
     "data": {
      "text/plain": [
       "Index(['spatial_index',            'xy',           'pop',       'pointid',\n",
       "                     0,               1,               2,               3,\n",
       "                     4,               5,               6,               7,\n",
       "                     8,               9,              10,              11,\n",
       "                    12,              13,              14,              15,\n",
       "                    16,              17,              18,              19,\n",
       "                    20,              21,              22,              23,\n",
       "                    24,              25,              26,              27,\n",
       "                    28,              29,              30,              31,\n",
       "                    32,              33,              34,              35,\n",
       "                    36,              37,              38,              39,\n",
       "                    40,              41,              42,              43,\n",
       "                    44,              45,              46,              47,\n",
       "                    48,              49,              50,              51,\n",
       "                    52,              53,              54,              55,\n",
       "                    56,              57,              58,              59,\n",
       "                    60,              61,              62,              63,\n",
       "                    64,              65,              66,              67,\n",
       "                    68,              69,              70,              71,\n",
       "                    72,              73,              74,              75,\n",
       "                    76],\n",
       "      dtype='object')"
      ]
     },
     "execution_count": 31,
     "metadata": {},
     "output_type": "execute_result"
    }
   ],
   "source": [
    "res_df.columns"
   ]
  },
  {
   "cell_type": "code",
   "execution_count": 32,
   "metadata": {},
   "outputs": [],
   "source": [
    "origins_join_rename = origins_join.copy()\n",
    "origins_join_rename.columns = pd.MultiIndex.from_arrays([['origin' for each in origins_join.columns[:4]]+list(dest_all.dest_type), origins_join.columns])"
   ]
  },
  {
   "cell_type": "code",
   "execution_count": 33,
   "metadata": {
    "scrolled": true
   },
   "outputs": [
    {
     "data": {
      "text/html": [
       "<div>\n",
       "<style scoped>\n",
       "    .dataframe tbody tr th:only-of-type {\n",
       "        vertical-align: middle;\n",
       "    }\n",
       "\n",
       "    .dataframe tbody tr th {\n",
       "        vertical-align: top;\n",
       "    }\n",
       "\n",
       "    .dataframe thead tr th {\n",
       "        text-align: left;\n",
       "    }\n",
       "</style>\n",
       "<table border=\"1\" class=\"dataframe\">\n",
       "  <thead>\n",
       "    <tr>\n",
       "      <th></th>\n",
       "      <th colspan=\"4\" halign=\"left\">origin</th>\n",
       "      <th colspan=\"6\" halign=\"left\">city</th>\n",
       "      <th>...</th>\n",
       "      <th colspan=\"10\" halign=\"left\">border</th>\n",
       "    </tr>\n",
       "    <tr>\n",
       "      <th></th>\n",
       "      <th>spatial_index</th>\n",
       "      <th>xy</th>\n",
       "      <th>pop</th>\n",
       "      <th>pointid</th>\n",
       "      <th>0</th>\n",
       "      <th>1</th>\n",
       "      <th>2</th>\n",
       "      <th>3</th>\n",
       "      <th>4</th>\n",
       "      <th>5</th>\n",
       "      <th>...</th>\n",
       "      <th>67</th>\n",
       "      <th>68</th>\n",
       "      <th>69</th>\n",
       "      <th>70</th>\n",
       "      <th>71</th>\n",
       "      <th>72</th>\n",
       "      <th>73</th>\n",
       "      <th>74</th>\n",
       "      <th>75</th>\n",
       "      <th>76</th>\n",
       "    </tr>\n",
       "  </thead>\n",
       "  <tbody>\n",
       "    <tr>\n",
       "      <th>1226</th>\n",
       "      <td>(0, 1226)</td>\n",
       "      <td>POINT (40.4375 -10.47083333333333)</td>\n",
       "      <td>12.027128</td>\n",
       "      <td>1226</td>\n",
       "      <td>5.000052e+07</td>\n",
       "      <td>5.000054e+07</td>\n",
       "      <td>5.000111e+07</td>\n",
       "      <td>5.000145e+07</td>\n",
       "      <td>5.000076e+07</td>\n",
       "      <td>5.000106e+07</td>\n",
       "      <td>...</td>\n",
       "      <td>5.000147e+07</td>\n",
       "      <td>5.000147e+07</td>\n",
       "      <td>5.000146e+07</td>\n",
       "      <td>5.000146e+07</td>\n",
       "      <td>5.000154e+07</td>\n",
       "      <td>5.000154e+07</td>\n",
       "      <td>5.000129e+07</td>\n",
       "      <td>5.000129e+07</td>\n",
       "      <td>5.000003e+07</td>\n",
       "      <td>5.000003e+07</td>\n",
       "    </tr>\n",
       "    <tr>\n",
       "      <th>1227</th>\n",
       "      <td>(0, 1227)</td>\n",
       "      <td>POINT (40.44583333333333 -10.47083333333333)</td>\n",
       "      <td>10.314653</td>\n",
       "      <td>1227</td>\n",
       "      <td>5.000055e+07</td>\n",
       "      <td>5.000057e+07</td>\n",
       "      <td>5.000114e+07</td>\n",
       "      <td>5.000148e+07</td>\n",
       "      <td>5.000079e+07</td>\n",
       "      <td>5.000109e+07</td>\n",
       "      <td>...</td>\n",
       "      <td>5.000150e+07</td>\n",
       "      <td>5.000150e+07</td>\n",
       "      <td>5.000149e+07</td>\n",
       "      <td>5.000149e+07</td>\n",
       "      <td>5.000157e+07</td>\n",
       "      <td>5.000157e+07</td>\n",
       "      <td>5.000132e+07</td>\n",
       "      <td>5.000132e+07</td>\n",
       "      <td>5.000006e+07</td>\n",
       "      <td>5.000006e+07</td>\n",
       "    </tr>\n",
       "    <tr>\n",
       "      <th>1228</th>\n",
       "      <td>(0, 1228)</td>\n",
       "      <td>POINT (40.45416666666667 -10.47083333333333)</td>\n",
       "      <td>8.879251</td>\n",
       "      <td>1228</td>\n",
       "      <td>5.000054e+07</td>\n",
       "      <td>5.000056e+07</td>\n",
       "      <td>5.000114e+07</td>\n",
       "      <td>5.000148e+07</td>\n",
       "      <td>5.000079e+07</td>\n",
       "      <td>5.000109e+07</td>\n",
       "      <td>...</td>\n",
       "      <td>5.000149e+07</td>\n",
       "      <td>5.000149e+07</td>\n",
       "      <td>5.000148e+07</td>\n",
       "      <td>5.000148e+07</td>\n",
       "      <td>5.000156e+07</td>\n",
       "      <td>5.000156e+07</td>\n",
       "      <td>5.000132e+07</td>\n",
       "      <td>5.000132e+07</td>\n",
       "      <td>5.000007e+07</td>\n",
       "      <td>5.000007e+07</td>\n",
       "    </tr>\n",
       "    <tr>\n",
       "      <th>1229</th>\n",
       "      <td>(0, 1229)</td>\n",
       "      <td>POINT (40.46250000000001 -10.47083333333333)</td>\n",
       "      <td>7.824205</td>\n",
       "      <td>1229</td>\n",
       "      <td>5.000054e+07</td>\n",
       "      <td>5.000056e+07</td>\n",
       "      <td>5.000113e+07</td>\n",
       "      <td>5.000147e+07</td>\n",
       "      <td>5.000078e+07</td>\n",
       "      <td>5.000108e+07</td>\n",
       "      <td>...</td>\n",
       "      <td>5.000149e+07</td>\n",
       "      <td>5.000149e+07</td>\n",
       "      <td>5.000148e+07</td>\n",
       "      <td>5.000148e+07</td>\n",
       "      <td>5.000155e+07</td>\n",
       "      <td>5.000155e+07</td>\n",
       "      <td>5.000131e+07</td>\n",
       "      <td>5.000131e+07</td>\n",
       "      <td>5.000007e+07</td>\n",
       "      <td>5.000007e+07</td>\n",
       "    </tr>\n",
       "    <tr>\n",
       "      <th>2500</th>\n",
       "      <td>(1, 1225)</td>\n",
       "      <td>POINT (40.42916666666667 -10.47916666666667)</td>\n",
       "      <td>11.924029</td>\n",
       "      <td>2500</td>\n",
       "      <td>5.145629e+02</td>\n",
       "      <td>5.352954e+02</td>\n",
       "      <td>1.110124e+03</td>\n",
       "      <td>1.448182e+03</td>\n",
       "      <td>7.586303e+02</td>\n",
       "      <td>1.059558e+03</td>\n",
       "      <td>...</td>\n",
       "      <td>1.465990e+03</td>\n",
       "      <td>1.465990e+03</td>\n",
       "      <td>1.453439e+03</td>\n",
       "      <td>1.453439e+03</td>\n",
       "      <td>1.532588e+03</td>\n",
       "      <td>1.532588e+03</td>\n",
       "      <td>1.291054e+03</td>\n",
       "      <td>1.291054e+03</td>\n",
       "      <td>2.620384e+01</td>\n",
       "      <td>2.620384e+01</td>\n",
       "    </tr>\n",
       "  </tbody>\n",
       "</table>\n",
       "<p>5 rows × 81 columns</p>\n",
       "</div>"
      ],
      "text/plain": [
       "            origin                                                           \\\n",
       "     spatial_index                                            xy        pop   \n",
       "1226     (0, 1226)            POINT (40.4375 -10.47083333333333)  12.027128   \n",
       "1227     (0, 1227)  POINT (40.44583333333333 -10.47083333333333)  10.314653   \n",
       "1228     (0, 1228)  POINT (40.45416666666667 -10.47083333333333)   8.879251   \n",
       "1229     (0, 1229)  POINT (40.46250000000001 -10.47083333333333)   7.824205   \n",
       "2500     (1, 1225)  POINT (40.42916666666667 -10.47916666666667)  11.924029   \n",
       "\n",
       "                      city                                            \\\n",
       "     pointid             0             1             2             3   \n",
       "1226    1226  5.000052e+07  5.000054e+07  5.000111e+07  5.000145e+07   \n",
       "1227    1227  5.000055e+07  5.000057e+07  5.000114e+07  5.000148e+07   \n",
       "1228    1228  5.000054e+07  5.000056e+07  5.000114e+07  5.000148e+07   \n",
       "1229    1229  5.000054e+07  5.000056e+07  5.000113e+07  5.000147e+07   \n",
       "2500    2500  5.145629e+02  5.352954e+02  1.110124e+03  1.448182e+03   \n",
       "\n",
       "                                  ...        border                \\\n",
       "                 4             5  ...            67            68   \n",
       "1226  5.000076e+07  5.000106e+07  ...  5.000147e+07  5.000147e+07   \n",
       "1227  5.000079e+07  5.000109e+07  ...  5.000150e+07  5.000150e+07   \n",
       "1228  5.000079e+07  5.000109e+07  ...  5.000149e+07  5.000149e+07   \n",
       "1229  5.000078e+07  5.000108e+07  ...  5.000149e+07  5.000149e+07   \n",
       "2500  7.586303e+02  1.059558e+03  ...  1.465990e+03  1.465990e+03   \n",
       "\n",
       "                                                                            \\\n",
       "                69            70            71            72            73   \n",
       "1226  5.000146e+07  5.000146e+07  5.000154e+07  5.000154e+07  5.000129e+07   \n",
       "1227  5.000149e+07  5.000149e+07  5.000157e+07  5.000157e+07  5.000132e+07   \n",
       "1228  5.000148e+07  5.000148e+07  5.000156e+07  5.000156e+07  5.000132e+07   \n",
       "1229  5.000148e+07  5.000148e+07  5.000155e+07  5.000155e+07  5.000131e+07   \n",
       "2500  1.453439e+03  1.453439e+03  1.532588e+03  1.532588e+03  1.291054e+03   \n",
       "\n",
       "                                                \n",
       "                74            75            76  \n",
       "1226  5.000129e+07  5.000003e+07  5.000003e+07  \n",
       "1227  5.000132e+07  5.000006e+07  5.000006e+07  \n",
       "1228  5.000132e+07  5.000007e+07  5.000007e+07  \n",
       "1229  5.000131e+07  5.000007e+07  5.000007e+07  \n",
       "2500  1.291054e+03  2.620384e+01  2.620384e+01  \n",
       "\n",
       "[5 rows x 81 columns]"
      ]
     },
     "execution_count": 33,
     "metadata": {},
     "output_type": "execute_result"
    }
   ],
   "source": [
    "origins_join_rename.head()"
   ]
  },
  {
   "cell_type": "code",
   "execution_count": 34,
   "metadata": {},
   "outputs": [],
   "source": [
    "origins_join2 = origins_join_rename.copy()"
   ]
  },
  {
   "cell_type": "code",
   "execution_count": 35,
   "metadata": {},
   "outputs": [],
   "source": [
    "origins_join2.to_csv(os.path.join(out_folder, 'OD_11_11_RASTER.csv'))"
   ]
  },
  {
   "cell_type": "code",
   "execution_count": 36,
   "metadata": {},
   "outputs": [],
   "source": [
    "origins_snapped = res_df.iloc[:,0:4]"
   ]
  },
  {
   "cell_type": "code",
   "execution_count": 37,
   "metadata": {},
   "outputs": [],
   "source": [
    "origins_snapped = gpd.GeoDataFrame(origins_snapped, geometry='xy', crs='EPSG:4326')"
   ]
  },
  {
   "cell_type": "code",
   "execution_count": 38,
   "metadata": {},
   "outputs": [],
   "source": [
    "origins_snapped.rename(columns={'xy':'geometry'}, inplace=True)"
   ]
  },
  {
   "cell_type": "markdown",
   "metadata": {},
   "source": [
    "#### Convert to raster and save results"
   ]
  },
  {
   "cell_type": "code",
   "execution_count": 56,
   "metadata": {},
   "outputs": [],
   "source": [
    "raster_path = out_pop_surface_std"
   ]
  },
  {
   "cell_type": "code",
   "execution_count": 57,
   "metadata": {},
   "outputs": [],
   "source": [
    "output_path = os.path.join(out_folder, \"access_ras\")\n",
    "if not os.path.exists(output_path):\n",
    "    os.mkdir(output_path)"
   ]
  },
  {
   "cell_type": "markdown",
   "metadata": {},
   "source": [
    "### Make rasters of min travel time to each dest"
   ]
  },
  {
   "cell_type": "code",
   "execution_count": 40,
   "metadata": {},
   "outputs": [],
   "source": [
    "output_path = os.path.join(out_folder, \"travel_time_ras\")\n",
    "if not os.path.exists(output_path):\n",
    "    os.mkdir(output_path)"
   ]
  },
  {
   "cell_type": "code",
   "execution_count": 42,
   "metadata": {},
   "outputs": [],
   "source": [
    "city_min = pd.DataFrame(origins_join2['city'].min(axis=1).apply(lambda x: (x/60)), columns=[\"tt_city\"])\n",
    "ports_min = pd.DataFrame(origins_join2['port'].min(axis=1).apply(lambda x: (x/60)), columns=[\"tt_port\"])\n",
    "airports_min = pd.DataFrame(origins_join2['airport'].min(axis=1).apply(lambda x: (x/60)), columns=[\"tt_airport\"])\n",
    "borders_min = pd.DataFrame(origins_join2['border'].min(axis=1).apply(lambda x: (x/60)), columns=[\"tt_border\"])"
   ]
  },
  {
   "cell_type": "code",
   "execution_count": 43,
   "metadata": {},
   "outputs": [],
   "source": [
    "origins_tt = origins_snapped.join([city_min, airports_min, capital_tt, ports_min, borders_min])"
   ]
  },
  {
   "cell_type": "code",
   "execution_count": 46,
   "metadata": {},
   "outputs": [
    {
     "data": {
      "text/plain": [
       "'/home/wb514197/data/INFRA_SAP/MOZ/output/WP_2020_1km_STD.tif'"
      ]
     },
     "execution_count": 46,
     "metadata": {},
     "output_type": "execute_result"
    }
   ],
   "source": [
    "raster_path"
   ]
  },
  {
   "cell_type": "code",
   "execution_count": null,
   "metadata": {},
   "outputs": [],
   "source": [
    "aggregator.rasterize_gdf(origins_tt, 'tt_city', raster_path, os.path.join(output_path,f\"cities_min_tt.tif\"))\n",
    "aggregator.rasterize_gdf(origins_tt, 'tt_port', raster_path, os.path.join(output_path,f\"port_min_tt.tif\"))\n",
    "aggregator.rasterize_gdf(origins_tt, 'tt_airport', raster_path, os.path.join(output_path,f\"airport_min_tt.tif\"))\n",
    "aggregator.rasterize_gdf(origins_tt, 'tt_border', raster_path, os.path.join(output_path,f\"borders_min_tt.tif\"))"
   ]
  }
 ],
 "metadata": {
  "kernelspec": {
   "display_name": "GEO",
   "language": "python",
   "name": "geo"
  },
  "language_info": {
   "codemirror_mode": {
    "name": "ipython",
    "version": 3
   },
   "file_extension": ".py",
   "mimetype": "text/x-python",
   "name": "python",
   "nbconvert_exporter": "python",
   "pygments_lexer": "ipython3",
   "version": "3.7.6"
  }
 },
 "nbformat": 4,
 "nbformat_minor": 2
}
