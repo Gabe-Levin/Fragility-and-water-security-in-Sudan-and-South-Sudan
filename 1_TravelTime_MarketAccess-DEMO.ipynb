{
 "cells": [
  {
   "cell_type": "markdown",
   "metadata": {},
   "source": [
    "## Country-level INFRA-SAP"
   ]
  },
  {
   "cell_type": "markdown",
   "metadata": {},
   "source": [
    "- Origins: Population grid (Worldpop 1 km grid)\n",
    "- Destinations: Cities, airports, border crossings, and ports\n",
    "\n",
    "Typical access analysis using GOSTnets with one adjustment:\n",
    "    1. Extract different sets of destinations from OD"
   ]
  },
  {
   "cell_type": "code",
   "execution_count": 1,
   "metadata": {},
   "outputs": [],
   "source": [
    "import os, sys, time, importlib\n",
    "\n",
    "import geopandas as gpd\n",
    "import pandas as pd\n",
    "import networkx as nx\n",
    "sys.path.append('/home/wb514197/Repos/GOSTnets')\n",
    "\n",
    "import GOSTnets as gn\n",
    "import GOSTnets.calculate_od_raw as calcOD\n",
    "from GOSTnets.load_osm import *\n",
    "import rasterio as rio\n",
    "from osgeo import gdal\n",
    "import numpy as np\n",
    "from shapely.geometry import Point\n",
    "\n",
    "from utm_zone import epsg as epsg_get\n",
    "import json\n",
    "\n",
    "# sys.path.append('/home/wb514197/Repos/INFRA_SAP')\n",
    "# from infrasap import aggregator\n",
    "\n",
    "%load_ext autoreload\n",
    "%autoreload 2"
   ]
  },
  {
   "cell_type": "code",
   "execution_count": 2,
   "metadata": {},
   "outputs": [],
   "source": [
    "country = 'mozambique'\n",
    "iso3 = 'MOZ'"
   ]
  },
  {
   "cell_type": "markdown",
   "metadata": {},
   "source": [
    "### Load origins and graph"
   ]
  },
  {
   "cell_type": "code",
   "execution_count": 3,
   "metadata": {},
   "outputs": [],
   "source": [
    "# base_in = \"/home/public/Data/PROJECTS/INFRA_SAP\"\n",
    "base_in = \"/home/wb514197/data/INFRA_SAP\"\n",
    "in_folder = os.path.join(base_in, iso3)\n",
    "\n",
    "# define data paths\n",
    "focal_admin2 = os.path.join(in_folder, \"admin.shp\")\n",
    "focal_osm = os.path.join(in_folder, f\"{country}-latest.osm.pbf\")\n",
    "pop_name = \"WP_2020_1km\"\n",
    "wp_1km = os.path.join(in_folder, f\"{pop_name}.tif\")\n",
    "urban_extents = os.path.join(in_folder, \"urban_extents.shp\")\n",
    "airports = os.path.join(in_folder, \"airports.shp\")\n",
    "ports = os.path.join(in_folder, \"ports.shp\")\n",
    "borders = os.path.join(in_folder, \"borders.shp\")\n",
    "\n",
    "out_folder = os.path.join(in_folder, \"output\")\n",
    "\n",
    "if not os.path.exists(out_folder):\n",
    "    os.makedirs(out_folder)"
   ]
  },
  {
   "cell_type": "markdown",
   "metadata": {},
   "source": [
    "Cheat library to get UTM code"
   ]
  },
  {
   "cell_type": "code",
   "execution_count": 4,
   "metadata": {},
   "outputs": [],
   "source": [
    "bounds = gpd.read_file(focal_admin2)\n",
    "bounds_json = json.loads(bounds.to_json())\n",
    "epsg = epsg_get(bounds_json)"
   ]
  },
  {
   "cell_type": "code",
   "execution_count": 9,
   "metadata": {},
   "outputs": [
    {
     "data": {
      "text/plain": [
       "32737"
      ]
     },
     "execution_count": 9,
     "metadata": {},
     "output_type": "execute_result"
    }
   ],
   "source": [
    "epsg"
   ]
  },
  {
   "cell_type": "markdown",
   "metadata": {},
   "source": [
    "Convert **WP_2020_1km.tif** into a point GeoData frame"
   ]
  },
  {
   "cell_type": "code",
   "execution_count": 6,
   "metadata": {
    "scrolled": true
   },
   "outputs": [],
   "source": [
    "inDs = gdal.Open(wp_1km)\n",
    "out_pop = os.path.join(out_folder, f\"{pop_name}.xyz\")\n",
    "outDs = gdal.Translate(out_pop, inDs, format='XYZ', creationOptions=[\"ADD_HEADER_LINE=YES\"])\n",
    "out_pop_csv = os.path.join(out_folder, f\"{pop_name}.csv\")\n",
    "os.rename(out_pop, out_pop_csv)"
   ]
  },
  {
   "cell_type": "code",
   "execution_count": 7,
   "metadata": {},
   "outputs": [],
   "source": [
    "wp_df = pd.read_csv(out_pop_csv, sep=' ')\n",
    "wp_df.rename(columns={\"Z\":\"Pop\"}, inplace=True)\n",
    "wp_df = wp_df.loc[wp_df.Pop!=-99999.0].copy()\n",
    "geoms = [Point(xy) for xy in zip(wp_df.X, wp_df.Y)]\n",
    "wp_df.drop([\"X\",\"Y\"], axis=1, inplace=True)\n",
    "crs = 'EPSG:4326'\n",
    "origins = gpd.GeoDataFrame(wp_df, crs=crs, geometry=geoms)\n",
    "origins['pointid'] = origins.index"
   ]
  },
  {
   "cell_type": "markdown",
   "metadata": {},
   "source": [
    "### Prepare Graph"
   ]
  },
  {
   "cell_type": "code",
   "execution_count": 10,
   "metadata": {},
   "outputs": [
    {
     "data": {
      "text/plain": [
       "'/home/wb514197/data/INFRA_SAP/MOZ'"
      ]
     },
     "execution_count": 10,
     "metadata": {},
     "output_type": "execute_result"
    }
   ],
   "source": [
    "in_folder"
   ]
  },
  {
   "cell_type": "code",
   "execution_count": 9,
   "metadata": {},
   "outputs": [],
   "source": [
    "G_path = None"
   ]
  },
  {
   "cell_type": "code",
   "execution_count": 10,
   "metadata": {},
   "outputs": [
    {
     "name": "stdout",
     "output_type": "stream",
     "text": [
      "Creating graph from scratch\n"
     ]
    },
    {
     "name": "stderr",
     "output_type": "stream",
     "text": [
      "/home/wb514197/.conda/envs/geo/lib/python3.7/site-packages/pyproj/crs/crs.py:53: FutureWarning: '+init=<authority>:<code>' syntax is deprecated. '<authority>:<code>' is the preferred initialization method. When making the change, be mindful of axis order changes: https://pyproj4.github.io/pyproj/stable/gotchas.html#axis-order-changes-in-proj-6\n",
      "  return _prepare_from_string(\" \".join(pjargs))\n",
      "/home/wb514197/Repos/GOSTnets/GOSTnets/core.py:1181: UserWarning: Geometry is in a geographic CRS. Results from 'centroid' are likely incorrect. Use 'GeoSeries.to_crs()' to re-project geometries to a projected CRS before this operation.\n",
      "\n",
      "  juncs_gdf_unproj['centroid'] = juncs_gdf_unproj.centroid\n"
     ]
    },
    {
     "name": "stdout",
     "output_type": "stream",
     "text": [
      "7755\n",
      "14408\n",
      "2911\n",
      "5642\n",
      "Edge reduction: 13003 to 5642 (56 percent)\n"
     ]
    }
   ],
   "source": [
    "if G_path is None:\n",
    "    print(\"Creating graph from scratch\")\n",
    "    osm_raw = OSM_to_network(focal_osm)\n",
    "    accepted_road_types = ['trunk','trunk_link','primary','primary_link','secondary','secondary_link','tertiary','tertiary_link']\n",
    "    osm_raw.filterRoads(acceptedRoads = accepted_road_types)\n",
    "    osm_raw.generateRoadsGDF(verbose = False)\n",
    "    osm_raw.initialReadIn()\n",
    "    \n",
    "    if not os.path.exists(os.path.join(out_folder, 'graph')):\n",
    "        os.mkdir(os.path.join(out_folder, 'graph'))\n",
    "    gn.save(osm_raw.network,f'G_{iso3}_unclean',os.path.join(out_folder, 'graph'))\n",
    "    \n",
    "    #clean graph\n",
    "    G_clean = gn.clean_network(osm_raw.network, UTM = f\"EPSG:{epsg}\", WGS = \"EPSG:4326\", junctdist = 50, verbose = False)\n",
    "    G = G_clean.copy()\n",
    "\n",
    "else:\n",
    "    G = nx.read_gpickle(G_path)\n",
    "    for u, v, data in G.edges(data = True):\n",
    "        if type(data['Wkt']) == list:\n",
    "            data['Wkt'] = gn.unbundle_geometry(data['Wkt'])"
   ]
  },
  {
   "cell_type": "code",
   "execution_count": 12,
   "metadata": {},
   "outputs": [
    {
     "name": "stdout",
     "output_type": "stream",
     "text": [
      "WARNING: \"factor behavior has changed! now divides rather than multiplies. This change brings gn.salt_long_lines into line with gn.convert_network_to_time\" \n"
     ]
    },
    {
     "name": "stderr",
     "output_type": "stream",
     "text": [
      "/home/wb514197/.conda/envs/geo/lib/python3.7/site-packages/pyproj/crs/crs.py:53: FutureWarning: '+init=<authority>:<code>' syntax is deprecated. '<authority>:<code>' is the preferred initialization method. When making the change, be mindful of axis order changes: https://pyproj4.github.io/pyproj/stable/gotchas.html#axis-order-changes-in-proj-6\n",
      "  return _prepare_from_string(\" \".join(pjargs))\n",
      "/home/wb514197/.conda/envs/geo/lib/python3.7/site-packages/pyproj/crs/crs.py:294: FutureWarning: '+init=<authority>:<code>' syntax is deprecated. '<authority>:<code>' is the preferred initialization method. When making the change, be mindful of axis order changes: https://pyproj4.github.io/pyproj/stable/gotchas.html#axis-order-changes-in-proj-6\n",
      "  projstring = _prepare_from_string(\" \".join((projstring, projkwargs)))\n",
      "/home/wb514197/.conda/envs/geo/lib/python3.7/site-packages/pyproj/crs/crs.py:53: FutureWarning: '+init=<authority>:<code>' syntax is deprecated. '<authority>:<code>' is the preferred initialization method. When making the change, be mindful of axis order changes: https://pyproj4.github.io/pyproj/stable/gotchas.html#axis-order-changes-in-proj-6\n",
      "  return _prepare_from_string(\" \".join(pjargs))\n",
      "/home/wb514197/.conda/envs/geo/lib/python3.7/site-packages/pyproj/crs/crs.py:294: FutureWarning: '+init=<authority>:<code>' syntax is deprecated. '<authority>:<code>' is the preferred initialization method. When making the change, be mindful of axis order changes: https://pyproj4.github.io/pyproj/stable/gotchas.html#axis-order-changes-in-proj-6\n",
      "  projstring = _prepare_from_string(\" \".join((projstring, projkwargs)))\n",
      "/home/wb514197/.conda/envs/geo/lib/python3.7/site-packages/pyproj/crs/crs.py:53: FutureWarning: '+init=<authority>:<code>' syntax is deprecated. '<authority>:<code>' is the preferred initialization method. When making the change, be mindful of axis order changes: https://pyproj4.github.io/pyproj/stable/gotchas.html#axis-order-changes-in-proj-6\n",
      "  return _prepare_from_string(\" \".join(pjargs))\n",
      "/home/wb514197/.conda/envs/geo/lib/python3.7/site-packages/pyproj/crs/crs.py:294: FutureWarning: '+init=<authority>:<code>' syntax is deprecated. '<authority>:<code>' is the preferred initialization method. When making the change, be mindful of axis order changes: https://pyproj4.github.io/pyproj/stable/gotchas.html#axis-order-changes-in-proj-6\n",
      "  projstring = _prepare_from_string(\" \".join((projstring, projkwargs)))\n",
      "/home/wb514197/.conda/envs/geo/lib/python3.7/site-packages/pyproj/crs/crs.py:53: FutureWarning: '+init=<authority>:<code>' syntax is deprecated. '<authority>:<code>' is the preferred initialization method. When making the change, be mindful of axis order changes: https://pyproj4.github.io/pyproj/stable/gotchas.html#axis-order-changes-in-proj-6\n",
      "  return _prepare_from_string(\" \".join(pjargs))\n",
      "/home/wb514197/.conda/envs/geo/lib/python3.7/site-packages/pyproj/crs/crs.py:294: FutureWarning: '+init=<authority>:<code>' syntax is deprecated. '<authority>:<code>' is the preferred initialization method. When making the change, be mindful of axis order changes: https://pyproj4.github.io/pyproj/stable/gotchas.html#axis-order-changes-in-proj-6\n",
      "  projstring = _prepare_from_string(\" \".join((projstring, projkwargs)))\n"
     ]
    },
    {
     "name": "stdout",
     "output_type": "stream",
     "text": [
      "Identified 1301 unique edge(s) longer than 5000. \n",
      "Beginning new node creation...\n",
      "15662 new edges added and 2609 removed to bring total edges to 18695\n",
      "6530 new nodes added to bring total nodes to 8615\n"
     ]
    }
   ],
   "source": [
    "# Salt network\n",
    "attr_list = ['id', 'infra_type', 'osm_id', 'key', 'Type']\n",
    "G_salt = gn.salt_long_lines(G, source='EPSG:4326', target=f'EPSG:{epsg}', thresh=5000, factor=1000, attr_list=attr_list)\n",
    "G_time = gn.convert_network_to_time(G_salt, distance_tag = 'length', road_col = 'infra_type', factor = 1000)\n",
    "if not os.path.exists(os.path.join(out_folder, 'graph')):\n",
    "    os.mkdir(os.path.join(out_folder, 'graph'))\n",
    "gn.save(G_time, f\"G_{iso3}_Salt\", os.path.join(out_folder, 'graph'))"
   ]
  },
  {
   "cell_type": "code",
   "execution_count": 11,
   "metadata": {},
   "outputs": [],
   "source": [
    "G_time = nx.read_gpickle(os.path.join(out_folder, 'graph', f'G_{iso3}_Salt.pickle'))"
   ]
  },
  {
   "cell_type": "markdown",
   "metadata": {},
   "source": [
    "#### Select largest graph"
   ]
  },
  {
   "cell_type": "code",
   "execution_count": 12,
   "metadata": {},
   "outputs": [],
   "source": [
    "list_of_subgraphs = [G_time.subgraph(c).copy() for c in sorted(nx.strongly_connected_components(G_time), key=len, reverse=True)]\n",
    "G_largest = list_of_subgraphs[0]"
   ]
  },
  {
   "cell_type": "markdown",
   "metadata": {},
   "source": [
    "### Prepare destinations"
   ]
  },
  {
   "cell_type": "code",
   "execution_count": 13,
   "metadata": {},
   "outputs": [
    {
     "name": "stderr",
     "output_type": "stream",
     "text": [
      "/home/wb514197/.conda/envs/geo/lib/python3.7/site-packages/ipykernel_launcher.py:5: UserWarning: Geometry is in a geographic CRS. Results from 'centroid' are likely incorrect. Use 'GeoSeries.to_crs()' to re-project geometries to a projected CRS before this operation.\n",
      "\n",
      "  \"\"\"\n"
     ]
    }
   ],
   "source": [
    "inCities = gpd.read_file(urban_extents)\n",
    "# pop_thresh = 0\n",
    "pop_thresh=50000\n",
    "inCities = inCities.loc[inCities.Pop>pop_thresh]\n",
    "inCities['geometry'] = inCities.geometry.centroid\n",
    "dest_cities = inCities.assign(dest_type = 'city')"
   ]
  },
  {
   "cell_type": "code",
   "execution_count": 14,
   "metadata": {},
   "outputs": [],
   "source": [
    "dest_airports = gpd.read_file(airports)\n",
    "dest_airports = dest_airports.assign(dest_type = 'airport')"
   ]
  },
  {
   "cell_type": "code",
   "execution_count": 15,
   "metadata": {},
   "outputs": [],
   "source": [
    "dest_ports = gpd.read_file(ports).assign(dest_type = 'port')\n",
    "dest_borders = gpd.read_file(borders).assign(dest_type = 'border')\n",
    "dest_borders['geometry'] = dest_borders.geometry.apply(lambda x: x[0])"
   ]
  },
  {
   "cell_type": "code",
   "execution_count": 16,
   "metadata": {
    "scrolled": true
   },
   "outputs": [],
   "source": [
    "dest_all = pd.concat([dest_cities, dest_airports, dest_ports, dest_borders], ignore_index=True)"
   ]
  },
  {
   "cell_type": "code",
   "execution_count": 17,
   "metadata": {},
   "outputs": [
    {
     "data": {
      "text/plain": [
       "border     32\n",
       "city       29\n",
       "airport    12\n",
       "port        4\n",
       "Name: dest_type, dtype: int64"
      ]
     },
     "execution_count": 17,
     "metadata": {},
     "output_type": "execute_result"
    }
   ],
   "source": [
    "dest_all.dest_type.value_counts()"
   ]
  },
  {
   "cell_type": "code",
   "execution_count": 24,
   "metadata": {},
   "outputs": [],
   "source": [
    "dest_all.to_file(os.path.join(out_folder, 'destination_all.shp'), driver=\"ESRI Shapefile\")"
   ]
  },
  {
   "cell_type": "code",
   "execution_count": 18,
   "metadata": {},
   "outputs": [
    {
     "data": {
      "text/plain": [
       "(959933, 77)"
      ]
     },
     "execution_count": 18,
     "metadata": {},
     "output_type": "execute_result"
    }
   ],
   "source": [
    "len(origins), len(dest_all)"
   ]
  },
  {
   "cell_type": "markdown",
   "metadata": {},
   "source": [
    "### Snap origins and destinations"
   ]
  },
  {
   "cell_type": "markdown",
   "metadata": {},
   "source": [
    "#### Snap to origins to nearest nodes in the network"
   ]
  },
  {
   "cell_type": "code",
   "execution_count": 21,
   "metadata": {},
   "outputs": [],
   "source": [
    "utm = f\"EPSG:{epsg}\""
   ]
  },
  {
   "cell_type": "code",
   "execution_count": 22,
   "metadata": {},
   "outputs": [
    {
     "name": "stdout",
     "output_type": "stream",
     "text": [
      "CPU times: user 51 s, sys: 795 ms, total: 51.8 s\n",
      "Wall time: 51.8 s\n"
     ]
    }
   ],
   "source": [
    "%%time\n",
    "origins_snapped = gn.pandana_snap_c(G_largest, origins, source_crs='epsg:4326', target_crs=utm, \n",
    "                                               add_dist_to_node_col = True)"
   ]
  },
  {
   "cell_type": "code",
   "execution_count": 25,
   "metadata": {},
   "outputs": [],
   "source": [
    "dest_snapped = gn.pandana_snap_c(G_largest, dest_all, source_crs='epsg:4326', target_crs=utm,\n",
    "                                 add_dist_to_node_col = False)"
   ]
  },
  {
   "cell_type": "markdown",
   "metadata": {},
   "source": [
    "Get unique nodes to calculate Origin Destination Matrix"
   ]
  },
  {
   "cell_type": "code",
   "execution_count": 26,
   "metadata": {},
   "outputs": [],
   "source": [
    "origins_unique_nn = list(set(origins_snapped['NN']))\n",
    "dest_nn = list(dest_snapped['NN'])"
   ]
  },
  {
   "cell_type": "code",
   "execution_count": 28,
   "metadata": {},
   "outputs": [
    {
     "data": {
      "text/plain": [
       "(8016, 77)"
      ]
     },
     "execution_count": 28,
     "metadata": {},
     "output_type": "execute_result"
    }
   ],
   "source": [
    "len(origins_unique_nn), len(dest_nn)"
   ]
  },
  {
   "cell_type": "code",
   "execution_count": 29,
   "metadata": {},
   "outputs": [
    {
     "name": "stdout",
     "output_type": "stream",
     "text": [
      "CPU times: user 2.16 s, sys: 5.99 ms, total: 2.17 s\n",
      "Wall time: 2.17 s\n"
     ]
    }
   ],
   "source": [
    "%%time\n",
    "curOD = gn.calculate_OD(G_largest, origins_unique_nn, dest_nn, fail_value = 999999999)"
   ]
  },
  {
   "cell_type": "markdown",
   "metadata": {},
   "source": [
    "quick checks"
   ]
  },
  {
   "cell_type": "code",
   "execution_count": 30,
   "metadata": {},
   "outputs": [
    {
     "data": {
      "text/plain": [
       "array([], dtype=float64)"
      ]
     },
     "execution_count": 30,
     "metadata": {},
     "output_type": "execute_result"
    }
   ],
   "source": [
    "curOD[curOD==999999999]"
   ]
  },
  {
   "cell_type": "code",
   "execution_count": 31,
   "metadata": {},
   "outputs": [
    {
     "data": {
      "text/plain": [
       "(8016, 77)"
      ]
     },
     "execution_count": 31,
     "metadata": {},
     "output_type": "execute_result"
    }
   ],
   "source": [
    "curOD.shape"
   ]
  },
  {
   "cell_type": "code",
   "execution_count": 32,
   "metadata": {},
   "outputs": [],
   "source": [
    "od_df = pd.DataFrame(curOD, index=origins_unique_nn, columns=dest_nn)"
   ]
  },
  {
   "cell_type": "markdown",
   "metadata": {},
   "source": [
    "Time in seconds"
   ]
  },
  {
   "cell_type": "code",
   "execution_count": 33,
   "metadata": {
    "scrolled": false
   },
   "outputs": [
    {
     "data": {
      "text/html": [
       "<div>\n",
       "<style scoped>\n",
       "    .dataframe tbody tr th:only-of-type {\n",
       "        vertical-align: middle;\n",
       "    }\n",
       "\n",
       "    .dataframe tbody tr th {\n",
       "        vertical-align: top;\n",
       "    }\n",
       "\n",
       "    .dataframe thead th {\n",
       "        text-align: right;\n",
       "    }\n",
       "</style>\n",
       "<table border=\"1\" class=\"dataframe\">\n",
       "  <thead>\n",
       "    <tr style=\"text-align: right;\">\n",
       "      <th></th>\n",
       "      <th>9644</th>\n",
       "      <th>new_obj_2345</th>\n",
       "      <th>new_obj_2286</th>\n",
       "      <th>6188_816_5074</th>\n",
       "      <th>new_obj_2085</th>\n",
       "      <th>5119_778_4853</th>\n",
       "      <th>new_obj_1990_1285_7746</th>\n",
       "      <th>new_obj_1906_728_4534</th>\n",
       "      <th>new_obj_1877</th>\n",
       "      <th>5650_646_4086</th>\n",
       "      <th>...</th>\n",
       "      <th>577_108_684</th>\n",
       "      <th>577_108_684</th>\n",
       "      <th>577_108_684</th>\n",
       "      <th>577_108_684</th>\n",
       "      <th>new_obj_1688_1225_7461</th>\n",
       "      <th>new_obj_1688_1225_7461</th>\n",
       "      <th>4861</th>\n",
       "      <th>4861</th>\n",
       "      <th>8125</th>\n",
       "      <th>8125</th>\n",
       "    </tr>\n",
       "  </thead>\n",
       "  <tbody>\n",
       "    <tr>\n",
       "      <th>10988_317_2043</th>\n",
       "      <td>72209.318702</td>\n",
       "      <td>65412.915703</td>\n",
       "      <td>50967.253229</td>\n",
       "      <td>117076.132770</td>\n",
       "      <td>53917.199615</td>\n",
       "      <td>24205.494439</td>\n",
       "      <td>48430.086122</td>\n",
       "      <td>51848.820812</td>\n",
       "      <td>36726.246122</td>\n",
       "      <td>22142.807923</td>\n",
       "      <td>...</td>\n",
       "      <td>99199.984859</td>\n",
       "      <td>99199.984859</td>\n",
       "      <td>99199.984859</td>\n",
       "      <td>99199.984859</td>\n",
       "      <td>96839.284859</td>\n",
       "      <td>96839.284859</td>\n",
       "      <td>26443.826869</td>\n",
       "      <td>26443.826869</td>\n",
       "      <td>111891.476434</td>\n",
       "      <td>111891.476434</td>\n",
       "    </tr>\n",
       "    <tr>\n",
       "      <th>5</th>\n",
       "      <td>137319.216151</td>\n",
       "      <td>138970.428907</td>\n",
       "      <td>124524.766433</td>\n",
       "      <td>67019.176817</td>\n",
       "      <td>119027.097064</td>\n",
       "      <td>97763.007644</td>\n",
       "      <td>113539.983571</td>\n",
       "      <td>116958.718261</td>\n",
       "      <td>101836.143571</td>\n",
       "      <td>93973.465601</td>\n",
       "      <td>...</td>\n",
       "      <td>49143.028906</td>\n",
       "      <td>49143.028906</td>\n",
       "      <td>49143.028906</td>\n",
       "      <td>49143.028906</td>\n",
       "      <td>46782.328905</td>\n",
       "      <td>46782.328905</td>\n",
       "      <td>74421.561461</td>\n",
       "      <td>74421.561461</td>\n",
       "      <td>177001.373883</td>\n",
       "      <td>177001.373883</td>\n",
       "    </tr>\n",
       "    <tr>\n",
       "      <th>1008_184_1029</th>\n",
       "      <td>27190.382580</td>\n",
       "      <td>29576.186630</td>\n",
       "      <td>76514.091468</td>\n",
       "      <td>170491.750343</td>\n",
       "      <td>21178.164695</td>\n",
       "      <td>61490.988182</td>\n",
       "      <td>25510.467016</td>\n",
       "      <td>28525.384908</td>\n",
       "      <td>31352.190000</td>\n",
       "      <td>72996.877183</td>\n",
       "      <td>...</td>\n",
       "      <td>152615.602432</td>\n",
       "      <td>152615.602432</td>\n",
       "      <td>152615.602432</td>\n",
       "      <td>152615.602432</td>\n",
       "      <td>150254.902432</td>\n",
       "      <td>150254.902432</td>\n",
       "      <td>81541.635051</td>\n",
       "      <td>81541.635051</td>\n",
       "      <td>66872.540312</td>\n",
       "      <td>66872.540312</td>\n",
       "    </tr>\n",
       "    <tr>\n",
       "      <th>6910_941_5766</th>\n",
       "      <td>40184.070092</td>\n",
       "      <td>30929.744931</td>\n",
       "      <td>77867.649769</td>\n",
       "      <td>202653.420806</td>\n",
       "      <td>65172.613956</td>\n",
       "      <td>73197.235073</td>\n",
       "      <td>59685.500463</td>\n",
       "      <td>63104.235153</td>\n",
       "      <td>63513.860463</td>\n",
       "      <td>83363.259198</td>\n",
       "      <td>...</td>\n",
       "      <td>184777.272895</td>\n",
       "      <td>184777.272895</td>\n",
       "      <td>184777.272895</td>\n",
       "      <td>184777.272895</td>\n",
       "      <td>182416.572895</td>\n",
       "      <td>182416.572895</td>\n",
       "      <td>100601.289537</td>\n",
       "      <td>100601.289537</td>\n",
       "      <td>33064.692047</td>\n",
       "      <td>33064.692047</td>\n",
       "    </tr>\n",
       "    <tr>\n",
       "      <th>2041_340_2199</th>\n",
       "      <td>177843.931473</td>\n",
       "      <td>179495.144229</td>\n",
       "      <td>165049.481755</td>\n",
       "      <td>45128.470746</td>\n",
       "      <td>159551.812386</td>\n",
       "      <td>138287.722966</td>\n",
       "      <td>154064.698893</td>\n",
       "      <td>157483.433583</td>\n",
       "      <td>142360.858893</td>\n",
       "      <td>134498.180923</td>\n",
       "      <td>...</td>\n",
       "      <td>42375.740907</td>\n",
       "      <td>42375.740907</td>\n",
       "      <td>42375.740907</td>\n",
       "      <td>42375.740907</td>\n",
       "      <td>40015.040907</td>\n",
       "      <td>40015.040907</td>\n",
       "      <td>114946.276783</td>\n",
       "      <td>114946.276783</td>\n",
       "      <td>217526.089205</td>\n",
       "      <td>217526.089205</td>\n",
       "    </tr>\n",
       "  </tbody>\n",
       "</table>\n",
       "<p>5 rows × 77 columns</p>\n",
       "</div>"
      ],
      "text/plain": [
       "                         9644   new_obj_2345   new_obj_2286  6188_816_5074  \\\n",
       "10988_317_2043   72209.318702   65412.915703   50967.253229  117076.132770   \n",
       "5               137319.216151  138970.428907  124524.766433   67019.176817   \n",
       "1008_184_1029    27190.382580   29576.186630   76514.091468  170491.750343   \n",
       "6910_941_5766    40184.070092   30929.744931   77867.649769  202653.420806   \n",
       "2041_340_2199   177843.931473  179495.144229  165049.481755   45128.470746   \n",
       "\n",
       "                 new_obj_2085  5119_778_4853  new_obj_1990_1285_7746  \\\n",
       "10988_317_2043   53917.199615   24205.494439            48430.086122   \n",
       "5               119027.097064   97763.007644           113539.983571   \n",
       "1008_184_1029    21178.164695   61490.988182            25510.467016   \n",
       "6910_941_5766    65172.613956   73197.235073            59685.500463   \n",
       "2041_340_2199   159551.812386  138287.722966           154064.698893   \n",
       "\n",
       "                new_obj_1906_728_4534   new_obj_1877  5650_646_4086  ...  \\\n",
       "10988_317_2043           51848.820812   36726.246122   22142.807923  ...   \n",
       "5                       116958.718261  101836.143571   93973.465601  ...   \n",
       "1008_184_1029            28525.384908   31352.190000   72996.877183  ...   \n",
       "6910_941_5766            63104.235153   63513.860463   83363.259198  ...   \n",
       "2041_340_2199           157483.433583  142360.858893  134498.180923  ...   \n",
       "\n",
       "                  577_108_684    577_108_684    577_108_684    577_108_684  \\\n",
       "10988_317_2043   99199.984859   99199.984859   99199.984859   99199.984859   \n",
       "5                49143.028906   49143.028906   49143.028906   49143.028906   \n",
       "1008_184_1029   152615.602432  152615.602432  152615.602432  152615.602432   \n",
       "6910_941_5766   184777.272895  184777.272895  184777.272895  184777.272895   \n",
       "2041_340_2199    42375.740907   42375.740907   42375.740907   42375.740907   \n",
       "\n",
       "                new_obj_1688_1225_7461  new_obj_1688_1225_7461           4861  \\\n",
       "10988_317_2043            96839.284859            96839.284859   26443.826869   \n",
       "5                         46782.328905            46782.328905   74421.561461   \n",
       "1008_184_1029            150254.902432           150254.902432   81541.635051   \n",
       "6910_941_5766            182416.572895           182416.572895  100601.289537   \n",
       "2041_340_2199             40015.040907            40015.040907  114946.276783   \n",
       "\n",
       "                         4861           8125           8125  \n",
       "10988_317_2043   26443.826869  111891.476434  111891.476434  \n",
       "5                74421.561461  177001.373883  177001.373883  \n",
       "1008_184_1029    81541.635051   66872.540312   66872.540312  \n",
       "6910_941_5766   100601.289537   33064.692047   33064.692047  \n",
       "2041_340_2199   114946.276783  217526.089205  217526.089205  \n",
       "\n",
       "[5 rows x 77 columns]"
      ]
     },
     "execution_count": 33,
     "metadata": {},
     "output_type": "execute_result"
    }
   ],
   "source": [
    "od_df.head()"
   ]
  },
  {
   "cell_type": "markdown",
   "metadata": {},
   "source": [
    "Join the OD values back to origins data frame based on NN (Nearest Node) ID"
   ]
  },
  {
   "cell_type": "code",
   "execution_count": 34,
   "metadata": {},
   "outputs": [
    {
     "data": {
      "text/html": [
       "<div>\n",
       "<style scoped>\n",
       "    .dataframe tbody tr th:only-of-type {\n",
       "        vertical-align: middle;\n",
       "    }\n",
       "\n",
       "    .dataframe tbody tr th {\n",
       "        vertical-align: top;\n",
       "    }\n",
       "\n",
       "    .dataframe thead th {\n",
       "        text-align: right;\n",
       "    }\n",
       "</style>\n",
       "<table border=\"1\" class=\"dataframe\">\n",
       "  <thead>\n",
       "    <tr style=\"text-align: right;\">\n",
       "      <th></th>\n",
       "      <th>Pop</th>\n",
       "      <th>geometry</th>\n",
       "      <th>pointid</th>\n",
       "      <th>NN</th>\n",
       "      <th>NN_dist</th>\n",
       "    </tr>\n",
       "  </thead>\n",
       "  <tbody>\n",
       "    <tr>\n",
       "      <th>1226</th>\n",
       "      <td>12.027128</td>\n",
       "      <td>POINT (40.43875 -10.47458)</td>\n",
       "      <td>1226</td>\n",
       "      <td>8125</td>\n",
       "      <td>8687.144305</td>\n",
       "    </tr>\n",
       "    <tr>\n",
       "      <th>1227</th>\n",
       "      <td>10.314653</td>\n",
       "      <td>POINT (40.44708 -10.47458)</td>\n",
       "      <td>1227</td>\n",
       "      <td>8125</td>\n",
       "      <td>9291.638068</td>\n",
       "    </tr>\n",
       "    <tr>\n",
       "      <th>1228</th>\n",
       "      <td>8.879251</td>\n",
       "      <td>POINT (40.45542 -10.47458)</td>\n",
       "      <td>1228</td>\n",
       "      <td>8125</td>\n",
       "      <td>9943.169391</td>\n",
       "    </tr>\n",
       "    <tr>\n",
       "      <th>1229</th>\n",
       "      <td>7.824205</td>\n",
       "      <td>POINT (40.46375 -10.47458)</td>\n",
       "      <td>1229</td>\n",
       "      <td>8125</td>\n",
       "      <td>10633.096114</td>\n",
       "    </tr>\n",
       "    <tr>\n",
       "      <th>2500</th>\n",
       "      <td>11.924029</td>\n",
       "      <td>POINT (40.43042 -10.48292)</td>\n",
       "      <td>2500</td>\n",
       "      <td>8125</td>\n",
       "      <td>7397.180644</td>\n",
       "    </tr>\n",
       "  </tbody>\n",
       "</table>\n",
       "</div>"
      ],
      "text/plain": [
       "            Pop                    geometry  pointid    NN       NN_dist\n",
       "1226  12.027128  POINT (40.43875 -10.47458)     1226  8125   8687.144305\n",
       "1227  10.314653  POINT (40.44708 -10.47458)     1227  8125   9291.638068\n",
       "1228   8.879251  POINT (40.45542 -10.47458)     1228  8125   9943.169391\n",
       "1229   7.824205  POINT (40.46375 -10.47458)     1229  8125  10633.096114\n",
       "2500  11.924029  POINT (40.43042 -10.48292)     2500  8125   7397.180644"
      ]
     },
     "execution_count": 34,
     "metadata": {},
     "output_type": "execute_result"
    }
   ],
   "source": [
    "origins_snapped.head()"
   ]
  },
  {
   "cell_type": "markdown",
   "metadata": {},
   "source": [
    "Create an additional travel time value to account for the snapping distance. We choose a custom speed for this."
   ]
  },
  {
   "cell_type": "code",
   "execution_count": 35,
   "metadata": {},
   "outputs": [],
   "source": [
    "custom_speed = 30 # km/h"
   ]
  },
  {
   "cell_type": "code",
   "execution_count": 36,
   "metadata": {},
   "outputs": [],
   "source": [
    "origins_snapped['NN_dist_seconds'] = ((origins_snapped.NN_dist / 1000) / custom_speed) * 60 * 60\n",
    "origins_snapped['NN_dist_hours'] = ((origins_snapped.NN_dist / 1000) / custom_speed)"
   ]
  },
  {
   "cell_type": "code",
   "execution_count": 37,
   "metadata": {},
   "outputs": [
    {
     "data": {
      "text/html": [
       "<div>\n",
       "<style scoped>\n",
       "    .dataframe tbody tr th:only-of-type {\n",
       "        vertical-align: middle;\n",
       "    }\n",
       "\n",
       "    .dataframe tbody tr th {\n",
       "        vertical-align: top;\n",
       "    }\n",
       "\n",
       "    .dataframe thead th {\n",
       "        text-align: right;\n",
       "    }\n",
       "</style>\n",
       "<table border=\"1\" class=\"dataframe\">\n",
       "  <thead>\n",
       "    <tr style=\"text-align: right;\">\n",
       "      <th></th>\n",
       "      <th>Pop</th>\n",
       "      <th>geometry</th>\n",
       "      <th>pointid</th>\n",
       "      <th>NN</th>\n",
       "      <th>NN_dist</th>\n",
       "      <th>NN_dist_seconds</th>\n",
       "      <th>NN_dist_hours</th>\n",
       "    </tr>\n",
       "  </thead>\n",
       "  <tbody>\n",
       "    <tr>\n",
       "      <th>1226</th>\n",
       "      <td>12.027128</td>\n",
       "      <td>POINT (40.43875 -10.47458)</td>\n",
       "      <td>1226</td>\n",
       "      <td>8125</td>\n",
       "      <td>8687.144305</td>\n",
       "      <td>1042.457317</td>\n",
       "      <td>0.289571</td>\n",
       "    </tr>\n",
       "    <tr>\n",
       "      <th>1227</th>\n",
       "      <td>10.314653</td>\n",
       "      <td>POINT (40.44708 -10.47458)</td>\n",
       "      <td>1227</td>\n",
       "      <td>8125</td>\n",
       "      <td>9291.638068</td>\n",
       "      <td>1114.996568</td>\n",
       "      <td>0.309721</td>\n",
       "    </tr>\n",
       "    <tr>\n",
       "      <th>1228</th>\n",
       "      <td>8.879251</td>\n",
       "      <td>POINT (40.45542 -10.47458)</td>\n",
       "      <td>1228</td>\n",
       "      <td>8125</td>\n",
       "      <td>9943.169391</td>\n",
       "      <td>1193.180327</td>\n",
       "      <td>0.331439</td>\n",
       "    </tr>\n",
       "    <tr>\n",
       "      <th>1229</th>\n",
       "      <td>7.824205</td>\n",
       "      <td>POINT (40.46375 -10.47458)</td>\n",
       "      <td>1229</td>\n",
       "      <td>8125</td>\n",
       "      <td>10633.096114</td>\n",
       "      <td>1275.971534</td>\n",
       "      <td>0.354437</td>\n",
       "    </tr>\n",
       "    <tr>\n",
       "      <th>2500</th>\n",
       "      <td>11.924029</td>\n",
       "      <td>POINT (40.43042 -10.48292)</td>\n",
       "      <td>2500</td>\n",
       "      <td>8125</td>\n",
       "      <td>7397.180644</td>\n",
       "      <td>887.661677</td>\n",
       "      <td>0.246573</td>\n",
       "    </tr>\n",
       "  </tbody>\n",
       "</table>\n",
       "</div>"
      ],
      "text/plain": [
       "            Pop                    geometry  pointid    NN       NN_dist  \\\n",
       "1226  12.027128  POINT (40.43875 -10.47458)     1226  8125   8687.144305   \n",
       "1227  10.314653  POINT (40.44708 -10.47458)     1227  8125   9291.638068   \n",
       "1228   8.879251  POINT (40.45542 -10.47458)     1228  8125   9943.169391   \n",
       "1229   7.824205  POINT (40.46375 -10.47458)     1229  8125  10633.096114   \n",
       "2500  11.924029  POINT (40.43042 -10.48292)     2500  8125   7397.180644   \n",
       "\n",
       "      NN_dist_seconds  NN_dist_hours  \n",
       "1226      1042.457317       0.289571  \n",
       "1227      1114.996568       0.309721  \n",
       "1228      1193.180327       0.331439  \n",
       "1229      1275.971534       0.354437  \n",
       "2500       887.661677       0.246573  "
      ]
     },
     "execution_count": 37,
     "metadata": {},
     "output_type": "execute_result"
    }
   ],
   "source": [
    "origins_snapped.head()"
   ]
  },
  {
   "cell_type": "code",
   "execution_count": 38,
   "metadata": {},
   "outputs": [],
   "source": [
    "origins_join = origins_snapped.join(od_df, on='NN')"
   ]
  },
  {
   "cell_type": "code",
   "execution_count": 43,
   "metadata": {},
   "outputs": [
    {
     "data": {
      "text/plain": [
       "True"
      ]
     },
     "execution_count": 43,
     "metadata": {},
     "output_type": "execute_result"
    }
   ],
   "source": [
    "all(origins_join.columns[7:] == dest_snapped.NN)"
   ]
  },
  {
   "cell_type": "markdown",
   "metadata": {},
   "source": [
    "The columns of our data frame represent the destination nearest node, let's map it back to the destination index"
   ]
  },
  {
   "cell_type": "code",
   "execution_count": 47,
   "metadata": {},
   "outputs": [
    {
     "data": {
      "text/html": [
       "<div>\n",
       "<style scoped>\n",
       "    .dataframe tbody tr th:only-of-type {\n",
       "        vertical-align: middle;\n",
       "    }\n",
       "\n",
       "    .dataframe tbody tr th {\n",
       "        vertical-align: top;\n",
       "    }\n",
       "\n",
       "    .dataframe thead th {\n",
       "        text-align: right;\n",
       "    }\n",
       "</style>\n",
       "<table border=\"1\" class=\"dataframe\">\n",
       "  <thead>\n",
       "    <tr style=\"text-align: right;\">\n",
       "      <th></th>\n",
       "      <th>ID</th>\n",
       "      <th>Pop</th>\n",
       "      <th>geometry</th>\n",
       "      <th>dest_type</th>\n",
       "      <th>Orig</th>\n",
       "      <th>Name</th>\n",
       "      <th>TotalSeats</th>\n",
       "      <th>Country Na</th>\n",
       "      <th>Airport1La</th>\n",
       "      <th>Airport1Lo</th>\n",
       "      <th>...</th>\n",
       "      <th>outflows</th>\n",
       "      <th>CNTRY_NAME</th>\n",
       "      <th>NAME</th>\n",
       "      <th>ALT1_NAME</th>\n",
       "      <th>ALT2_NAME</th>\n",
       "      <th>ETYPE</th>\n",
       "      <th>CNTRY_BORD</th>\n",
       "      <th>x</th>\n",
       "      <th>y</th>\n",
       "      <th>NN</th>\n",
       "    </tr>\n",
       "  </thead>\n",
       "  <tbody>\n",
       "    <tr>\n",
       "      <th>0</th>\n",
       "      <td>26.0</td>\n",
       "      <td>353488.093750</td>\n",
       "      <td>POINT (40.50833 -13.03271)</td>\n",
       "      <td>city</td>\n",
       "      <td>NaN</td>\n",
       "      <td>NaN</td>\n",
       "      <td>NaN</td>\n",
       "      <td>NaN</td>\n",
       "      <td>NaN</td>\n",
       "      <td>NaN</td>\n",
       "      <td>...</td>\n",
       "      <td>NaN</td>\n",
       "      <td>NaN</td>\n",
       "      <td>NaN</td>\n",
       "      <td>NaN</td>\n",
       "      <td>NaN</td>\n",
       "      <td>NaN</td>\n",
       "      <td>NaN</td>\n",
       "      <td>40.508329</td>\n",
       "      <td>-13.032714</td>\n",
       "      <td>9644</td>\n",
       "    </tr>\n",
       "    <tr>\n",
       "      <th>1</th>\n",
       "      <td>28.0</td>\n",
       "      <td>72147.539062</td>\n",
       "      <td>POINT (39.00729 -13.13644)</td>\n",
       "      <td>city</td>\n",
       "      <td>NaN</td>\n",
       "      <td>NaN</td>\n",
       "      <td>NaN</td>\n",
       "      <td>NaN</td>\n",
       "      <td>NaN</td>\n",
       "      <td>NaN</td>\n",
       "      <td>...</td>\n",
       "      <td>NaN</td>\n",
       "      <td>NaN</td>\n",
       "      <td>NaN</td>\n",
       "      <td>NaN</td>\n",
       "      <td>NaN</td>\n",
       "      <td>NaN</td>\n",
       "      <td>NaN</td>\n",
       "      <td>39.007295</td>\n",
       "      <td>-13.136438</td>\n",
       "      <td>new_obj_2345</td>\n",
       "    </tr>\n",
       "    <tr>\n",
       "      <th>2</th>\n",
       "      <td>33.0</td>\n",
       "      <td>256415.250000</td>\n",
       "      <td>POINT (35.25256 -13.29065)</td>\n",
       "      <td>city</td>\n",
       "      <td>NaN</td>\n",
       "      <td>NaN</td>\n",
       "      <td>NaN</td>\n",
       "      <td>NaN</td>\n",
       "      <td>NaN</td>\n",
       "      <td>NaN</td>\n",
       "      <td>...</td>\n",
       "      <td>NaN</td>\n",
       "      <td>NaN</td>\n",
       "      <td>NaN</td>\n",
       "      <td>NaN</td>\n",
       "      <td>NaN</td>\n",
       "      <td>NaN</td>\n",
       "      <td>NaN</td>\n",
       "      <td>35.252564</td>\n",
       "      <td>-13.290649</td>\n",
       "      <td>new_obj_2286</td>\n",
       "    </tr>\n",
       "    <tr>\n",
       "      <th>3</th>\n",
       "      <td>70.0</td>\n",
       "      <td>54299.500000</td>\n",
       "      <td>POINT (34.32517 -14.42367)</td>\n",
       "      <td>city</td>\n",
       "      <td>NaN</td>\n",
       "      <td>NaN</td>\n",
       "      <td>NaN</td>\n",
       "      <td>NaN</td>\n",
       "      <td>NaN</td>\n",
       "      <td>NaN</td>\n",
       "      <td>...</td>\n",
       "      <td>NaN</td>\n",
       "      <td>NaN</td>\n",
       "      <td>NaN</td>\n",
       "      <td>NaN</td>\n",
       "      <td>NaN</td>\n",
       "      <td>NaN</td>\n",
       "      <td>NaN</td>\n",
       "      <td>34.325167</td>\n",
       "      <td>-14.423666</td>\n",
       "      <td>6188_816_5074</td>\n",
       "    </tr>\n",
       "    <tr>\n",
       "      <th>4</th>\n",
       "      <td>82.0</td>\n",
       "      <td>299286.531250</td>\n",
       "      <td>POINT (40.69389 -14.56434)</td>\n",
       "      <td>city</td>\n",
       "      <td>NaN</td>\n",
       "      <td>NaN</td>\n",
       "      <td>NaN</td>\n",
       "      <td>NaN</td>\n",
       "      <td>NaN</td>\n",
       "      <td>NaN</td>\n",
       "      <td>...</td>\n",
       "      <td>NaN</td>\n",
       "      <td>NaN</td>\n",
       "      <td>NaN</td>\n",
       "      <td>NaN</td>\n",
       "      <td>NaN</td>\n",
       "      <td>NaN</td>\n",
       "      <td>NaN</td>\n",
       "      <td>40.693888</td>\n",
       "      <td>-14.564339</td>\n",
       "      <td>new_obj_2085</td>\n",
       "    </tr>\n",
       "  </tbody>\n",
       "</table>\n",
       "<p>5 rows × 25 columns</p>\n",
       "</div>"
      ],
      "text/plain": [
       "     ID            Pop                    geometry dest_type Orig Name  \\\n",
       "0  26.0  353488.093750  POINT (40.50833 -13.03271)      city  NaN  NaN   \n",
       "1  28.0   72147.539062  POINT (39.00729 -13.13644)      city  NaN  NaN   \n",
       "2  33.0  256415.250000  POINT (35.25256 -13.29065)      city  NaN  NaN   \n",
       "3  70.0   54299.500000  POINT (34.32517 -14.42367)      city  NaN  NaN   \n",
       "4  82.0  299286.531250  POINT (40.69389 -14.56434)      city  NaN  NaN   \n",
       "\n",
       "   TotalSeats Country Na  Airport1La  Airport1Lo  ... outflows CNTRY_NAME  \\\n",
       "0         NaN        NaN         NaN         NaN  ...      NaN        NaN   \n",
       "1         NaN        NaN         NaN         NaN  ...      NaN        NaN   \n",
       "2         NaN        NaN         NaN         NaN  ...      NaN        NaN   \n",
       "3         NaN        NaN         NaN         NaN  ...      NaN        NaN   \n",
       "4         NaN        NaN         NaN         NaN  ...      NaN        NaN   \n",
       "\n",
       "  NAME ALT1_NAME ALT2_NAME  ETYPE CNTRY_BORD          x          y  \\\n",
       "0  NaN       NaN       NaN    NaN        NaN  40.508329 -13.032714   \n",
       "1  NaN       NaN       NaN    NaN        NaN  39.007295 -13.136438   \n",
       "2  NaN       NaN       NaN    NaN        NaN  35.252564 -13.290649   \n",
       "3  NaN       NaN       NaN    NaN        NaN  34.325167 -14.423666   \n",
       "4  NaN       NaN       NaN    NaN        NaN  40.693888 -14.564339   \n",
       "\n",
       "              NN  \n",
       "0           9644  \n",
       "1   new_obj_2345  \n",
       "2   new_obj_2286  \n",
       "3  6188_816_5074  \n",
       "4   new_obj_2085  \n",
       "\n",
       "[5 rows x 25 columns]"
      ]
     },
     "execution_count": 47,
     "metadata": {},
     "output_type": "execute_result"
    }
   ],
   "source": [
    "dest_snapped.head()"
   ]
  },
  {
   "cell_type": "code",
   "execution_count": 44,
   "metadata": {},
   "outputs": [],
   "source": [
    "origins_join_rename = origins_join.copy()\n",
    "origins_join_rename.columns = pd.MultiIndex.from_arrays([['origin' for each in origins_snapped.columns]+list(dest_snapped.dest_type), origins_snapped.columns.append(dest_snapped.index)])"
   ]
  },
  {
   "cell_type": "code",
   "execution_count": 45,
   "metadata": {
    "scrolled": true
   },
   "outputs": [
    {
     "data": {
      "text/html": [
       "<div>\n",
       "<style scoped>\n",
       "    .dataframe tbody tr th:only-of-type {\n",
       "        vertical-align: middle;\n",
       "    }\n",
       "\n",
       "    .dataframe tbody tr th {\n",
       "        vertical-align: top;\n",
       "    }\n",
       "\n",
       "    .dataframe thead tr th {\n",
       "        text-align: left;\n",
       "    }\n",
       "</style>\n",
       "<table border=\"1\" class=\"dataframe\">\n",
       "  <thead>\n",
       "    <tr>\n",
       "      <th></th>\n",
       "      <th colspan=\"7\" halign=\"left\">origin</th>\n",
       "      <th colspan=\"3\" halign=\"left\">city</th>\n",
       "      <th>...</th>\n",
       "      <th colspan=\"10\" halign=\"left\">border</th>\n",
       "    </tr>\n",
       "    <tr>\n",
       "      <th></th>\n",
       "      <th>Pop</th>\n",
       "      <th>geometry</th>\n",
       "      <th>pointid</th>\n",
       "      <th>NN</th>\n",
       "      <th>NN_dist</th>\n",
       "      <th>NN_dist_seconds</th>\n",
       "      <th>NN_dist_hours</th>\n",
       "      <th>0</th>\n",
       "      <th>1</th>\n",
       "      <th>2</th>\n",
       "      <th>...</th>\n",
       "      <th>67</th>\n",
       "      <th>68</th>\n",
       "      <th>69</th>\n",
       "      <th>70</th>\n",
       "      <th>71</th>\n",
       "      <th>72</th>\n",
       "      <th>73</th>\n",
       "      <th>74</th>\n",
       "      <th>75</th>\n",
       "      <th>76</th>\n",
       "    </tr>\n",
       "  </thead>\n",
       "  <tbody>\n",
       "    <tr>\n",
       "      <th>1226</th>\n",
       "      <td>12.027128</td>\n",
       "      <td>POINT (40.43875 -10.47458)</td>\n",
       "      <td>1226</td>\n",
       "      <td>8125</td>\n",
       "      <td>8687.144305</td>\n",
       "      <td>1042.457317</td>\n",
       "      <td>0.289571</td>\n",
       "      <td>51835.439941</td>\n",
       "      <td>51189.608634</td>\n",
       "      <td>98127.513472</td>\n",
       "      <td>...</td>\n",
       "      <td>196428.642744</td>\n",
       "      <td>196428.642744</td>\n",
       "      <td>196428.642744</td>\n",
       "      <td>196428.642744</td>\n",
       "      <td>194067.942744</td>\n",
       "      <td>194067.942744</td>\n",
       "      <td>120861.15324</td>\n",
       "      <td>120861.15324</td>\n",
       "      <td>0.0</td>\n",
       "      <td>0.0</td>\n",
       "    </tr>\n",
       "    <tr>\n",
       "      <th>1227</th>\n",
       "      <td>10.314653</td>\n",
       "      <td>POINT (40.44708 -10.47458)</td>\n",
       "      <td>1227</td>\n",
       "      <td>8125</td>\n",
       "      <td>9291.638068</td>\n",
       "      <td>1114.996568</td>\n",
       "      <td>0.309721</td>\n",
       "      <td>51835.439941</td>\n",
       "      <td>51189.608634</td>\n",
       "      <td>98127.513472</td>\n",
       "      <td>...</td>\n",
       "      <td>196428.642744</td>\n",
       "      <td>196428.642744</td>\n",
       "      <td>196428.642744</td>\n",
       "      <td>196428.642744</td>\n",
       "      <td>194067.942744</td>\n",
       "      <td>194067.942744</td>\n",
       "      <td>120861.15324</td>\n",
       "      <td>120861.15324</td>\n",
       "      <td>0.0</td>\n",
       "      <td>0.0</td>\n",
       "    </tr>\n",
       "    <tr>\n",
       "      <th>1228</th>\n",
       "      <td>8.879251</td>\n",
       "      <td>POINT (40.45542 -10.47458)</td>\n",
       "      <td>1228</td>\n",
       "      <td>8125</td>\n",
       "      <td>9943.169391</td>\n",
       "      <td>1193.180327</td>\n",
       "      <td>0.331439</td>\n",
       "      <td>51835.439941</td>\n",
       "      <td>51189.608634</td>\n",
       "      <td>98127.513472</td>\n",
       "      <td>...</td>\n",
       "      <td>196428.642744</td>\n",
       "      <td>196428.642744</td>\n",
       "      <td>196428.642744</td>\n",
       "      <td>196428.642744</td>\n",
       "      <td>194067.942744</td>\n",
       "      <td>194067.942744</td>\n",
       "      <td>120861.15324</td>\n",
       "      <td>120861.15324</td>\n",
       "      <td>0.0</td>\n",
       "      <td>0.0</td>\n",
       "    </tr>\n",
       "    <tr>\n",
       "      <th>1229</th>\n",
       "      <td>7.824205</td>\n",
       "      <td>POINT (40.46375 -10.47458)</td>\n",
       "      <td>1229</td>\n",
       "      <td>8125</td>\n",
       "      <td>10633.096114</td>\n",
       "      <td>1275.971534</td>\n",
       "      <td>0.354437</td>\n",
       "      <td>51835.439941</td>\n",
       "      <td>51189.608634</td>\n",
       "      <td>98127.513472</td>\n",
       "      <td>...</td>\n",
       "      <td>196428.642744</td>\n",
       "      <td>196428.642744</td>\n",
       "      <td>196428.642744</td>\n",
       "      <td>196428.642744</td>\n",
       "      <td>194067.942744</td>\n",
       "      <td>194067.942744</td>\n",
       "      <td>120861.15324</td>\n",
       "      <td>120861.15324</td>\n",
       "      <td>0.0</td>\n",
       "      <td>0.0</td>\n",
       "    </tr>\n",
       "    <tr>\n",
       "      <th>2500</th>\n",
       "      <td>11.924029</td>\n",
       "      <td>POINT (40.43042 -10.48292)</td>\n",
       "      <td>2500</td>\n",
       "      <td>8125</td>\n",
       "      <td>7397.180644</td>\n",
       "      <td>887.661677</td>\n",
       "      <td>0.246573</td>\n",
       "      <td>51835.439941</td>\n",
       "      <td>51189.608634</td>\n",
       "      <td>98127.513472</td>\n",
       "      <td>...</td>\n",
       "      <td>196428.642744</td>\n",
       "      <td>196428.642744</td>\n",
       "      <td>196428.642744</td>\n",
       "      <td>196428.642744</td>\n",
       "      <td>194067.942744</td>\n",
       "      <td>194067.942744</td>\n",
       "      <td>120861.15324</td>\n",
       "      <td>120861.15324</td>\n",
       "      <td>0.0</td>\n",
       "      <td>0.0</td>\n",
       "    </tr>\n",
       "  </tbody>\n",
       "</table>\n",
       "<p>5 rows × 84 columns</p>\n",
       "</div>"
      ],
      "text/plain": [
       "         origin                                                          \\\n",
       "            Pop                    geometry pointid    NN       NN_dist   \n",
       "1226  12.027128  POINT (40.43875 -10.47458)    1226  8125   8687.144305   \n",
       "1227  10.314653  POINT (40.44708 -10.47458)    1227  8125   9291.638068   \n",
       "1228   8.879251  POINT (40.45542 -10.47458)    1228  8125   9943.169391   \n",
       "1229   7.824205  POINT (40.46375 -10.47458)    1229  8125  10633.096114   \n",
       "2500  11.924029  POINT (40.43042 -10.48292)    2500  8125   7397.180644   \n",
       "\n",
       "                                            city                              \\\n",
       "     NN_dist_seconds NN_dist_hours             0             1             2   \n",
       "1226     1042.457317      0.289571  51835.439941  51189.608634  98127.513472   \n",
       "1227     1114.996568      0.309721  51835.439941  51189.608634  98127.513472   \n",
       "1228     1193.180327      0.331439  51835.439941  51189.608634  98127.513472   \n",
       "1229     1275.971534      0.354437  51835.439941  51189.608634  98127.513472   \n",
       "2500      887.661677      0.246573  51835.439941  51189.608634  98127.513472   \n",
       "\n",
       "      ...         border                                               \\\n",
       "      ...             67             68             69             70   \n",
       "1226  ...  196428.642744  196428.642744  196428.642744  196428.642744   \n",
       "1227  ...  196428.642744  196428.642744  196428.642744  196428.642744   \n",
       "1228  ...  196428.642744  196428.642744  196428.642744  196428.642744   \n",
       "1229  ...  196428.642744  196428.642744  196428.642744  196428.642744   \n",
       "2500  ...  196428.642744  196428.642744  196428.642744  196428.642744   \n",
       "\n",
       "                                                                          \n",
       "                 71             72            73            74   75   76  \n",
       "1226  194067.942744  194067.942744  120861.15324  120861.15324  0.0  0.0  \n",
       "1227  194067.942744  194067.942744  120861.15324  120861.15324  0.0  0.0  \n",
       "1228  194067.942744  194067.942744  120861.15324  120861.15324  0.0  0.0  \n",
       "1229  194067.942744  194067.942744  120861.15324  120861.15324  0.0  0.0  \n",
       "2500  194067.942744  194067.942744  120861.15324  120861.15324  0.0  0.0  \n",
       "\n",
       "[5 rows x 84 columns]"
      ]
     },
     "execution_count": 45,
     "metadata": {},
     "output_type": "execute_result"
    }
   ],
   "source": [
    "origins_join_rename.head()"
   ]
  },
  {
   "cell_type": "markdown",
   "metadata": {},
   "source": [
    "Add snapping time to each column (speed of 30 km/h)"
   ]
  },
  {
   "cell_type": "code",
   "execution_count": 48,
   "metadata": {},
   "outputs": [],
   "source": [
    "origins_join2 = origins_join_rename.apply(lambda x: x + origins_join_rename.origin.NN_dist_seconds if x.name[1] in dest_snapped.index else x)"
   ]
  },
  {
   "cell_type": "code",
   "execution_count": 49,
   "metadata": {},
   "outputs": [
    {
     "data": {
      "text/html": [
       "<div>\n",
       "<style scoped>\n",
       "    .dataframe tbody tr th:only-of-type {\n",
       "        vertical-align: middle;\n",
       "    }\n",
       "\n",
       "    .dataframe tbody tr th {\n",
       "        vertical-align: top;\n",
       "    }\n",
       "\n",
       "    .dataframe thead tr th {\n",
       "        text-align: left;\n",
       "    }\n",
       "</style>\n",
       "<table border=\"1\" class=\"dataframe\">\n",
       "  <thead>\n",
       "    <tr>\n",
       "      <th></th>\n",
       "      <th colspan=\"7\" halign=\"left\">origin</th>\n",
       "      <th colspan=\"3\" halign=\"left\">city</th>\n",
       "      <th>...</th>\n",
       "      <th colspan=\"10\" halign=\"left\">border</th>\n",
       "    </tr>\n",
       "    <tr>\n",
       "      <th></th>\n",
       "      <th>Pop</th>\n",
       "      <th>geometry</th>\n",
       "      <th>pointid</th>\n",
       "      <th>NN</th>\n",
       "      <th>NN_dist</th>\n",
       "      <th>NN_dist_seconds</th>\n",
       "      <th>NN_dist_hours</th>\n",
       "      <th>0</th>\n",
       "      <th>1</th>\n",
       "      <th>2</th>\n",
       "      <th>...</th>\n",
       "      <th>67</th>\n",
       "      <th>68</th>\n",
       "      <th>69</th>\n",
       "      <th>70</th>\n",
       "      <th>71</th>\n",
       "      <th>72</th>\n",
       "      <th>73</th>\n",
       "      <th>74</th>\n",
       "      <th>75</th>\n",
       "      <th>76</th>\n",
       "    </tr>\n",
       "  </thead>\n",
       "  <tbody>\n",
       "    <tr>\n",
       "      <th>1226</th>\n",
       "      <td>12.027128</td>\n",
       "      <td>POINT (40.43875 -10.47458)</td>\n",
       "      <td>1226</td>\n",
       "      <td>8125</td>\n",
       "      <td>8687.144305</td>\n",
       "      <td>1042.457317</td>\n",
       "      <td>0.289571</td>\n",
       "      <td>52877.897257</td>\n",
       "      <td>52232.065951</td>\n",
       "      <td>99169.970789</td>\n",
       "      <td>...</td>\n",
       "      <td>197471.100061</td>\n",
       "      <td>197471.100061</td>\n",
       "      <td>197471.100061</td>\n",
       "      <td>197471.100061</td>\n",
       "      <td>195110.400061</td>\n",
       "      <td>195110.400061</td>\n",
       "      <td>121903.610557</td>\n",
       "      <td>121903.610557</td>\n",
       "      <td>1042.457317</td>\n",
       "      <td>1042.457317</td>\n",
       "    </tr>\n",
       "    <tr>\n",
       "      <th>1227</th>\n",
       "      <td>10.314653</td>\n",
       "      <td>POINT (40.44708 -10.47458)</td>\n",
       "      <td>1227</td>\n",
       "      <td>8125</td>\n",
       "      <td>9291.638068</td>\n",
       "      <td>1114.996568</td>\n",
       "      <td>0.309721</td>\n",
       "      <td>52950.436509</td>\n",
       "      <td>52304.605202</td>\n",
       "      <td>99242.510040</td>\n",
       "      <td>...</td>\n",
       "      <td>197543.639312</td>\n",
       "      <td>197543.639312</td>\n",
       "      <td>197543.639312</td>\n",
       "      <td>197543.639312</td>\n",
       "      <td>195182.939312</td>\n",
       "      <td>195182.939312</td>\n",
       "      <td>121976.149808</td>\n",
       "      <td>121976.149808</td>\n",
       "      <td>1114.996568</td>\n",
       "      <td>1114.996568</td>\n",
       "    </tr>\n",
       "    <tr>\n",
       "      <th>1228</th>\n",
       "      <td>8.879251</td>\n",
       "      <td>POINT (40.45542 -10.47458)</td>\n",
       "      <td>1228</td>\n",
       "      <td>8125</td>\n",
       "      <td>9943.169391</td>\n",
       "      <td>1193.180327</td>\n",
       "      <td>0.331439</td>\n",
       "      <td>53028.620268</td>\n",
       "      <td>52382.788961</td>\n",
       "      <td>99320.693799</td>\n",
       "      <td>...</td>\n",
       "      <td>197621.823071</td>\n",
       "      <td>197621.823071</td>\n",
       "      <td>197621.823071</td>\n",
       "      <td>197621.823071</td>\n",
       "      <td>195261.123071</td>\n",
       "      <td>195261.123071</td>\n",
       "      <td>122054.333567</td>\n",
       "      <td>122054.333567</td>\n",
       "      <td>1193.180327</td>\n",
       "      <td>1193.180327</td>\n",
       "    </tr>\n",
       "    <tr>\n",
       "      <th>1229</th>\n",
       "      <td>7.824205</td>\n",
       "      <td>POINT (40.46375 -10.47458)</td>\n",
       "      <td>1229</td>\n",
       "      <td>8125</td>\n",
       "      <td>10633.096114</td>\n",
       "      <td>1275.971534</td>\n",
       "      <td>0.354437</td>\n",
       "      <td>53111.411475</td>\n",
       "      <td>52465.580168</td>\n",
       "      <td>99403.485006</td>\n",
       "      <td>...</td>\n",
       "      <td>197704.614278</td>\n",
       "      <td>197704.614278</td>\n",
       "      <td>197704.614278</td>\n",
       "      <td>197704.614278</td>\n",
       "      <td>195343.914278</td>\n",
       "      <td>195343.914278</td>\n",
       "      <td>122137.124774</td>\n",
       "      <td>122137.124774</td>\n",
       "      <td>1275.971534</td>\n",
       "      <td>1275.971534</td>\n",
       "    </tr>\n",
       "    <tr>\n",
       "      <th>2500</th>\n",
       "      <td>11.924029</td>\n",
       "      <td>POINT (40.43042 -10.48292)</td>\n",
       "      <td>2500</td>\n",
       "      <td>8125</td>\n",
       "      <td>7397.180644</td>\n",
       "      <td>887.661677</td>\n",
       "      <td>0.246573</td>\n",
       "      <td>52723.101618</td>\n",
       "      <td>52077.270311</td>\n",
       "      <td>99015.175149</td>\n",
       "      <td>...</td>\n",
       "      <td>197316.304421</td>\n",
       "      <td>197316.304421</td>\n",
       "      <td>197316.304421</td>\n",
       "      <td>197316.304421</td>\n",
       "      <td>194955.604421</td>\n",
       "      <td>194955.604421</td>\n",
       "      <td>121748.814917</td>\n",
       "      <td>121748.814917</td>\n",
       "      <td>887.661677</td>\n",
       "      <td>887.661677</td>\n",
       "    </tr>\n",
       "  </tbody>\n",
       "</table>\n",
       "<p>5 rows × 84 columns</p>\n",
       "</div>"
      ],
      "text/plain": [
       "         origin                                                          \\\n",
       "            Pop                    geometry pointid    NN       NN_dist   \n",
       "1226  12.027128  POINT (40.43875 -10.47458)    1226  8125   8687.144305   \n",
       "1227  10.314653  POINT (40.44708 -10.47458)    1227  8125   9291.638068   \n",
       "1228   8.879251  POINT (40.45542 -10.47458)    1228  8125   9943.169391   \n",
       "1229   7.824205  POINT (40.46375 -10.47458)    1229  8125  10633.096114   \n",
       "2500  11.924029  POINT (40.43042 -10.48292)    2500  8125   7397.180644   \n",
       "\n",
       "                                            city                              \\\n",
       "     NN_dist_seconds NN_dist_hours             0             1             2   \n",
       "1226     1042.457317      0.289571  52877.897257  52232.065951  99169.970789   \n",
       "1227     1114.996568      0.309721  52950.436509  52304.605202  99242.510040   \n",
       "1228     1193.180327      0.331439  53028.620268  52382.788961  99320.693799   \n",
       "1229     1275.971534      0.354437  53111.411475  52465.580168  99403.485006   \n",
       "2500      887.661677      0.246573  52723.101618  52077.270311  99015.175149   \n",
       "\n",
       "      ...         border                                               \\\n",
       "      ...             67             68             69             70   \n",
       "1226  ...  197471.100061  197471.100061  197471.100061  197471.100061   \n",
       "1227  ...  197543.639312  197543.639312  197543.639312  197543.639312   \n",
       "1228  ...  197621.823071  197621.823071  197621.823071  197621.823071   \n",
       "1229  ...  197704.614278  197704.614278  197704.614278  197704.614278   \n",
       "2500  ...  197316.304421  197316.304421  197316.304421  197316.304421   \n",
       "\n",
       "                                                                               \\\n",
       "                 71             72             73             74           75   \n",
       "1226  195110.400061  195110.400061  121903.610557  121903.610557  1042.457317   \n",
       "1227  195182.939312  195182.939312  121976.149808  121976.149808  1114.996568   \n",
       "1228  195261.123071  195261.123071  122054.333567  122054.333567  1193.180327   \n",
       "1229  195343.914278  195343.914278  122137.124774  122137.124774  1275.971534   \n",
       "2500  194955.604421  194955.604421  121748.814917  121748.814917   887.661677   \n",
       "\n",
       "                   \n",
       "               76  \n",
       "1226  1042.457317  \n",
       "1227  1114.996568  \n",
       "1228  1193.180327  \n",
       "1229  1275.971534  \n",
       "2500   887.661677  \n",
       "\n",
       "[5 rows x 84 columns]"
      ]
     },
     "execution_count": 49,
     "metadata": {},
     "output_type": "execute_result"
    }
   ],
   "source": [
    "origins_join2.head()"
   ]
  },
  {
   "cell_type": "markdown",
   "metadata": {},
   "source": [
    "Save OD"
   ]
  },
  {
   "cell_type": "code",
   "execution_count": 49,
   "metadata": {},
   "outputs": [],
   "source": [
    "origins_join2.to_csv(os.path.join(out_folder, 'OD_11_08.csv'))"
   ]
  },
  {
   "cell_type": "code",
   "execution_count": 50,
   "metadata": {},
   "outputs": [],
   "source": [
    "od_cities = np.array(origins_join2['city'])"
   ]
  },
  {
   "cell_type": "markdown",
   "metadata": {},
   "source": [
    "### Make rasters of min travel time to each dest"
   ]
  },
  {
   "cell_type": "code",
   "execution_count": 63,
   "metadata": {},
   "outputs": [
    {
     "data": {
      "text/plain": [
       "'/home/wb514197/data/INFRA_SAP/MOZ/output'"
      ]
     },
     "execution_count": 63,
     "metadata": {},
     "output_type": "execute_result"
    }
   ],
   "source": [
    "out_folder"
   ]
  },
  {
   "cell_type": "code",
   "execution_count": 64,
   "metadata": {},
   "outputs": [],
   "source": [
    "output_path = os.path.join(out_folder, \"travel_time\")\n",
    "if not os.path.exists(output_path):\n",
    "    os.mkdir(output_path)"
   ]
  },
  {
   "cell_type": "code",
   "execution_count": 66,
   "metadata": {},
   "outputs": [],
   "source": [
    "city_min = pd.DataFrame(origins_join2['city'].min(axis=1).apply(lambda x: (x/3600)), columns=[\"tt_city\"])\n",
    "ports_min = pd.DataFrame(origins_join2['port'].min(axis=1).apply(lambda x: (x/3600)), columns=[\"tt_port\"])\n",
    "airports_min = pd.DataFrame(origins_join2['airport'].min(axis=1).apply(lambda x: (x/3600)), columns=[\"tt_airport\"])\n",
    "borders_min = pd.DataFrame(origins_join2['border'].min(axis=1).apply(lambda x: (x/3600)), columns=[\"tt_border\"])"
   ]
  },
  {
   "cell_type": "code",
   "execution_count": 73,
   "metadata": {},
   "outputs": [],
   "source": [
    "origins_tt = origins_snapped.join([city_min, airports_min, ports_min, borders_min])"
   ]
  },
  {
   "cell_type": "code",
   "execution_count": 68,
   "metadata": {},
   "outputs": [
    {
     "data": {
      "text/plain": [
       "'/home/wb514197/data/INFRA_SAP/MOZ/output/travel_time'"
      ]
     },
     "execution_count": 68,
     "metadata": {},
     "output_type": "execute_result"
    }
   ],
   "source": [
    "output_path"
   ]
  },
  {
   "cell_type": "code",
   "execution_count": null,
   "metadata": {},
   "outputs": [],
   "source": [
    "aggregator.rasterize_gdf(origins_tt, 'tt_city', raster_path, os.path.join(output_path,f\"cities_min_tt.tif\"))\n",
    "aggregator.rasterize_gdf(origins_tt, 'tt_port', raster_path, os.path.join(output_path,f\"port_min_tt.tif\"))\n",
    "aggregator.rasterize_gdf(origins_tt, 'tt_airport', raster_path, os.path.join(output_path,f\"airport_min_tt.tif\"))\n",
    "aggregator.rasterize_gdf(origins_tt, 'tt_border', raster_path, os.path.join(output_path,f\"borders_min_tt.tif\"))"
   ]
  }
 ],
 "metadata": {
  "kernelspec": {
   "display_name": "GEO",
   "language": "python",
   "name": "geo"
  },
  "language_info": {
   "codemirror_mode": {
    "name": "ipython",
    "version": 3
   },
   "file_extension": ".py",
   "mimetype": "text/x-python",
   "name": "python",
   "nbconvert_exporter": "python",
   "pygments_lexer": "ipython3",
   "version": "3.7.6"
  }
 },
 "nbformat": 4,
 "nbformat_minor": 2
}
