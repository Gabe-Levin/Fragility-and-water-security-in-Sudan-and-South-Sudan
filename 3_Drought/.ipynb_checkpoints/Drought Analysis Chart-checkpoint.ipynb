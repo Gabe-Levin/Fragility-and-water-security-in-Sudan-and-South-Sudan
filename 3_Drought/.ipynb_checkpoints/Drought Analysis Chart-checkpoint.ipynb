{
 "cells": [
  {
   "cell_type": "markdown",
   "metadata": {},
   "source": [
    "Notebook for drought calculation"
   ]
  },
  {
   "cell_type": "code",
   "execution_count": 1,
   "metadata": {},
   "outputs": [],
   "source": [
    "import sys, os\n",
    "import geopandas as gpd\n",
    "import rasterio as rio\n",
    "import numpy as np\n",
    "from rasterstats import zonal_stats\n",
    "from rasterio.plot import show\n",
    "import pandas as pd\n",
    "from glob import glob"
   ]
  },
  {
   "cell_type": "code",
   "execution_count": 2,
   "metadata": {},
   "outputs": [],
   "source": [
    "import matplotlib.pyplot as plt\n",
    "from mpl_toolkits.axes_grid1 import make_axes_locatable\n",
    "from rasterio.plot import plotting_extent"
   ]
  },
  {
   "cell_type": "code",
   "execution_count": 3,
   "metadata": {},
   "outputs": [],
   "source": [
    "out_dir = os.path.join(os.path.expanduser(\"~\"), 'data', 'south_sudan')\n",
    "out_spei = os.path.join(out_dir, 'spei')"
   ]
  },
  {
   "cell_type": "code",
   "execution_count": 4,
   "metadata": {},
   "outputs": [],
   "source": [
    "adm2 = gpd.read_file(os.path.join(out_dir, \"SS_ADM2.shp\"))"
   ]
  },
  {
   "cell_type": "code",
   "execution_count": 5,
   "metadata": {},
   "outputs": [],
   "source": [
    "spei_files = os.listdir(out_spei)"
   ]
  },
  {
   "cell_type": "code",
   "execution_count": 6,
   "metadata": {},
   "outputs": [],
   "source": [
    "spei_files = [os.path.join(out_spei, f) for f in spei_files]"
   ]
  },
  {
   "cell_type": "markdown",
   "metadata": {},
   "source": [
    "## Drought chart"
   ]
  },
  {
   "cell_type": "code",
   "execution_count": 7,
   "metadata": {
    "scrolled": true
   },
   "outputs": [
    {
     "data": {
      "text/plain": [
       "['/home/wb514197/data/south_sudan/spei/wld_cli_spei_gamma_12_terraclimate_1958-12-01.tif',\n",
       " '/home/wb514197/data/south_sudan/spei/wld_cli_spei_gamma_12_terraclimate_1959-01-01.tif',\n",
       " '/home/wb514197/data/south_sudan/spei/wld_cli_spei_gamma_12_terraclimate_1959-02-01.tif',\n",
       " '/home/wb514197/data/south_sudan/spei/wld_cli_spei_gamma_12_terraclimate_1959-03-01.tif',\n",
       " '/home/wb514197/data/south_sudan/spei/wld_cli_spei_gamma_12_terraclimate_1959-04-01.tif']"
      ]
     },
     "execution_count": 7,
     "metadata": {},
     "output_type": "execute_result"
    }
   ],
   "source": [
    "spei_files[0:5]"
   ]
  },
  {
   "cell_type": "code",
   "execution_count": 28,
   "metadata": {},
   "outputs": [],
   "source": [
    "for file in spei_files[0:5]:\n",
    "    ymd = file[-14:-4]\n",
    "    ymd = ymd.split('-')\n",
    "    y = ymd[0]\n",
    "    m = ymd[1]"
   ]
  },
  {
   "cell_type": "code",
   "execution_count": 35,
   "metadata": {},
   "outputs": [],
   "source": [
    "# spei_class = {\n",
    "#     'Exceptionally Moist' : [2, 100],\n",
    "#     'Extremely Moist' : [1.5, 2],\n",
    "#     'Very Moist' : [1.2, 1.5],\n",
    "#     'Moderately Moist' : [0.7, 1.2],\n",
    "#     'Abnormally Moist' : [0.5, 0.7],\n",
    "#     'Near Normal' : [-0.5, 0.5],\n",
    "#     'Abnormally Dry' : [-0.7, -0.5],\n",
    "#     'Moderately Dry' : [-1.2, -0.7],\n",
    "#     'Severely Dry' : [-1.5, -1.2],\n",
    "#     'Extremely Dry' : [-2, -1.5],\n",
    "#     'Exceptionally Dry' : [-100, -2]\n",
    "# }\n",
    "# spei_class = {\n",
    "#     'Exceptionally Moist' : 11,\n",
    "#     'Extremely Moist' : 10,\n",
    "#     'Very Moist' : 9,\n",
    "#     'Moderately Moist' : 8,\n",
    "#     'Abnormally Moist' : 7,\n",
    "#     'Near Normal' : 6,\n",
    "#     'Abnormally Dry' : 5,\n",
    "#     'Moderately Dry' : 4,\n",
    "#     'Severely Dry' : 3,\n",
    "#     'Extremely Dry' : 2,\n",
    "#     'Exceptionally Dry' : 1\n",
    "# }"
   ]
  },
  {
   "cell_type": "code",
   "execution_count": 118,
   "metadata": {},
   "outputs": [
    {
     "data": {
      "text/plain": [
       "dict_keys(['Exceptionally Moist', 'Extremely Moist', 'Very Moist', 'Moderately Moist', 'Abnormally Moist', 'Near Normal', 'Abnormally Dry', 'Moderately Dry', 'Severely Dry', 'Extremely Dry', 'Exceptionally Dry'])"
      ]
     },
     "execution_count": 118,
     "metadata": {},
     "output_type": "execute_result"
    }
   ],
   "source": [
    "spei_class.keys()"
   ]
  },
  {
   "cell_type": "code",
   "execution_count": 125,
   "metadata": {},
   "outputs": [],
   "source": [
    "spei_rio = rio.open(file)\n",
    "data = spei_rio.read(1)"
   ]
  },
  {
   "cell_type": "code",
   "execution_count": 127,
   "metadata": {},
   "outputs": [],
   "source": [
    "classes = ['Exceptionally Dry',\n",
    " 'Extremely Dry',\n",
    " 'Severely Dry',\n",
    " 'Moderately Dry',\n",
    " 'Abnormally Dry',\n",
    " 'Near Normal',\n",
    " 'Abnormally Moist',\n",
    " 'Moderately Moist',\n",
    " 'Very Moist',\n",
    " 'Extremely Moist',\n",
    " 'Exceptionally Moist']\n",
    "\n",
    "bins = [-100, -2, -1.5, -1.2, -0.7, -0.5, 0.5, 0.7, 1.2, 1.5, 2, 100]"
   ]
  },
  {
   "cell_type": "code",
   "execution_count": 128,
   "metadata": {},
   "outputs": [],
   "source": [
    "data[np.isnan(data)] = -9999"
   ]
  },
  {
   "cell_type": "code",
   "execution_count": 129,
   "metadata": {},
   "outputs": [],
   "source": [
    "data_cat = np.digitize(data, bins)"
   ]
  },
  {
   "cell_type": "code",
   "execution_count": 130,
   "metadata": {},
   "outputs": [],
   "source": [
    "# data_cat[np.isnan(data)] = -1"
   ]
  },
  {
   "cell_type": "code",
   "execution_count": 132,
   "metadata": {},
   "outputs": [
    {
     "data": {
      "text/plain": [
       "2.4126353"
      ]
     },
     "execution_count": 132,
     "metadata": {},
     "output_type": "execute_result"
    }
   ],
   "source": [
    "data.max()"
   ]
  },
  {
   "cell_type": "code",
   "execution_count": 131,
   "metadata": {},
   "outputs": [
    {
     "data": {
      "text/plain": [
       "array([0, 0, 0, ..., 0, 0, 0])"
      ]
     },
     "execution_count": 131,
     "metadata": {},
     "output_type": "execute_result"
    }
   ],
   "source": [
    "data_cat[data_cat==0]"
   ]
  },
  {
   "cell_type": "code",
   "execution_count": 98,
   "metadata": {},
   "outputs": [
    {
     "data": {
      "text/plain": [
       "array([ 6,  7,  8,  9, 10, 11])"
      ]
     },
     "execution_count": 98,
     "metadata": {},
     "output_type": "execute_result"
    }
   ],
   "source": [
    "np.unique(data_cat)"
   ]
  },
  {
   "cell_type": "code",
   "execution_count": 140,
   "metadata": {},
   "outputs": [],
   "source": [
    "(unique, counts) = np.unique(data_cat, return_counts=True)"
   ]
  },
  {
   "cell_type": "code",
   "execution_count": 141,
   "metadata": {},
   "outputs": [
    {
     "data": {
      "text/plain": [
       "array([27324,  2908,  1531,  5845,  5485,  9708,  3958])"
      ]
     },
     "execution_count": 141,
     "metadata": {},
     "output_type": "execute_result"
    }
   ],
   "source": [
    "counts"
   ]
  },
  {
   "cell_type": "code",
   "execution_count": 150,
   "metadata": {},
   "outputs": [],
   "source": [
    "counts, b = np.histogram(data, bins=bins)"
   ]
  },
  {
   "cell_type": "code",
   "execution_count": 151,
   "metadata": {},
   "outputs": [
    {
     "data": {
      "text/plain": [
       "array([   0,    0,    0,    0,    0, 2908, 1531, 5845, 5485, 9708, 3958])"
      ]
     },
     "execution_count": 151,
     "metadata": {},
     "output_type": "execute_result"
    }
   ],
   "source": [
    "counts"
   ]
  },
  {
   "cell_type": "code",
   "execution_count": 152,
   "metadata": {},
   "outputs": [],
   "source": [
    "# pd.DataFrame(counts, columns=[f\"{y}-{m}\"], index=classes)"
   ]
  },
  {
   "cell_type": "code",
   "execution_count": 165,
   "metadata": {},
   "outputs": [],
   "source": [
    "from tqdm import tqdm"
   ]
  },
  {
   "cell_type": "code",
   "execution_count": 166,
   "metadata": {},
   "outputs": [
    {
     "name": "stderr",
     "output_type": "stream",
     "text": [
      "100%|██████████| 745/745 [00:03<00:00, 201.48it/s]\n"
     ]
    }
   ],
   "source": [
    "res = []\n",
    "for file in tqdm(spei_files):\n",
    "    ymd = file[-14:-4]\n",
    "    ymd = ymd.split('-')\n",
    "    y = ymd[0]\n",
    "    m = ymd[1]\n",
    "    \n",
    "    spei_rio = rio.open(file)\n",
    "    data = spei_rio.read(1)\n",
    "    data[np.isnan(data)] = -9999\n",
    "    counts, b = np.histogram(data, bins=bins)\n",
    "    res_df = pd.DataFrame(counts, columns=[f\"{y}-{m}\"], index=classes)\n",
    "    res.append(res_df)"
   ]
  },
  {
   "cell_type": "code",
   "execution_count": 167,
   "metadata": {},
   "outputs": [],
   "source": [
    "res = pd.concat(res, axis=1)"
   ]
  },
  {
   "cell_type": "markdown",
   "metadata": {},
   "source": [
    "Make sure that order of classes matches with Benny's template"
   ]
  },
  {
   "cell_type": "code",
   "execution_count": 179,
   "metadata": {},
   "outputs": [],
   "source": [
    "classes.reverse()"
   ]
  },
  {
   "cell_type": "code",
   "execution_count": 180,
   "metadata": {},
   "outputs": [
    {
     "data": {
      "text/plain": [
       "['Exceptionally Moist',\n",
       " 'Extremely Moist',\n",
       " 'Very Moist',\n",
       " 'Moderately Moist',\n",
       " 'Abnormally Moist',\n",
       " 'Near Normal',\n",
       " 'Abnormally Dry',\n",
       " 'Moderately Dry',\n",
       " 'Severely Dry',\n",
       " 'Extremely Dry',\n",
       " 'Exceptionally Dry']"
      ]
     },
     "execution_count": 180,
     "metadata": {},
     "output_type": "execute_result"
    }
   ],
   "source": [
    "classes"
   ]
  },
  {
   "cell_type": "code",
   "execution_count": 181,
   "metadata": {},
   "outputs": [
    {
     "data": {
      "text/html": [
       "<div>\n",
       "<style scoped>\n",
       "    .dataframe tbody tr th:only-of-type {\n",
       "        vertical-align: middle;\n",
       "    }\n",
       "\n",
       "    .dataframe tbody tr th {\n",
       "        vertical-align: top;\n",
       "    }\n",
       "\n",
       "    .dataframe thead th {\n",
       "        text-align: right;\n",
       "    }\n",
       "</style>\n",
       "<table border=\"1\" class=\"dataframe\">\n",
       "  <thead>\n",
       "    <tr style=\"text-align: right;\">\n",
       "      <th></th>\n",
       "      <th>1958-12</th>\n",
       "      <th>1959-01</th>\n",
       "      <th>1959-02</th>\n",
       "      <th>1959-03</th>\n",
       "      <th>1959-04</th>\n",
       "      <th>1959-05</th>\n",
       "      <th>1959-06</th>\n",
       "      <th>1959-07</th>\n",
       "      <th>1959-08</th>\n",
       "      <th>1959-09</th>\n",
       "      <th>...</th>\n",
       "      <th>2020-03</th>\n",
       "      <th>2020-04</th>\n",
       "      <th>2020-05</th>\n",
       "      <th>2020-06</th>\n",
       "      <th>2020-07</th>\n",
       "      <th>2020-08</th>\n",
       "      <th>2020-09</th>\n",
       "      <th>2020-10</th>\n",
       "      <th>2020-11</th>\n",
       "      <th>2020-12</th>\n",
       "    </tr>\n",
       "  </thead>\n",
       "  <tbody>\n",
       "    <tr>\n",
       "      <th>Exceptionally Moist</th>\n",
       "      <td>1430</td>\n",
       "      <td>3488</td>\n",
       "      <td>5535</td>\n",
       "      <td>7731</td>\n",
       "      <td>3958</td>\n",
       "      <td>3813</td>\n",
       "      <td>1162</td>\n",
       "      <td>0</td>\n",
       "      <td>0</td>\n",
       "      <td>6</td>\n",
       "      <td>...</td>\n",
       "      <td>0</td>\n",
       "      <td>0</td>\n",
       "      <td>0</td>\n",
       "      <td>0</td>\n",
       "      <td>50</td>\n",
       "      <td>175</td>\n",
       "      <td>498</td>\n",
       "      <td>541</td>\n",
       "      <td>667</td>\n",
       "      <td>467</td>\n",
       "    </tr>\n",
       "    <tr>\n",
       "      <th>Extremely Moist</th>\n",
       "      <td>11653</td>\n",
       "      <td>11697</td>\n",
       "      <td>11626</td>\n",
       "      <td>10773</td>\n",
       "      <td>9708</td>\n",
       "      <td>10738</td>\n",
       "      <td>2889</td>\n",
       "      <td>970</td>\n",
       "      <td>63</td>\n",
       "      <td>402</td>\n",
       "      <td>...</td>\n",
       "      <td>0</td>\n",
       "      <td>0</td>\n",
       "      <td>0</td>\n",
       "      <td>0</td>\n",
       "      <td>228</td>\n",
       "      <td>268</td>\n",
       "      <td>491</td>\n",
       "      <td>496</td>\n",
       "      <td>471</td>\n",
       "      <td>467</td>\n",
       "    </tr>\n",
       "    <tr>\n",
       "      <th>Very Moist</th>\n",
       "      <td>6937</td>\n",
       "      <td>5881</td>\n",
       "      <td>4822</td>\n",
       "      <td>4101</td>\n",
       "      <td>5485</td>\n",
       "      <td>5550</td>\n",
       "      <td>3871</td>\n",
       "      <td>2198</td>\n",
       "      <td>903</td>\n",
       "      <td>2338</td>\n",
       "      <td>...</td>\n",
       "      <td>0</td>\n",
       "      <td>0</td>\n",
       "      <td>4</td>\n",
       "      <td>1</td>\n",
       "      <td>188</td>\n",
       "      <td>288</td>\n",
       "      <td>318</td>\n",
       "      <td>347</td>\n",
       "      <td>326</td>\n",
       "      <td>351</td>\n",
       "    </tr>\n",
       "    <tr>\n",
       "      <th>Moderately Moist</th>\n",
       "      <td>5672</td>\n",
       "      <td>4829</td>\n",
       "      <td>4436</td>\n",
       "      <td>4022</td>\n",
       "      <td>5845</td>\n",
       "      <td>7223</td>\n",
       "      <td>10561</td>\n",
       "      <td>9830</td>\n",
       "      <td>13035</td>\n",
       "      <td>13200</td>\n",
       "      <td>...</td>\n",
       "      <td>0</td>\n",
       "      <td>137</td>\n",
       "      <td>212</td>\n",
       "      <td>166</td>\n",
       "      <td>823</td>\n",
       "      <td>595</td>\n",
       "      <td>803</td>\n",
       "      <td>691</td>\n",
       "      <td>582</td>\n",
       "      <td>527</td>\n",
       "    </tr>\n",
       "    <tr>\n",
       "      <th>Abnormally Moist</th>\n",
       "      <td>2541</td>\n",
       "      <td>2139</td>\n",
       "      <td>2331</td>\n",
       "      <td>2149</td>\n",
       "      <td>1531</td>\n",
       "      <td>1474</td>\n",
       "      <td>2921</td>\n",
       "      <td>4494</td>\n",
       "      <td>4581</td>\n",
       "      <td>5982</td>\n",
       "      <td>...</td>\n",
       "      <td>21</td>\n",
       "      <td>144</td>\n",
       "      <td>148</td>\n",
       "      <td>139</td>\n",
       "      <td>506</td>\n",
       "      <td>280</td>\n",
       "      <td>235</td>\n",
       "      <td>309</td>\n",
       "      <td>300</td>\n",
       "      <td>251</td>\n",
       "    </tr>\n",
       "    <tr>\n",
       "      <th>Near Normal</th>\n",
       "      <td>1202</td>\n",
       "      <td>1401</td>\n",
       "      <td>685</td>\n",
       "      <td>659</td>\n",
       "      <td>2908</td>\n",
       "      <td>637</td>\n",
       "      <td>8021</td>\n",
       "      <td>11698</td>\n",
       "      <td>10809</td>\n",
       "      <td>7507</td>\n",
       "      <td>...</td>\n",
       "      <td>1710</td>\n",
       "      <td>2009</td>\n",
       "      <td>2090</td>\n",
       "      <td>2182</td>\n",
       "      <td>1533</td>\n",
       "      <td>1706</td>\n",
       "      <td>2842</td>\n",
       "      <td>2806</td>\n",
       "      <td>2867</td>\n",
       "      <td>2870</td>\n",
       "    </tr>\n",
       "    <tr>\n",
       "      <th>Abnormally Dry</th>\n",
       "      <td>0</td>\n",
       "      <td>0</td>\n",
       "      <td>0</td>\n",
       "      <td>0</td>\n",
       "      <td>0</td>\n",
       "      <td>0</td>\n",
       "      <td>10</td>\n",
       "      <td>209</td>\n",
       "      <td>44</td>\n",
       "      <td>0</td>\n",
       "      <td>...</td>\n",
       "      <td>441</td>\n",
       "      <td>315</td>\n",
       "      <td>455</td>\n",
       "      <td>462</td>\n",
       "      <td>423</td>\n",
       "      <td>461</td>\n",
       "      <td>966</td>\n",
       "      <td>982</td>\n",
       "      <td>1013</td>\n",
       "      <td>1018</td>\n",
       "    </tr>\n",
       "    <tr>\n",
       "      <th>Moderately Dry</th>\n",
       "      <td>0</td>\n",
       "      <td>0</td>\n",
       "      <td>0</td>\n",
       "      <td>0</td>\n",
       "      <td>0</td>\n",
       "      <td>0</td>\n",
       "      <td>0</td>\n",
       "      <td>36</td>\n",
       "      <td>0</td>\n",
       "      <td>0</td>\n",
       "      <td>...</td>\n",
       "      <td>809</td>\n",
       "      <td>868</td>\n",
       "      <td>1007</td>\n",
       "      <td>831</td>\n",
       "      <td>1651</td>\n",
       "      <td>3250</td>\n",
       "      <td>4029</td>\n",
       "      <td>3297</td>\n",
       "      <td>3343</td>\n",
       "      <td>3088</td>\n",
       "    </tr>\n",
       "    <tr>\n",
       "      <th>Severely Dry</th>\n",
       "      <td>0</td>\n",
       "      <td>0</td>\n",
       "      <td>0</td>\n",
       "      <td>0</td>\n",
       "      <td>0</td>\n",
       "      <td>0</td>\n",
       "      <td>0</td>\n",
       "      <td>0</td>\n",
       "      <td>0</td>\n",
       "      <td>0</td>\n",
       "      <td>...</td>\n",
       "      <td>721</td>\n",
       "      <td>585</td>\n",
       "      <td>1047</td>\n",
       "      <td>518</td>\n",
       "      <td>1891</td>\n",
       "      <td>3357</td>\n",
       "      <td>4972</td>\n",
       "      <td>5108</td>\n",
       "      <td>4497</td>\n",
       "      <td>4809</td>\n",
       "    </tr>\n",
       "    <tr>\n",
       "      <th>Extremely Dry</th>\n",
       "      <td>0</td>\n",
       "      <td>0</td>\n",
       "      <td>0</td>\n",
       "      <td>0</td>\n",
       "      <td>0</td>\n",
       "      <td>0</td>\n",
       "      <td>0</td>\n",
       "      <td>0</td>\n",
       "      <td>0</td>\n",
       "      <td>0</td>\n",
       "      <td>...</td>\n",
       "      <td>5682</td>\n",
       "      <td>5893</td>\n",
       "      <td>7411</td>\n",
       "      <td>4011</td>\n",
       "      <td>8058</td>\n",
       "      <td>8095</td>\n",
       "      <td>8358</td>\n",
       "      <td>6579</td>\n",
       "      <td>6170</td>\n",
       "      <td>6416</td>\n",
       "    </tr>\n",
       "    <tr>\n",
       "      <th>Exceptionally Dry</th>\n",
       "      <td>0</td>\n",
       "      <td>0</td>\n",
       "      <td>0</td>\n",
       "      <td>0</td>\n",
       "      <td>0</td>\n",
       "      <td>0</td>\n",
       "      <td>0</td>\n",
       "      <td>0</td>\n",
       "      <td>0</td>\n",
       "      <td>0</td>\n",
       "      <td>...</td>\n",
       "      <td>20051</td>\n",
       "      <td>19484</td>\n",
       "      <td>17061</td>\n",
       "      <td>21125</td>\n",
       "      <td>14084</td>\n",
       "      <td>10960</td>\n",
       "      <td>5923</td>\n",
       "      <td>8279</td>\n",
       "      <td>9199</td>\n",
       "      <td>9171</td>\n",
       "    </tr>\n",
       "  </tbody>\n",
       "</table>\n",
       "<p>11 rows × 745 columns</p>\n",
       "</div>"
      ],
      "text/plain": [
       "                     1958-12  1959-01  1959-02  1959-03  1959-04  1959-05  \\\n",
       "Exceptionally Moist     1430     3488     5535     7731     3958     3813   \n",
       "Extremely Moist        11653    11697    11626    10773     9708    10738   \n",
       "Very Moist              6937     5881     4822     4101     5485     5550   \n",
       "Moderately Moist        5672     4829     4436     4022     5845     7223   \n",
       "Abnormally Moist        2541     2139     2331     2149     1531     1474   \n",
       "Near Normal             1202     1401      685      659     2908      637   \n",
       "Abnormally Dry             0        0        0        0        0        0   \n",
       "Moderately Dry             0        0        0        0        0        0   \n",
       "Severely Dry               0        0        0        0        0        0   \n",
       "Extremely Dry              0        0        0        0        0        0   \n",
       "Exceptionally Dry          0        0        0        0        0        0   \n",
       "\n",
       "                     1959-06  1959-07  1959-08  1959-09  ...  2020-03  \\\n",
       "Exceptionally Moist     1162        0        0        6  ...        0   \n",
       "Extremely Moist         2889      970       63      402  ...        0   \n",
       "Very Moist              3871     2198      903     2338  ...        0   \n",
       "Moderately Moist       10561     9830    13035    13200  ...        0   \n",
       "Abnormally Moist        2921     4494     4581     5982  ...       21   \n",
       "Near Normal             8021    11698    10809     7507  ...     1710   \n",
       "Abnormally Dry            10      209       44        0  ...      441   \n",
       "Moderately Dry             0       36        0        0  ...      809   \n",
       "Severely Dry               0        0        0        0  ...      721   \n",
       "Extremely Dry              0        0        0        0  ...     5682   \n",
       "Exceptionally Dry          0        0        0        0  ...    20051   \n",
       "\n",
       "                     2020-04  2020-05  2020-06  2020-07  2020-08  2020-09  \\\n",
       "Exceptionally Moist        0        0        0       50      175      498   \n",
       "Extremely Moist            0        0        0      228      268      491   \n",
       "Very Moist                 0        4        1      188      288      318   \n",
       "Moderately Moist         137      212      166      823      595      803   \n",
       "Abnormally Moist         144      148      139      506      280      235   \n",
       "Near Normal             2009     2090     2182     1533     1706     2842   \n",
       "Abnormally Dry           315      455      462      423      461      966   \n",
       "Moderately Dry           868     1007      831     1651     3250     4029   \n",
       "Severely Dry             585     1047      518     1891     3357     4972   \n",
       "Extremely Dry           5893     7411     4011     8058     8095     8358   \n",
       "Exceptionally Dry      19484    17061    21125    14084    10960     5923   \n",
       "\n",
       "                     2020-10  2020-11  2020-12  \n",
       "Exceptionally Moist      541      667      467  \n",
       "Extremely Moist          496      471      467  \n",
       "Very Moist               347      326      351  \n",
       "Moderately Moist         691      582      527  \n",
       "Abnormally Moist         309      300      251  \n",
       "Near Normal             2806     2867     2870  \n",
       "Abnormally Dry           982     1013     1018  \n",
       "Moderately Dry          3297     3343     3088  \n",
       "Severely Dry            5108     4497     4809  \n",
       "Extremely Dry           6579     6170     6416  \n",
       "Exceptionally Dry       8279     9199     9171  \n",
       "\n",
       "[11 rows x 745 columns]"
      ]
     },
     "execution_count": 181,
     "metadata": {},
     "output_type": "execute_result"
    }
   ],
   "source": [
    "res.loc[classes, :]"
   ]
  },
  {
   "cell_type": "code",
   "execution_count": 183,
   "metadata": {},
   "outputs": [],
   "source": [
    "res.loc[classes, :].to_csv(os.path.join(out_dir, \"spei_summary.csv\"))"
   ]
  }
 ],
 "metadata": {
  "kernelspec": {
   "display_name": "Python (Graph)",
   "language": "python",
   "name": "graph"
  },
  "language_info": {
   "codemirror_mode": {
    "name": "ipython",
    "version": 3
   },
   "file_extension": ".py",
   "mimetype": "text/x-python",
   "name": "python",
   "nbconvert_exporter": "python",
   "pygments_lexer": "ipython3",
   "version": "3.7.10"
  }
 },
 "nbformat": 4,
 "nbformat_minor": 2
}
