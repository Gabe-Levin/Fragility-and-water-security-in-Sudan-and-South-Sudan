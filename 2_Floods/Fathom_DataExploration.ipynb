{
 "cells": [
  {
   "cell_type": "code",
   "execution_count": 1,
   "metadata": {},
   "outputs": [],
   "source": [
    "import sys, os, importlib\n",
    "import rasterio\n",
    "from rasterio.plot import show\n",
    "import numpy as np\n",
    "\n",
    "import geopandas as gpd\n",
    "import pandas as pd\n",
    "\n",
    "from shapely.geometry import box\n",
    "from osgeo import gdal\n",
    "from rasterstats import zonal_stats\n",
    "\n",
    "\n",
    "from matplotlib import pyplot\n",
    "import matplotlib.colors as colors\n",
    "\n",
    "%matplotlib inline\n",
    "%load_ext autoreload\n",
    "%autoreload 2"
   ]
  },
  {
   "cell_type": "code",
   "execution_count": 2,
   "metadata": {},
   "outputs": [],
   "source": [
    "import sys\n",
    "\n",
    "sys.path.append(\"/home/public/Code/GOST\")\n",
    "\n",
    "import GOSTRocks.rasterMisc as rMisc\n",
    "import GOSTRocks.Urban.UrbanRaster as urban"
   ]
  },
  {
   "cell_type": "markdown",
   "metadata": {},
   "source": [
    "Pop could be extracted directly from the zip file, but we can't save to public/Data. So it would have to be extracted to personal files. Maybe there is a workaround"
   ]
  },
  {
   "cell_type": "code",
   "execution_count": 3,
   "metadata": {},
   "outputs": [],
   "source": [
    "iso3 = \"VCT\"\n",
    "\n",
    "#unzip and extract\n",
    "# pop_path = \"/home/public/Data/GLOBAL/Population/WorldPop_PPP_2020\"\n",
    "# pop_layer_zip = os.path.join(pop_path, \"global_mosaic_ppp_100m_2020_vrt.zip\")\n",
    "# with zipfile.ZipFile(pop_layer_zip, 'r') as zip_ref:\n",
    "#     zip_ref.extract(f\"MOSAIC_ppp_prj_2020/ppp_prj_2020_{iso3}.tif\", path = pop_path)\n",
    "# pop_layer_file = os.path.join(pop_path, \"MOSAIC_ppp_prj_2020/ppp_prj_2020_%s.tif\" % iso3)\n",
    "\n",
    "pop_layer_file =   \"/home/public/Data/GLOBAL/Population/WorldPop_PPP_2020/ppp_prj_2020_%s.tif\" % iso3\n",
    "# flood_layer_file = \"/home/public/Data/GLOBAL/FLOOD_SSBN/v1_2016/saint_vincent_grenadines/VC_pluvial_undefended/VC-PU-1000-1.tif\"\n",
    "wsf_layer_file =   \"/home/public/Data/GLOBAL/WSF/SaintVincentAndTheGrenadines_WSF_evolution.tif\"\n",
    "\n",
    "flood_path = \"/home/public/Data/GLOBAL/FLOOD_SSBN/v1_2016/saint_vincent_grenadines\"\n",
    "periods = ['5-1', '100-1', '1000-1']\n",
    "flood_types = ['fluvial', 'pluvial']\n",
    "iso2 = \"VC\"\n",
    "\n",
    "flood_files = []\n",
    "for period in periods:\n",
    "    fluvial = os.path.join(flood_path, f\"{iso2}_fluvial_undefended\", f\"{iso2}-FU-{period}.tif\")\n",
    "    pluvial = os.path.join(flood_path, f\"{iso2}_pluvial_undefended\", f\"{iso2}-PU-{period}.tif\")\n",
    "    flood_files.append(fluvial)\n",
    "    flood_files.append(pluvial)\n",
    "\n",
    "out_folder = \"/home/wb514197/data/Country/%s/INFRA\" % iso3\n",
    "if not os.path.exists(out_folder):\n",
    "    os.makedirs(out_folder)"
   ]
  },
  {
   "cell_type": "code",
   "execution_count": 4,
   "metadata": {},
   "outputs": [],
   "source": [
    "# Generate extents layer for rasters\n",
    "pop_layer = rasterio.open(pop_layer_file)\n",
    "flood_layer = rasterio.open(flood_layer_file)\n",
    "wsf_layer = rasterio.open(wsf_layer_file)\n",
    "\n",
    "wsf_bounds = box(*wsf_layer.bounds)\n",
    "flood_bounds = box(*flood_layer.bounds)\n",
    "pop_bounds = box(*pop_layer.bounds)\n",
    "\n",
    "data = [[\"WSF\",wsf_bounds],\n",
    "       [\"FLOOD\",flood_bounds],\n",
    "       [\"POP\",pop_bounds]]\n",
    "all_extents = pd.DataFrame(data,columns=[\"TYPE\",\"geometry\"])\n",
    "all_extents.to_csv(os.path.join(out_folder, \"file_extents.csv\"))"
   ]
  },
  {
   "cell_type": "code",
   "execution_count": 4,
   "metadata": {},
   "outputs": [],
   "source": [
    "input_files = flood_files+[pop_layer_file, wsf_layer_file]"
   ]
  },
  {
   "cell_type": "code",
   "execution_count": 5,
   "metadata": {},
   "outputs": [
    {
     "data": {
      "text/plain": [
       "['/home/public/Data/GLOBAL/FLOOD_SSBN/v1_2016/saint_vincent_grenadines/VC_fluvial_undefended/VC-FU-5-1.tif',\n",
       " '/home/public/Data/GLOBAL/FLOOD_SSBN/v1_2016/saint_vincent_grenadines/VC_pluvial_undefended/VC-PU-5-1.tif',\n",
       " '/home/public/Data/GLOBAL/FLOOD_SSBN/v1_2016/saint_vincent_grenadines/VC_fluvial_undefended/VC-FU-100-1.tif',\n",
       " '/home/public/Data/GLOBAL/FLOOD_SSBN/v1_2016/saint_vincent_grenadines/VC_pluvial_undefended/VC-PU-100-1.tif',\n",
       " '/home/public/Data/GLOBAL/FLOOD_SSBN/v1_2016/saint_vincent_grenadines/VC_fluvial_undefended/VC-FU-1000-1.tif',\n",
       " '/home/public/Data/GLOBAL/FLOOD_SSBN/v1_2016/saint_vincent_grenadines/VC_pluvial_undefended/VC-PU-1000-1.tif',\n",
       " '/home/public/Data/GLOBAL/Population/WorldPop_PPP_2020/ppp_prj_2020_VCT.tif',\n",
       " '/home/public/Data/GLOBAL/WSF/SaintVincentAndTheGrenadines_WSF_evolution.tif']"
      ]
     },
     "execution_count": 5,
     "metadata": {},
     "output_type": "execute_result"
    }
   ],
   "source": [
    "input_files"
   ]
  },
  {
   "cell_type": "markdown",
   "metadata": {},
   "source": [
    "Would be useful to have a dict of with file information mapped to the band index, for now..."
   ]
  },
  {
   "cell_type": "code",
   "execution_count": 6,
   "metadata": {},
   "outputs": [
    {
     "data": {
      "text/plain": [
       "['VC-FU-5-1.tif',\n",
       " 'VC-PU-5-1.tif',\n",
       " 'VC-FU-100-1.tif',\n",
       " 'VC-PU-100-1.tif',\n",
       " 'VC-FU-1000-1.tif',\n",
       " 'VC-PU-1000-1.tif',\n",
       " 'ppp_prj_2020_VCT.tif',\n",
       " 'SaintVincentAndTheGrenadines_WSF_evolution.tif']"
      ]
     },
     "execution_count": 6,
     "metadata": {},
     "output_type": "execute_result"
    }
   ],
   "source": [
    "file_names = [path.split(\"/\")[-1] for path in input_files]\n",
    "file_names"
   ]
  },
  {
   "cell_type": "code",
   "execution_count": 87,
   "metadata": {},
   "outputs": [],
   "source": [
    "# Generate stacked Tif from input bands\n",
    "out_vrt = os.path.join(out_folder, \"combo.vrt\")\n",
    "out_tif = out_vrt.replace(\".vrt\", \".tif\")\n",
    "outds = gdal.BuildVRT(out_vrt, input_files, separate=True)\n",
    "outds = gdal.Translate(out_tif, outds)"
   ]
  },
  {
   "cell_type": "markdown",
   "metadata": {},
   "source": [
    "### 2. Flood Maps"
   ]
  },
  {
   "cell_type": "code",
   "execution_count": 242,
   "metadata": {},
   "outputs": [],
   "source": [
    "out_tif = os.path.join(out_folder, \"combo.tif\")"
   ]
  },
  {
   "cell_type": "code",
   "execution_count": 243,
   "metadata": {},
   "outputs": [],
   "source": [
    "cur_tif = rasterio.open(out_tif)\n",
    "fluvial_1_in_1000 = cur_tif.read(5)\n",
    "pluvial_1_in_1000 = cur_tif.read(6)"
   ]
  },
  {
   "cell_type": "code",
   "execution_count": 244,
   "metadata": {},
   "outputs": [],
   "source": [
    "fluvial_1_in_1000[(fluvial_1_in_1000 < 0) | (fluvial_1_in_1000 == 999)] = np.NaN\n",
    "pluvial_1_in_1000[(pluvial_1_in_1000 < 0) | (pluvial_1_in_1000 == 999)] = np.NaN"
   ]
  },
  {
   "cell_type": "code",
   "execution_count": 245,
   "metadata": {},
   "outputs": [
    {
     "data": {
      "text/plain": [
       "0.0"
      ]
     },
     "execution_count": 245,
     "metadata": {},
     "output_type": "execute_result"
    }
   ],
   "source": [
    "np.nanmax(fluvial_1_in_1000)"
   ]
  },
  {
   "cell_type": "markdown",
   "metadata": {},
   "source": [
    "In this country there is no data in the fluvial file, otherwise we should take the max depth"
   ]
  },
  {
   "cell_type": "code",
   "execution_count": 246,
   "metadata": {},
   "outputs": [
    {
     "data": {
      "text/plain": [
       "10.0"
      ]
     },
     "execution_count": 246,
     "metadata": {},
     "output_type": "execute_result"
    }
   ],
   "source": [
    "np.nanmax(pluvial_1_in_1000)"
   ]
  },
  {
   "cell_type": "code",
   "execution_count": 247,
   "metadata": {},
   "outputs": [],
   "source": [
    "# pluvial_1_in_1000 = np.ma.array(pluvial_1_in_1000, mask=np.isnan(pluvial_1_in_1000))"
   ]
  },
  {
   "cell_type": "code",
   "execution_count": 248,
   "metadata": {},
   "outputs": [
    {
     "data": {
      "text/plain": [
       "(array([52019.,  2652.,  1240.,   815.,   373.,   181.]),\n",
       " array([ 0.  ,  0.1 ,  0.25,  0.5 ,  1.  ,  2.  , 10.  ]),\n",
       " <a list of 6 Patch objects>)"
      ]
     },
     "execution_count": 248,
     "metadata": {},
     "output_type": "execute_result"
    },
    {
     "data": {
      "image/png": "[encoded data removed]",
      "text/plain": [
       "<Figure size 432x288 with 1 Axes>"
      ]
     },
     "metadata": {
      "needs_background": "light"
     },
     "output_type": "display_data"
    }
   ],
   "source": [
    "pyplot.hist(pluvial_1_in_1000[~np.isnan(pluvial_1_in_1000)], bins=[0,0.1,0.25,0.5,1,2,10])"
   ]
  },
  {
   "cell_type": "code",
   "execution_count": 249,
   "metadata": {},
   "outputs": [
    {
     "data": {
      "image/png": "[encoded data removed]",
      "text/plain": [
       "<Figure size 432x288 with 1 Axes>"
      ]
     },
     "metadata": {
      "needs_background": "light"
     },
     "output_type": "display_data"
    },
    {
     "data": {
      "text/plain": [
       "<matplotlib.axes._subplots.AxesSubplot at 0x7f7b89c2b390>"
      ]
     },
     "execution_count": 249,
     "metadata": {},
     "output_type": "execute_result"
    }
   ],
   "source": [
    "show(pluvial_1_in_1000, norm=colors.PowerNorm(gamma=0.1))"
   ]
  },
  {
   "cell_type": "code",
   "execution_count": 250,
   "metadata": {},
   "outputs": [],
   "source": [
    "# first bin includes all zeros, the last bin captures all np.NaN (water bodies)\n",
    "# [1e-10 - 0.5) : 2\n",
    "# [0.5 - 1) : 3\n",
    "# [1 - 2) : 4\n",
    "# [2 - 11): 5\n",
    "\n",
    "flood_bins = [0, 1e-10, 0.5, 1, 2, 11]\n",
    "flood_cat = np.digitize(pluvial_1_in_1000, flood_bins)-1"
   ]
  },
  {
   "cell_type": "code",
   "execution_count": 265,
   "metadata": {},
   "outputs": [
    {
     "data": {
      "text/plain": [
       "True"
      ]
     },
     "execution_count": 265,
     "metadata": {},
     "output_type": "execute_result"
    }
   ],
   "source": [
    "len(flood_cat[flood_cat==0]) == len(pluvial_1_in_1000[pluvial_1_in_1000==0])"
   ]
  },
  {
   "cell_type": "code",
   "execution_count": 266,
   "metadata": {
    "scrolled": false
   },
   "outputs": [
    {
     "data": {
      "text/plain": [
       "True"
      ]
     },
     "execution_count": 266,
     "metadata": {},
     "output_type": "execute_result"
    }
   ],
   "source": [
    "len(flood_cat[flood_cat==5]) == len(pluvial_1_in_1000[np.isnan(pluvial_1_in_1000)])"
   ]
  },
  {
   "cell_type": "code",
   "execution_count": 267,
   "metadata": {},
   "outputs": [],
   "source": [
    "# reclassify 0 (depth 0) to 5 (no data)\n",
    "# our boolean flood rasters will be inlcusive of lower depths (up to x meters flooded)\n",
    "flood_cat[flood_cat==0] = 5"
   ]
  },
  {
   "cell_type": "code",
   "execution_count": 253,
   "metadata": {},
   "outputs": [],
   "source": [
    "zs_cat = pd.DataFrame(zonal_stats(urban_extents, flood_cat, affine=dst_transform, categorical=True))"
   ]
  },
  {
   "cell_type": "code",
   "execution_count": 254,
   "metadata": {},
   "outputs": [
    {
     "data": {
      "text/html": [
       "<div>\n",
       "<style scoped>\n",
       "    .dataframe tbody tr th:only-of-type {\n",
       "        vertical-align: middle;\n",
       "    }\n",
       "\n",
       "    .dataframe tbody tr th {\n",
       "        vertical-align: top;\n",
       "    }\n",
       "\n",
       "    .dataframe thead th {\n",
       "        text-align: right;\n",
       "    }\n",
       "</style>\n",
       "<table border=\"1\" class=\"dataframe\">\n",
       "  <thead>\n",
       "    <tr style=\"text-align: right;\">\n",
       "      <th></th>\n",
       "      <th>0.0</th>\n",
       "      <th>1.0</th>\n",
       "      <th>2.0</th>\n",
       "      <th>3.0</th>\n",
       "      <th>4.0</th>\n",
       "      <th>5.0</th>\n",
       "    </tr>\n",
       "  </thead>\n",
       "  <tbody>\n",
       "    <tr>\n",
       "      <th>0</th>\n",
       "      <td>8870</td>\n",
       "      <td>1056.0</td>\n",
       "      <td>273.0</td>\n",
       "      <td>129.0</td>\n",
       "      <td>29.0</td>\n",
       "      <td>360</td>\n",
       "    </tr>\n",
       "    <tr>\n",
       "      <th>1</th>\n",
       "      <td>965</td>\n",
       "      <td>2.0</td>\n",
       "      <td>NaN</td>\n",
       "      <td>NaN</td>\n",
       "      <td>NaN</td>\n",
       "      <td>67</td>\n",
       "    </tr>\n",
       "    <tr>\n",
       "      <th>2</th>\n",
       "      <td>329</td>\n",
       "      <td>208.0</td>\n",
       "      <td>26.0</td>\n",
       "      <td>3.0</td>\n",
       "      <td>NaN</td>\n",
       "      <td>14</td>\n",
       "    </tr>\n",
       "    <tr>\n",
       "      <th>3</th>\n",
       "      <td>350</td>\n",
       "      <td>41.0</td>\n",
       "      <td>9.0</td>\n",
       "      <td>5.0</td>\n",
       "      <td>NaN</td>\n",
       "      <td>50</td>\n",
       "    </tr>\n",
       "    <tr>\n",
       "      <th>4</th>\n",
       "      <td>423</td>\n",
       "      <td>NaN</td>\n",
       "      <td>NaN</td>\n",
       "      <td>NaN</td>\n",
       "      <td>NaN</td>\n",
       "      <td>96</td>\n",
       "    </tr>\n",
       "  </tbody>\n",
       "</table>\n",
       "</div>"
      ],
      "text/plain": [
       "    0.0     1.0    2.0    3.0   4.0  5.0\n",
       "0  8870  1056.0  273.0  129.0  29.0  360\n",
       "1   965     2.0    NaN    NaN   NaN   67\n",
       "2   329   208.0   26.0    3.0   NaN   14\n",
       "3   350    41.0    9.0    5.0   NaN   50\n",
       "4   423     NaN    NaN    NaN   NaN   96"
      ]
     },
     "execution_count": 254,
     "metadata": {},
     "output_type": "execute_result"
    }
   ],
   "source": [
    "zs_cat"
   ]
  },
  {
   "cell_type": "code",
   "execution_count": 21,
   "metadata": {},
   "outputs": [],
   "source": [
    "# flood_cat_masked = np.ma.array(flood_cat, mask=nodata)"
   ]
  },
  {
   "cell_type": "code",
   "execution_count": 268,
   "metadata": {},
   "outputs": [],
   "source": [
    "# boolean flood rasters can be inlcusive of lower depths (up to x meters flooded)\n",
    "\n",
    "non_flooded = (flood_cat == 5)*1        # not flooded, either depth 0, water, or \"no data\"\n",
    "flood_very_high = (flood_cat <= 4)*1    # up to 10 meters flooded\n",
    "flood_high = (flood_cat <= 3)*1         # up to 2 meters flooded\n",
    "flood_medium = (flood_cat <= 2)*1       # up to 1 meters flooded\n",
    "flood_low = (flood_cat == 1)*1          # up to 0.5 meters flooded"
   ]
  },
  {
   "cell_type": "code",
   "execution_count": 269,
   "metadata": {},
   "outputs": [],
   "source": [
    "# water_body = (flood_cat == 5)*1         # \"no data\", ocean or permanent water body\n",
    "# flood_very_high = (flood_cat == 4)*1    # 2 to 10 meters flooded\n",
    "# flood_high = (flood_cat == 3)*1         # 1 to 2 meters flooded\n",
    "# flood_medium = (flood_cat == 2)*1       # 0.5 to 1 meters flooded\n",
    "# flood_low = (flood_cat == 1)*1          # 0 to 0.5 meters flooded\n",
    "# no_flood = (flood_cat == 0)*1           # not flooded, depth 0"
   ]
  },
  {
   "cell_type": "markdown",
   "metadata": {},
   "source": [
    "Alternatively, we can leave this in categorical format and aggregate later?"
   ]
  },
  {
   "cell_type": "code",
   "execution_count": 270,
   "metadata": {},
   "outputs": [
    {
     "data": {
      "text/plain": [
       "5261"
      ]
     },
     "execution_count": 270,
     "metadata": {},
     "output_type": "execute_result"
    }
   ],
   "source": [
    "flood_very_high.sum()"
   ]
  },
  {
   "cell_type": "code",
   "execution_count": 271,
   "metadata": {},
   "outputs": [
    {
     "data": {
      "text/plain": [
       "5080"
      ]
     },
     "execution_count": 271,
     "metadata": {},
     "output_type": "execute_result"
    }
   ],
   "source": [
    "flood_high.sum()"
   ]
  },
  {
   "cell_type": "code",
   "execution_count": 272,
   "metadata": {},
   "outputs": [
    {
     "data": {
      "text/plain": [
       "4707"
      ]
     },
     "execution_count": 272,
     "metadata": {},
     "output_type": "execute_result"
    }
   ],
   "source": [
    "flood_medium.sum()"
   ]
  },
  {
   "cell_type": "code",
   "execution_count": 273,
   "metadata": {
    "scrolled": true
   },
   "outputs": [
    {
     "data": {
      "text/plain": [
       "3892"
      ]
     },
     "execution_count": 273,
     "metadata": {},
     "output_type": "execute_result"
    }
   ],
   "source": [
    "flood_low.sum()"
   ]
  }
 ],
 "metadata": {
  "kernelspec": {
   "display_name": "GEO",
   "language": "python",
   "name": "geo"
  },
  "language_info": {
   "codemirror_mode": {
    "name": "ipython",
    "version": 3
   },
   "file_extension": ".py",
   "mimetype": "text/x-python",
   "name": "python",
   "nbconvert_exporter": "python",
   "pygments_lexer": "ipython3",
   "version": "3.7.6"
  }
 },
 "nbformat": 4,
 "nbformat_minor": 2
}
