{
 "cells": [
  {
   "cell_type": "code",
   "execution_count": 1,
   "id": "6f552be0",
   "metadata": {},
   "outputs": [],
   "source": [
    "import geopandas as gpd\n",
    "import rasterio as rio\n",
    "from rasterio.plot import show\n",
    "import numpy as np\n",
    "from rasterstats import zonal_stats\n",
    "import GOSTRocks.rasterMisc as rMisc"
   ]
  },
  {
   "cell_type": "code",
   "execution_count": 2,
   "id": "11b18d6e",
   "metadata": {},
   "outputs": [],
   "source": [
    "pluvial_raw = rio.open(r'D:\\OneDrive\\Work\\WorldBank\\Assignments\\20211104_SSudanWaterSecurity\\Data\\RawData\\P_1in100(1).tif')\n",
    "fluvial_raw = rio.open(r'D:\\OneDrive\\Work\\WorldBank\\Assignments\\20211104_SSudanWaterSecurity\\Data\\RawData\\FU_1in100(1).tif')"
   ]
  },
  {
   "cell_type": "code",
   "execution_count": 3,
   "id": "b9362d02",
   "metadata": {},
   "outputs": [],
   "source": [
    "pop_raw = rio.open(r'D:\\OneDrive\\Work\\WorldBank\\Assignments\\20211104_SSudanWaterSecurity\\Data\\RawData\\Population\\Population\\SSD_population_v1_0_gridded.tif')\n",
    "pop = pop_raw.read(1)"
   ]
  },
  {
   "cell_type": "code",
   "execution_count": 4,
   "id": "c1d52cca",
   "metadata": {},
   "outputs": [],
   "source": [
    "districts_dir = r\"D:\\OneDrive\\Work\\WorldBank\\Assignments\\20211104_SSudanWaterSecurity\\Data\\Theme2\\SS_ADM2.shp\"\n",
    "districts = gpd.read_file(districts_dir)"
   ]
  },
  {
   "cell_type": "markdown",
   "id": "3ffe2132",
   "metadata": {},
   "source": [
    "## Pluvial Reclass"
   ]
  },
  {
   "cell_type": "code",
   "execution_count": 5,
   "id": "919a7ce5",
   "metadata": {},
   "outputs": [],
   "source": [
    "pluvial_rc = pluvial_raw.read(1)"
   ]
  },
  {
   "cell_type": "code",
   "execution_count": 6,
   "id": "af691c7a",
   "metadata": {},
   "outputs": [],
   "source": [
    "pluvial_rc[np.where(pluvial_rc <= 0.5)] = 0\n",
    "pluvial_rc[np.where(pluvial_rc > 0.5)] = 1\n",
    "pluvial_rc[np.where(pluvial_rc >= 999)] = 0"
   ]
  },
  {
   "cell_type": "code",
   "execution_count": null,
   "id": "5dcd0907",
   "metadata": {},
   "outputs": [],
   "source": [
    "with rio.open(r'D:\\OneDrive\\Work\\WorldBank\\Assignments\\20211104_SSudanWaterSecurity\\Data\\Theme2\\ProcessedFathom\\50cmPlus\\PluvialUndefendedFathom100_noWater_50cmPlus.tif', 'w',\n",
    "             driver= pluvial_raw.driver,\n",
    "             height = pluvial_raw.height,\n",
    "             width = pluvial_raw.width,\n",
    "             count = pluvial_raw.count,\n",
    "             crs = pluvial_raw.crs,\n",
    "             transform = pluvial_raw.transform,\n",
    "             dtype = 'float32'\n",
    ")as dst:\n",
    "    dst.write(pluvial_rc,1)"
   ]
  },
  {
   "cell_type": "markdown",
   "id": "98880d35",
   "metadata": {},
   "source": [
    "## Fluvial Reclass"
   ]
  },
  {
   "cell_type": "code",
   "execution_count": null,
   "id": "ac8d7fc5",
   "metadata": {},
   "outputs": [],
   "source": [
    "fluvial_rc = fluvial_raw.read(1)"
   ]
  },
  {
   "cell_type": "code",
   "execution_count": null,
   "id": "58877c50",
   "metadata": {},
   "outputs": [],
   "source": [
    "fluvial_rc[np.where(fluvial_rc <= 0.5)] = 0\n",
    "fluvial_rc[np.where(fluvial_rc > 0.5)] = 1\n",
    "fluvial_rc[np.where(fluvial_rc >= 999)] = 0"
   ]
  },
  {
   "cell_type": "code",
   "execution_count": null,
   "id": "ef3dfe12",
   "metadata": {},
   "outputs": [],
   "source": [
    "with rio.open(r'D:\\OneDrive\\Work\\WorldBank\\Assignments\\20211104_SSudanWaterSecurity\\Data\\Theme2\\ProcessedFathom\\50cmPlus\\FluvialFathom100_noWater_50cmPlus.tif', 'w',\n",
    "             driver= fluvial_raw.driver,\n",
    "             height = fluvial_raw.height,\n",
    "             width = fluvial_raw.width,\n",
    "             count = fluvial_raw.count,\n",
    "             crs = fluvial_raw.crs,\n",
    "             transform = fluvial_raw.transform,\n",
    "             dtype = 'float32'\n",
    ")as dst:\n",
    "    dst.write(fluvial_rc,1)"
   ]
  },
  {
   "cell_type": "markdown",
   "id": "be1147a1",
   "metadata": {},
   "source": [
    "## Pluvial Data Zonal Statistics,  50cm "
   ]
  },
  {
   "cell_type": "code",
   "execution_count": null,
   "id": "6d4389ac",
   "metadata": {},
   "outputs": [],
   "source": [
    "pluvialmask = rio.open(r'D:\\OneDrive\\Work\\WorldBank\\Assignments\\20211104_SSudanWaterSecurity\\Data\\Theme2\\ProcessedFathom\\50cmPlus\\PluvialUndefendedFathom100_noWater_50cmPlus.tif')"
   ]
  },
  {
   "cell_type": "code",
   "execution_count": null,
   "id": "cbbfd461",
   "metadata": {},
   "outputs": [],
   "source": [
    "outputdir = r'D:\\OneDrive\\Work\\WorldBank\\Assignments\\20211104_SSudanWaterSecurity\\Data\\Theme2\\ProcessedFathom\\50cmPlus\\PluvialUndefendedFathom100_noWater_50cmPlus_STD.tif'"
   ]
  },
  {
   "cell_type": "code",
   "execution_count": null,
   "id": "ad28d83a",
   "metadata": {},
   "outputs": [],
   "source": [
    "# Make sure that both rasters have the exact same resolution, crs, and number of pixels\n",
    "rMisc.standardizeInputRasters(pluvialmask, pop_raw, outputdir, data_type=\"C\")"
   ]
  },
  {
   "cell_type": "code",
   "execution_count": null,
   "id": "081716cd",
   "metadata": {},
   "outputs": [],
   "source": [
    "pluvialmask_STD = rio.open(outputdir)"
   ]
  },
  {
   "cell_type": "code",
   "execution_count": null,
   "id": "c6ebc204",
   "metadata": {},
   "outputs": [],
   "source": [
    "pluvialwPop =pop * pluvialmask_STD.read(1)"
   ]
  },
  {
   "cell_type": "code",
   "execution_count": null,
   "id": "b52dbf56",
   "metadata": {},
   "outputs": [],
   "source": [
    "pluvialwPop[pluvialwPop< 0]=0 #get turning negative numbers to 0"
   ]
  },
  {
   "cell_type": "code",
   "execution_count": null,
   "id": "7f308584",
   "metadata": {},
   "outputs": [],
   "source": [
    "np.unique(pluvialwPop)"
   ]
  },
  {
   "cell_type": "code",
   "execution_count": null,
   "id": "0d6e5d4d",
   "metadata": {},
   "outputs": [],
   "source": [
    "pluvialwPop"
   ]
  },
  {
   "cell_type": "code",
   "execution_count": null,
   "id": "400fe25a",
   "metadata": {},
   "outputs": [],
   "source": [
    "with rio.open(r'D:\\OneDrive\\Work\\WorldBank\\Assignments\\20211104_SSudanWaterSecurity\\Data\\Theme2\\ProcessedFathom\\50cmPlus\\pop_inPluvial50cmPlus.tif', 'w',\n",
    "             driver = pop_raw.driver,\n",
    "             height = pop_raw.height,\n",
    "             width = pop_raw.width,\n",
    "             count = pop_raw.count,\n",
    "             crs = pop_raw.crs,\n",
    "             transform = pop_raw.transform,\n",
    "             dtype = 'float32'\n",
    ")as dst:\n",
    "    dst.write(pluvialwPop,1)"
   ]
  },
  {
   "cell_type": "code",
   "execution_count": null,
   "id": "9deec702",
   "metadata": {},
   "outputs": [],
   "source": [
    "# Read in again to have variable pointing to the rasterio object\n",
    "pluvialwPop = rio.open(r'D:\\OneDrive\\Work\\WorldBank\\Assignments\\20211104_SSudanWaterSecurity\\Data\\Theme2\\ProcessedFathom\\50cmPlus\\pop_inPluvial50cmPlus.tif')"
   ]
  },
  {
   "cell_type": "code",
   "execution_count": null,
   "id": "651da2d1",
   "metadata": {},
   "outputs": [],
   "source": [
    "np.unique(pluvialwPop.read(1))"
   ]
  },
  {
   "cell_type": "code",
   "execution_count": null,
   "id": "c1f1c385",
   "metadata": {},
   "outputs": [],
   "source": [
    "np.sum(pluvialwPop.read(1))"
   ]
  },
  {
   "cell_type": "code",
   "execution_count": null,
   "id": "00f810c1",
   "metadata": {
    "scrolled": true
   },
   "outputs": [],
   "source": [
    "affine = pluvialwPop.transform"
   ]
  },
  {
   "cell_type": "code",
   "execution_count": null,
   "id": "203144ec",
   "metadata": {},
   "outputs": [],
   "source": [
    "sum_pop_plu = zonal_stats(districts, pluvialwPop.read(1), affine=affine, stats=\"sum\")"
   ]
  },
  {
   "cell_type": "code",
   "execution_count": null,
   "id": "248b7984",
   "metadata": {
    "scrolled": true
   },
   "outputs": [],
   "source": [
    "sum_pop_plu"
   ]
  },
  {
   "cell_type": "code",
   "execution_count": null,
   "id": "b85cd560",
   "metadata": {},
   "outputs": [],
   "source": [
    "sum_pop_plu_sumONLY = []\n",
    "for i in sum_pop_plu:\n",
    "    sum_pop_plu_sumONLY.append(i['sum'])"
   ]
  },
  {
   "cell_type": "code",
   "execution_count": null,
   "id": "495831f5",
   "metadata": {
    "scrolled": true
   },
   "outputs": [],
   "source": [
    "sum_pop_plu_sumONLY"
   ]
  },
  {
   "cell_type": "code",
   "execution_count": null,
   "id": "32eecadc",
   "metadata": {},
   "outputs": [],
   "source": [
    "districts['pop_plu50c'] = sum_pop_plu_sumONLY"
   ]
  },
  {
   "cell_type": "code",
   "execution_count": null,
   "id": "c15771e3",
   "metadata": {
    "scrolled": true
   },
   "outputs": [],
   "source": [
    "districts"
   ]
  },
  {
   "cell_type": "markdown",
   "id": "eef3521d",
   "metadata": {},
   "source": [
    "## Fluvial Data Zonal Statistics"
   ]
  },
  {
   "cell_type": "code",
   "execution_count": null,
   "id": "2cba4df1",
   "metadata": {},
   "outputs": [],
   "source": [
    "fluvialmask = rio.open(r'D:\\OneDrive\\Work\\WorldBank\\Assignments\\20211104_SSudanWaterSecurity\\Data\\Theme2\\ProcessedFathom\\50cmPlus\\FluvialFathom100_noWater_50cmPlus.tif')"
   ]
  },
  {
   "cell_type": "code",
   "execution_count": null,
   "id": "490aad92",
   "metadata": {},
   "outputs": [],
   "source": [
    "outputdir_f = r'D:\\OneDrive\\Work\\WorldBank\\Assignments\\20211104_SSudanWaterSecurity\\Data\\Theme2\\ProcessedFathom\\50cmPlus\\FluvialFathom100_noWater_50cmPlus_STD.tif'"
   ]
  },
  {
   "cell_type": "code",
   "execution_count": null,
   "id": "6baa9b25",
   "metadata": {},
   "outputs": [],
   "source": [
    "# Make sure that both rasters have the exact same resolution, crs, and number of pixels\n",
    "rMisc.standardizeInputRasters(fluvialmask, pop_raw, outputdir_f, data_type=\"C\")"
   ]
  },
  {
   "cell_type": "code",
   "execution_count": null,
   "id": "95e14474",
   "metadata": {},
   "outputs": [],
   "source": [
    "fluvialmask_STD = rio.open(outputdir_f)"
   ]
  },
  {
   "cell_type": "code",
   "execution_count": null,
   "id": "ca454753",
   "metadata": {},
   "outputs": [],
   "source": [
    "fluvialwPop =pop * fluvialmask_STD.read(1)"
   ]
  },
  {
   "cell_type": "code",
   "execution_count": null,
   "id": "32597adb",
   "metadata": {},
   "outputs": [],
   "source": [
    "fluvialwPop[fluvialwPop< 0]=0 #get turning negative numbers to 0"
   ]
  },
  {
   "cell_type": "code",
   "execution_count": null,
   "id": "510dc5bd",
   "metadata": {},
   "outputs": [],
   "source": [
    "with rio.open(r'D:\\OneDrive\\Work\\WorldBank\\Assignments\\20211104_SSudanWaterSecurity\\Data\\Theme2\\ProcessedFathom\\50cmPlus\\pop_inFluvial50cmPlus.tif', 'w',\n",
    "             driver= pop_raw.driver,\n",
    "             height = pop_raw.height,\n",
    "             width = pop_raw.width,\n",
    "             count = pop_raw.count,\n",
    "             crs = pop_raw.crs,\n",
    "             transform = pop_raw.transform,\n",
    "             dtype = 'float32'\n",
    ")as dst:\n",
    "    dst.write(fluvialwPop,1)"
   ]
  },
  {
   "cell_type": "code",
   "execution_count": null,
   "id": "cc9f747d",
   "metadata": {},
   "outputs": [],
   "source": [
    "# Read in again to have variable pointing to the rasterio object\n",
    "fluvialwPop = rio.open(r'D:\\OneDrive\\Work\\WorldBank\\Assignments\\20211104_SSudanWaterSecurity\\Data\\Theme2\\ProcessedFathom\\50cmPlus\\pop_inFluvial50cmPlus.tif')"
   ]
  },
  {
   "cell_type": "code",
   "execution_count": null,
   "id": "37b1a707",
   "metadata": {},
   "outputs": [],
   "source": [
    "np.unique(fluvialwPop.read(1))"
   ]
  },
  {
   "cell_type": "code",
   "execution_count": null,
   "id": "a37f357e",
   "metadata": {},
   "outputs": [],
   "source": [
    "np.sum(fluvialwPop.read(1))"
   ]
  },
  {
   "cell_type": "code",
   "execution_count": null,
   "id": "308b9297",
   "metadata": {
    "scrolled": true
   },
   "outputs": [],
   "source": [
    "affine = fluvialwPop.transform"
   ]
  },
  {
   "cell_type": "code",
   "execution_count": null,
   "id": "dc398da1",
   "metadata": {},
   "outputs": [],
   "source": [
    "sum_pop_flu = zonal_stats(districts, fluvialwPop.read(1), affine=affine, stats=\"sum\")"
   ]
  },
  {
   "cell_type": "code",
   "execution_count": null,
   "id": "0adfd7dd",
   "metadata": {
    "scrolled": true
   },
   "outputs": [],
   "source": [
    "sum_pop_flu"
   ]
  },
  {
   "cell_type": "code",
   "execution_count": null,
   "id": "d9cf7a54",
   "metadata": {},
   "outputs": [],
   "source": [
    "sum_pop_flu_sumONLY = []\n",
    "for i in sum_pop_flu:\n",
    "    sum_pop_flu_sumONLY.append(i['sum'])"
   ]
  },
  {
   "cell_type": "code",
   "execution_count": null,
   "id": "838e39c0",
   "metadata": {
    "scrolled": true
   },
   "outputs": [],
   "source": [
    "sum_pop_flu_sumONLY"
   ]
  },
  {
   "cell_type": "code",
   "execution_count": null,
   "id": "e635af66",
   "metadata": {},
   "outputs": [],
   "source": [
    "districts['pop_flu50c'] = sum_pop_flu_sumONLY"
   ]
  },
  {
   "cell_type": "code",
   "execution_count": null,
   "id": "f8d13142",
   "metadata": {
    "scrolled": true
   },
   "outputs": [],
   "source": [
    "districts"
   ]
  },
  {
   "cell_type": "markdown",
   "id": "536a4bf5",
   "metadata": {},
   "source": [
    "## Calculate total population affected by flooding >50cm"
   ]
  },
  {
   "cell_type": "code",
   "execution_count": null,
   "id": "ec77e87c",
   "metadata": {},
   "outputs": [],
   "source": [
    "districts['pop_tot50c'] = districts['pop_plu50c'] + districts['pop_flu50c']"
   ]
  },
  {
   "cell_type": "code",
   "execution_count": null,
   "id": "c45efa4c",
   "metadata": {
    "scrolled": true
   },
   "outputs": [],
   "source": [
    "districts"
   ]
  },
  {
   "cell_type": "code",
   "execution_count": null,
   "id": "ec980df0",
   "metadata": {},
   "outputs": [],
   "source": [
    "districts.to_file(r\"D:\\OneDrive\\Work\\WorldBank\\Assignments\\20211104_SSudanWaterSecurity\\Data\\Theme2\\SS_ADM2_FathomPvsF_50cm.shp\")"
   ]
  },
  {
   "cell_type": "markdown",
   "id": "7d7c458d",
   "metadata": {},
   "source": [
    "# Total % of flooding in [m] disaggregated by flood type"
   ]
  },
  {
   "cell_type": "code",
   "execution_count": 35,
   "id": "9f172fa2",
   "metadata": {},
   "outputs": [],
   "source": [
    "districts_dir2 = r\"D:\\OneDrive\\Work\\WorldBank\\Assignments\\20211104_SSudanWaterSecurity\\Data\\Theme2\\SS_ADM2_FathomPvsF_50cm.shp\"\n",
    "districts2 = gpd.read_file(districts_dir2)"
   ]
  },
  {
   "cell_type": "code",
   "execution_count": 6,
   "id": "aa3b968e",
   "metadata": {},
   "outputs": [],
   "source": [
    "pluvial_rc_m = pluvial_raw.read(1)\n",
    "fluvial_rc_m = fluvial_raw.read(1)"
   ]
  },
  {
   "cell_type": "code",
   "execution_count": 7,
   "id": "72e3ba21",
   "metadata": {},
   "outputs": [],
   "source": [
    "# Only include ares where flooding is more than 0.5m\n",
    "pluvial_rc_m[np.where(pluvial_rc_m <= 0.5)] = 0"
   ]
  },
  {
   "cell_type": "code",
   "execution_count": 8,
   "id": "44fa9192",
   "metadata": {},
   "outputs": [],
   "source": [
    "# Only include ares where flooding is more than 0.5m\n",
    "fluvial_rc_m[np.where(fluvial_rc_m <= 0.5)] = 0"
   ]
  },
  {
   "cell_type": "code",
   "execution_count": 10,
   "id": "6bb3e2b1",
   "metadata": {},
   "outputs": [],
   "source": [
    "affine = pluvial_raw.transform"
   ]
  },
  {
   "cell_type": "code",
   "execution_count": 17,
   "id": "92847bfc",
   "metadata": {},
   "outputs": [
    {
     "name": "stderr",
     "output_type": "stream",
     "text": [
      "C:\\Users\\glev2\\anaconda3\\envs\\dreamenv\\lib\\site-packages\\rasterstats\\io.py:301: UserWarning: Setting nodata to -999; specify nodata explicitly\n",
      "  warnings.warn(\"Setting nodata to -999; specify nodata explicitly\")\n"
     ]
    }
   ],
   "source": [
    "dist_wpluvial_m = zonal_stats(districts2, pluvial_rc_m, affine=affine, stats=\"sum\")"
   ]
  },
  {
   "cell_type": "code",
   "execution_count": 18,
   "id": "63df5a04",
   "metadata": {},
   "outputs": [],
   "source": [
    "dist_wfluvial_m = zonal_stats(districts2, fluvial_rc_m, affine=affine, stats=\"sum\")"
   ]
  },
  {
   "cell_type": "code",
   "execution_count": 19,
   "id": "29228da1",
   "metadata": {},
   "outputs": [],
   "source": [
    "dist_wpluvial_m_sumonly = []\n",
    "for i in dist_wpluvial_m:\n",
    "    dist_wpluvial_m_sumonly.append(i['sum'])"
   ]
  },
  {
   "cell_type": "code",
   "execution_count": 20,
   "id": "861b6775",
   "metadata": {},
   "outputs": [],
   "source": [
    "dist_wfluvial_m_sumonly = []\n",
    "for i in dist_wfluvial_m:\n",
    "    dist_wfluvial_m_sumonly.append(i['sum'])"
   ]
  },
  {
   "cell_type": "code",
   "execution_count": 9,
   "id": "8d1a01c0",
   "metadata": {},
   "outputs": [],
   "source": [
    "totalflooding_m = pluvial_rc_m+fluvial_rc_m"
   ]
  },
  {
   "cell_type": "code",
   "execution_count": 11,
   "id": "530c0403",
   "metadata": {},
   "outputs": [
    {
     "name": "stderr",
     "output_type": "stream",
     "text": [
      "C:\\Users\\glev2\\anaconda3\\envs\\dreamenv\\lib\\site-packages\\rasterstats\\io.py:301: UserWarning: Setting nodata to -999; specify nodata explicitly\n",
      "  warnings.warn(\"Setting nodata to -999; specify nodata explicitly\")\n"
     ]
    }
   ],
   "source": [
    "dist_wtotalflooding = zonal_stats(districts2, totalflooding_m, affine=affine, stats=\"sum\")"
   ]
  },
  {
   "cell_type": "code",
   "execution_count": 13,
   "id": "84ec9369",
   "metadata": {},
   "outputs": [],
   "source": [
    "dist_wtotalflooding_sumonly = []\n",
    "for i in dist_wtotalflooding:\n",
    "    dist_wtotalflooding_sumonly.append(i['sum'])"
   ]
  },
  {
   "cell_type": "code",
   "execution_count": 15,
   "id": "a96ac643",
   "metadata": {},
   "outputs": [],
   "source": [
    "districts2['tot_flood'] = dist_wtotalflooding_sumonly"
   ]
  },
  {
   "cell_type": "code",
   "execution_count": 26,
   "id": "7a0b9904",
   "metadata": {},
   "outputs": [],
   "source": [
    "districts2['tot_plum'] = dist_wpluvial_m_sumonly"
   ]
  },
  {
   "cell_type": "code",
   "execution_count": 27,
   "id": "3ffa12d6",
   "metadata": {},
   "outputs": [],
   "source": [
    "districts2['tot_flum'] = dist_wfluvial_m_sumonly"
   ]
  },
  {
   "cell_type": "code",
   "execution_count": 28,
   "id": "b03e4968",
   "metadata": {},
   "outputs": [],
   "source": [
    "districts2['p_plu50c'] = (districts2['tot_plum']/districts2['tot_flood'])*100"
   ]
  },
  {
   "cell_type": "code",
   "execution_count": 29,
   "id": "41fdbb44",
   "metadata": {},
   "outputs": [],
   "source": [
    "districts2['p_flu50c'] = (districts2['tot_flum']/districts2['tot_flood'])*100"
   ]
  },
  {
   "cell_type": "code",
   "execution_count": 41,
   "id": "f0ee499f",
   "metadata": {
    "scrolled": true
   },
   "outputs": [],
   "source": [
    "districts2 = districts2.drop(columns=['tot_plum', 'tot_flum', 'tot_flood'])"
   ]
  },
  {
   "cell_type": "code",
   "execution_count": 42,
   "id": "5e51b59b",
   "metadata": {},
   "outputs": [
    {
     "data": {
      "text/html": [
       "<div>\n",
       "<style scoped>\n",
       "    .dataframe tbody tr th:only-of-type {\n",
       "        vertical-align: middle;\n",
       "    }\n",
       "\n",
       "    .dataframe tbody tr th {\n",
       "        vertical-align: top;\n",
       "    }\n",
       "\n",
       "    .dataframe thead th {\n",
       "        text-align: right;\n",
       "    }\n",
       "</style>\n",
       "<table border=\"1\" class=\"dataframe\">\n",
       "  <thead>\n",
       "    <tr style=\"text-align: right;\">\n",
       "      <th></th>\n",
       "      <th>Shape_Leng</th>\n",
       "      <th>Shape_Area</th>\n",
       "      <th>ADM2_EN</th>\n",
       "      <th>ADM2_PCODE</th>\n",
       "      <th>ADM2_REF</th>\n",
       "      <th>ADM2ALT1EN</th>\n",
       "      <th>ADM2ALT2EN</th>\n",
       "      <th>ADM1_EN</th>\n",
       "      <th>ADM1_PCODE</th>\n",
       "      <th>ADM0_EN</th>\n",
       "      <th>...</th>\n",
       "      <th>Plu100sum</th>\n",
       "      <th>Plu100mean</th>\n",
       "      <th>Plu100min</th>\n",
       "      <th>Plu100max</th>\n",
       "      <th>pop_plu50c</th>\n",
       "      <th>pop_flu50c</th>\n",
       "      <th>pop_tot50c</th>\n",
       "      <th>p_plu50c</th>\n",
       "      <th>p_flu50c</th>\n",
       "      <th>geometry</th>\n",
       "    </tr>\n",
       "  </thead>\n",
       "  <tbody>\n",
       "    <tr>\n",
       "      <th>0</th>\n",
       "      <td>6.425236</td>\n",
       "      <td>18611.507286</td>\n",
       "      <td>Juba</td>\n",
       "      <td>SS0101</td>\n",
       "      <td>None</td>\n",
       "      <td>None</td>\n",
       "      <td>None</td>\n",
       "      <td>Central Equatoria</td>\n",
       "      <td>SS01</td>\n",
       "      <td>South Sudan</td>\n",
       "      <td>...</td>\n",
       "      <td>2.365945e+06</td>\n",
       "      <td>1.097509</td>\n",
       "      <td>0.0</td>\n",
       "      <td>999.000000</td>\n",
       "      <td>19197.005770</td>\n",
       "      <td>73069.814708</td>\n",
       "      <td>92266.820477</td>\n",
       "      <td>49.646835</td>\n",
       "      <td>50.353165</td>\n",
       "      <td>POLYGON ((32.10224 5.36788, 32.09834 5.21346, ...</td>\n",
       "    </tr>\n",
       "    <tr>\n",
       "      <th>1</th>\n",
       "      <td>2.082643</td>\n",
       "      <td>2549.814924</td>\n",
       "      <td>Kajo-keji</td>\n",
       "      <td>SS0102</td>\n",
       "      <td>None</td>\n",
       "      <td>None</td>\n",
       "      <td>None</td>\n",
       "      <td>Central Equatoria</td>\n",
       "      <td>SS01</td>\n",
       "      <td>South Sudan</td>\n",
       "      <td>...</td>\n",
       "      <td>5.024976e+04</td>\n",
       "      <td>0.170308</td>\n",
       "      <td>0.0</td>\n",
       "      <td>999.000000</td>\n",
       "      <td>1178.606410</td>\n",
       "      <td>61.659035</td>\n",
       "      <td>1240.265445</td>\n",
       "      <td>68.111614</td>\n",
       "      <td>31.888386</td>\n",
       "      <td>POLYGON ((31.61854 4.02379, 31.69394 3.95754, ...</td>\n",
       "    </tr>\n",
       "    <tr>\n",
       "      <th>2</th>\n",
       "      <td>3.402761</td>\n",
       "      <td>3545.715110</td>\n",
       "      <td>Lainya</td>\n",
       "      <td>SS0103</td>\n",
       "      <td>None</td>\n",
       "      <td>None</td>\n",
       "      <td>None</td>\n",
       "      <td>Central Equatoria</td>\n",
       "      <td>SS01</td>\n",
       "      <td>South Sudan</td>\n",
       "      <td>...</td>\n",
       "      <td>4.867531e+04</td>\n",
       "      <td>0.118577</td>\n",
       "      <td>0.0</td>\n",
       "      <td>7.426941</td>\n",
       "      <td>3724.817229</td>\n",
       "      <td>957.558599</td>\n",
       "      <td>4682.375829</td>\n",
       "      <td>72.881758</td>\n",
       "      <td>27.118242</td>\n",
       "      <td>POLYGON ((31.18674 4.30480, 31.17532 4.25454, ...</td>\n",
       "    </tr>\n",
       "    <tr>\n",
       "      <th>3</th>\n",
       "      <td>2.069064</td>\n",
       "      <td>1326.493498</td>\n",
       "      <td>Morobo</td>\n",
       "      <td>SS0104</td>\n",
       "      <td>None</td>\n",
       "      <td>None</td>\n",
       "      <td>None</td>\n",
       "      <td>Central Equatoria</td>\n",
       "      <td>SS01</td>\n",
       "      <td>South Sudan</td>\n",
       "      <td>...</td>\n",
       "      <td>1.762787e+04</td>\n",
       "      <td>0.114901</td>\n",
       "      <td>0.0</td>\n",
       "      <td>10.000000</td>\n",
       "      <td>2812.441371</td>\n",
       "      <td>533.452950</td>\n",
       "      <td>3345.894320</td>\n",
       "      <td>90.147513</td>\n",
       "      <td>9.852487</td>\n",
       "      <td>POLYGON ((31.04738 3.81817, 31.09567 3.74048, ...</td>\n",
       "    </tr>\n",
       "    <tr>\n",
       "      <th>4</th>\n",
       "      <td>5.221777</td>\n",
       "      <td>10813.630464</td>\n",
       "      <td>Terekeka</td>\n",
       "      <td>SS0105</td>\n",
       "      <td>None</td>\n",
       "      <td>Terkeka</td>\n",
       "      <td>None</td>\n",
       "      <td>Central Equatoria</td>\n",
       "      <td>SS01</td>\n",
       "      <td>South Sudan</td>\n",
       "      <td>...</td>\n",
       "      <td>1.559094e+06</td>\n",
       "      <td>1.242798</td>\n",
       "      <td>0.0</td>\n",
       "      <td>999.000000</td>\n",
       "      <td>1094.880323</td>\n",
       "      <td>7399.032974</td>\n",
       "      <td>8493.913297</td>\n",
       "      <td>46.193880</td>\n",
       "      <td>53.806120</td>\n",
       "      <td>POLYGON ((31.02171 5.90953, 31.69732 5.87275, ...</td>\n",
       "    </tr>\n",
       "    <tr>\n",
       "      <th>...</th>\n",
       "      <td>...</td>\n",
       "      <td>...</td>\n",
       "      <td>...</td>\n",
       "      <td>...</td>\n",
       "      <td>...</td>\n",
       "      <td>...</td>\n",
       "      <td>...</td>\n",
       "      <td>...</td>\n",
       "      <td>...</td>\n",
       "      <td>...</td>\n",
       "      <td>...</td>\n",
       "      <td>...</td>\n",
       "      <td>...</td>\n",
       "      <td>...</td>\n",
       "      <td>...</td>\n",
       "      <td>...</td>\n",
       "      <td>...</td>\n",
       "      <td>...</td>\n",
       "      <td>...</td>\n",
       "      <td>...</td>\n",
       "      <td>...</td>\n",
       "    </tr>\n",
       "    <tr>\n",
       "      <th>73</th>\n",
       "      <td>3.220148</td>\n",
       "      <td>5786.475341</td>\n",
       "      <td>Mvolo</td>\n",
       "      <td>SS1006</td>\n",
       "      <td>None</td>\n",
       "      <td>None</td>\n",
       "      <td>None</td>\n",
       "      <td>Western Equatoria</td>\n",
       "      <td>SS10</td>\n",
       "      <td>South Sudan</td>\n",
       "      <td>...</td>\n",
       "      <td>7.006990e+04</td>\n",
       "      <td>0.104331</td>\n",
       "      <td>0.0</td>\n",
       "      <td>4.371643</td>\n",
       "      <td>1255.328701</td>\n",
       "      <td>530.913422</td>\n",
       "      <td>1786.242124</td>\n",
       "      <td>36.350604</td>\n",
       "      <td>63.649396</td>\n",
       "      <td>POLYGON ((30.12183 6.35244, 30.15537 6.23657, ...</td>\n",
       "    </tr>\n",
       "    <tr>\n",
       "      <th>74</th>\n",
       "      <td>3.862937</td>\n",
       "      <td>9318.009503</td>\n",
       "      <td>Nagero</td>\n",
       "      <td>SS1007</td>\n",
       "      <td>None</td>\n",
       "      <td>None</td>\n",
       "      <td>None</td>\n",
       "      <td>Western Equatoria</td>\n",
       "      <td>SS10</td>\n",
       "      <td>South Sudan</td>\n",
       "      <td>...</td>\n",
       "      <td>1.288392e+05</td>\n",
       "      <td>0.119003</td>\n",
       "      <td>0.0</td>\n",
       "      <td>6.169495</td>\n",
       "      <td>513.805478</td>\n",
       "      <td>15.457573</td>\n",
       "      <td>529.263051</td>\n",
       "      <td>58.251906</td>\n",
       "      <td>41.748094</td>\n",
       "      <td>POLYGON ((28.03236 6.74766, 28.04826 6.73971, ...</td>\n",
       "    </tr>\n",
       "    <tr>\n",
       "      <th>75</th>\n",
       "      <td>5.672132</td>\n",
       "      <td>6529.697021</td>\n",
       "      <td>Nzara</td>\n",
       "      <td>SS1008</td>\n",
       "      <td>None</td>\n",
       "      <td>None</td>\n",
       "      <td>None</td>\n",
       "      <td>Western Equatoria</td>\n",
       "      <td>SS10</td>\n",
       "      <td>South Sudan</td>\n",
       "      <td>...</td>\n",
       "      <td>8.990328e+04</td>\n",
       "      <td>0.118757</td>\n",
       "      <td>0.0</td>\n",
       "      <td>6.285339</td>\n",
       "      <td>1201.768536</td>\n",
       "      <td>454.272056</td>\n",
       "      <td>1656.040591</td>\n",
       "      <td>62.497998</td>\n",
       "      <td>37.502002</td>\n",
       "      <td>POLYGON ((28.52396 6.25181, 28.57275 6.07495, ...</td>\n",
       "    </tr>\n",
       "    <tr>\n",
       "      <th>76</th>\n",
       "      <td>5.860083</td>\n",
       "      <td>12619.589011</td>\n",
       "      <td>Tambura</td>\n",
       "      <td>SS1009</td>\n",
       "      <td>None</td>\n",
       "      <td>None</td>\n",
       "      <td>None</td>\n",
       "      <td>Western Equatoria</td>\n",
       "      <td>SS10</td>\n",
       "      <td>South Sudan</td>\n",
       "      <td>...</td>\n",
       "      <td>1.835113e+05</td>\n",
       "      <td>0.125260</td>\n",
       "      <td>0.0</td>\n",
       "      <td>7.262573</td>\n",
       "      <td>393.224871</td>\n",
       "      <td>151.797714</td>\n",
       "      <td>545.022585</td>\n",
       "      <td>73.412831</td>\n",
       "      <td>26.587169</td>\n",
       "      <td>POLYGON ((27.06807 6.65988, 27.07929 6.54093, ...</td>\n",
       "    </tr>\n",
       "    <tr>\n",
       "      <th>77</th>\n",
       "      <td>5.172853</td>\n",
       "      <td>8909.065664</td>\n",
       "      <td>Yambio</td>\n",
       "      <td>SS1010</td>\n",
       "      <td>None</td>\n",
       "      <td>None</td>\n",
       "      <td>None</td>\n",
       "      <td>Western Equatoria</td>\n",
       "      <td>SS10</td>\n",
       "      <td>South Sudan</td>\n",
       "      <td>...</td>\n",
       "      <td>1.200615e+05</td>\n",
       "      <td>0.116260</td>\n",
       "      <td>0.0</td>\n",
       "      <td>9.068970</td>\n",
       "      <td>2576.845423</td>\n",
       "      <td>346.779842</td>\n",
       "      <td>2923.625265</td>\n",
       "      <td>64.168557</td>\n",
       "      <td>35.831443</td>\n",
       "      <td>POLYGON ((28.65508 6.05970, 28.81975 5.81576, ...</td>\n",
       "    </tr>\n",
       "  </tbody>\n",
       "</table>\n",
       "<p>78 rows × 73 columns</p>\n",
       "</div>"
      ],
      "text/plain": [
       "    Shape_Leng    Shape_Area    ADM2_EN ADM2_PCODE ADM2_REF ADM2ALT1EN  \\\n",
       "0     6.425236  18611.507286       Juba     SS0101     None       None   \n",
       "1     2.082643   2549.814924  Kajo-keji     SS0102     None       None   \n",
       "2     3.402761   3545.715110     Lainya     SS0103     None       None   \n",
       "3     2.069064   1326.493498     Morobo     SS0104     None       None   \n",
       "4     5.221777  10813.630464   Terekeka     SS0105     None    Terkeka   \n",
       "..         ...           ...        ...        ...      ...        ...   \n",
       "73    3.220148   5786.475341      Mvolo     SS1006     None       None   \n",
       "74    3.862937   9318.009503     Nagero     SS1007     None       None   \n",
       "75    5.672132   6529.697021      Nzara     SS1008     None       None   \n",
       "76    5.860083  12619.589011    Tambura     SS1009     None       None   \n",
       "77    5.172853   8909.065664     Yambio     SS1010     None       None   \n",
       "\n",
       "   ADM2ALT2EN            ADM1_EN ADM1_PCODE      ADM0_EN  ...     Plu100sum  \\\n",
       "0        None  Central Equatoria       SS01  South Sudan  ...  2.365945e+06   \n",
       "1        None  Central Equatoria       SS01  South Sudan  ...  5.024976e+04   \n",
       "2        None  Central Equatoria       SS01  South Sudan  ...  4.867531e+04   \n",
       "3        None  Central Equatoria       SS01  South Sudan  ...  1.762787e+04   \n",
       "4        None  Central Equatoria       SS01  South Sudan  ...  1.559094e+06   \n",
       "..        ...                ...        ...          ...  ...           ...   \n",
       "73       None  Western Equatoria       SS10  South Sudan  ...  7.006990e+04   \n",
       "74       None  Western Equatoria       SS10  South Sudan  ...  1.288392e+05   \n",
       "75       None  Western Equatoria       SS10  South Sudan  ...  8.990328e+04   \n",
       "76       None  Western Equatoria       SS10  South Sudan  ...  1.835113e+05   \n",
       "77       None  Western Equatoria       SS10  South Sudan  ...  1.200615e+05   \n",
       "\n",
       "    Plu100mean  Plu100min   Plu100max    pop_plu50c    pop_flu50c  \\\n",
       "0     1.097509        0.0  999.000000  19197.005770  73069.814708   \n",
       "1     0.170308        0.0  999.000000   1178.606410     61.659035   \n",
       "2     0.118577        0.0    7.426941   3724.817229    957.558599   \n",
       "3     0.114901        0.0   10.000000   2812.441371    533.452950   \n",
       "4     1.242798        0.0  999.000000   1094.880323   7399.032974   \n",
       "..         ...        ...         ...           ...           ...   \n",
       "73    0.104331        0.0    4.371643   1255.328701    530.913422   \n",
       "74    0.119003        0.0    6.169495    513.805478     15.457573   \n",
       "75    0.118757        0.0    6.285339   1201.768536    454.272056   \n",
       "76    0.125260        0.0    7.262573    393.224871    151.797714   \n",
       "77    0.116260        0.0    9.068970   2576.845423    346.779842   \n",
       "\n",
       "      pop_tot50c   p_plu50c   p_flu50c  \\\n",
       "0   92266.820477  49.646835  50.353165   \n",
       "1    1240.265445  68.111614  31.888386   \n",
       "2    4682.375829  72.881758  27.118242   \n",
       "3    3345.894320  90.147513   9.852487   \n",
       "4    8493.913297  46.193880  53.806120   \n",
       "..           ...        ...        ...   \n",
       "73   1786.242124  36.350604  63.649396   \n",
       "74    529.263051  58.251906  41.748094   \n",
       "75   1656.040591  62.497998  37.502002   \n",
       "76    545.022585  73.412831  26.587169   \n",
       "77   2923.625265  64.168557  35.831443   \n",
       "\n",
       "                                             geometry  \n",
       "0   POLYGON ((32.10224 5.36788, 32.09834 5.21346, ...  \n",
       "1   POLYGON ((31.61854 4.02379, 31.69394 3.95754, ...  \n",
       "2   POLYGON ((31.18674 4.30480, 31.17532 4.25454, ...  \n",
       "3   POLYGON ((31.04738 3.81817, 31.09567 3.74048, ...  \n",
       "4   POLYGON ((31.02171 5.90953, 31.69732 5.87275, ...  \n",
       "..                                                ...  \n",
       "73  POLYGON ((30.12183 6.35244, 30.15537 6.23657, ...  \n",
       "74  POLYGON ((28.03236 6.74766, 28.04826 6.73971, ...  \n",
       "75  POLYGON ((28.52396 6.25181, 28.57275 6.07495, ...  \n",
       "76  POLYGON ((27.06807 6.65988, 27.07929 6.54093, ...  \n",
       "77  POLYGON ((28.65508 6.05970, 28.81975 5.81576, ...  \n",
       "\n",
       "[78 rows x 73 columns]"
      ]
     },
     "execution_count": 42,
     "metadata": {},
     "output_type": "execute_result"
    }
   ],
   "source": [
    "districts2"
   ]
  },
  {
   "cell_type": "code",
   "execution_count": 2,
   "id": "6acebb38",
   "metadata": {},
   "outputs": [
    {
     "ename": "NameError",
     "evalue": "name 'adm2' is not defined",
     "output_type": "error",
     "traceback": [
      "\u001b[1;31m---------------------------------------------------------------------------\u001b[0m",
      "\u001b[1;31mNameError\u001b[0m                                 Traceback (most recent call last)",
      "\u001b[1;32m~\\AppData\\Local\\Temp/ipykernel_36236/2308891225.py\u001b[0m in \u001b[0;36m<module>\u001b[1;34m\u001b[0m\n\u001b[1;32m----> 1\u001b[1;33m \u001b[0madm2\u001b[0m\u001b[1;33m.\u001b[0m\u001b[0mto_file\u001b[0m\u001b[1;33m(\u001b[0m\u001b[1;34mr\"D:\\OneDrive\\Work\\WorldBank\\Assignments\\20211104_SSudanWaterSecurity\\Data\\Theme4.shp\"\u001b[0m\u001b[1;33m)\u001b[0m\u001b[1;33m\u001b[0m\u001b[1;33m\u001b[0m\u001b[0m\n\u001b[0m\u001b[0;32m      2\u001b[0m \u001b[0madm2\u001b[0m\u001b[1;33m.\u001b[0m\u001b[0mto_file\u001b[0m\u001b[1;33m(\u001b[0m\u001b[1;34mr\"D:\\OneDrive\\Work\\WorldBank\\Assignments\\20211104_SSudanWaterSecurity\\Data\\Theme4.csv\"\u001b[0m\u001b[1;33m)\u001b[0m\u001b[1;33m\u001b[0m\u001b[1;33m\u001b[0m\u001b[0m\n",
      "\u001b[1;31mNameError\u001b[0m: name 'adm2' is not defined"
     ]
    }
   ],
   "source": [
    "districts2.to_file(r\"D:\\OneDrive\\Work\\WorldBank\\Assignments\\20211104_SSudanWaterSecurity\\Data\\Theme2\\SS_ADM2_FathomPvsF_50cm.shp\")"
   ]
  },
  {
   "cell_type": "code",
   "execution_count": null,
   "id": "0236492d",
   "metadata": {},
   "outputs": [],
   "source": []
  }
 ],
 "metadata": {
  "kernelspec": {
   "display_name": "Python (dreamenv)",
   "language": "python",
   "name": "dreamenv"
  },
  "language_info": {
   "codemirror_mode": {
    "name": "ipython",
    "version": 3
   },
   "file_extension": ".py",
   "mimetype": "text/x-python",
   "name": "python",
   "nbconvert_exporter": "python",
   "pygments_lexer": "ipython3",
   "version": "3.8.8"
  }
 },
 "nbformat": 4,
 "nbformat_minor": 5
}
