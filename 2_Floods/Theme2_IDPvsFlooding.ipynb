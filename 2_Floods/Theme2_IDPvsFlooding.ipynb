{
 "cells": [
  {
   "attachments": {},
   "cell_type": "markdown",
   "id": "02fa0050",
   "metadata": {},
   "source": [
    "Coder: Gabriel Levin  <br />\n",
    "Date: Jan 5th, 2022  <br />\n",
    "Purpose: Identify the amount of flooding risk in Displacement Site/Host Communities  <br />\n",
    "Data:  <br />\n",
    "* Fathom 2020  <br />\n",
    "* IOM_DTM (UNHCR?)  <br />\n",
    "\n",
    "TOC:  <br />\n",
    "    1. Reclass Raw Pluvial Raster to Exclude NoData and Water  <br />\n",
    "    2. Reclass Raw Fluvial Raster to Exclude NoData and Water  <br />\n",
    "    3. Zonal Statistics: IDPs w/ Flood Data  <br />"
   ]
  },
  {
   "cell_type": "code",
   "execution_count": 38,
   "id": "9cdf9143",
   "metadata": {},
   "outputs": [],
   "source": [
    "import geopandas as gpd\n",
    "import rasterio as rio\n",
    "from rasterio.plot import show\n",
    "import numpy as np\n",
    "from rasterstats import zonal_stats\n",
    "from shapely.geometry import Point, LineString, Polygon\n",
    "import matplotlib.pyplot as plt\n"
   ]
  },
  {
   "cell_type": "code",
   "execution_count": 2,
   "id": "ddfa4556",
   "metadata": {},
   "outputs": [],
   "source": [
    "pluvial_raw = rio.open(r'D:\\OneDrive\\Work\\WorldBank\\Assignments\\20211104_SSudanWaterSecurity\\Data\\RawData\\P_1in100(1).tif')\n",
    "fluvial_raw = rio.open(r'D:\\OneDrive\\Work\\WorldBank\\Assignments\\20211104_SSudanWaterSecurity\\Data\\RawData\\FU_1in100(1).tif')"
   ]
  },
  {
   "cell_type": "code",
   "execution_count": 3,
   "id": "943b3aa4",
   "metadata": {},
   "outputs": [],
   "source": [
    "IDP_dir = r\"D:\\OneDrive\\Work\\WorldBank\\Assignments\\20211104_SSudanWaterSecurity\\Data\\RawData\\Displacement\\Displacement\\IOM DTM.shp\"\n",
    "IDP = gpd.read_file(IDP_dir)"
   ]
  },
  {
   "cell_type": "markdown",
   "id": "93b17769",
   "metadata": {},
   "source": [
    "## 1. Reclass Raw Pluvial Raster to Exclude NoData and Water"
   ]
  },
  {
   "cell_type": "code",
   "execution_count": 4,
   "id": "5835025c",
   "metadata": {},
   "outputs": [],
   "source": [
    "pluvial_rc = pluvial_raw.read(1)"
   ]
  },
  {
   "cell_type": "code",
   "execution_count": 7,
   "id": "30f0d786",
   "metadata": {},
   "outputs": [],
   "source": [
    "pluvial_rc[np.where(pluvial_rc == -9999)] = 0\n",
    "pluvial_rc[np.where(pluvial_rc == 999)] = 0"
   ]
  },
  {
   "cell_type": "code",
   "execution_count": 8,
   "id": "5369f685",
   "metadata": {},
   "outputs": [],
   "source": [
    "with rio.open(r'D:\\OneDrive\\Work\\WorldBank\\Assignments\\20211104_SSudanWaterSecurity\\Data\\Theme2\\IDPvsFloods\\PluvialFathom100_noWater.tif', 'w',\n",
    "             driver= pluvial_raw.driver,\n",
    "             height = pluvial_raw.height,\n",
    "             width = pluvial_raw.width,\n",
    "             count = pluvial_raw.count,\n",
    "             crs = pluvial_raw.crs,\n",
    "             transform = pluvial_raw.transform,\n",
    "             dtype = 'float32'\n",
    ")as dst:\n",
    "    dst.write(pluvial_rc,1)"
   ]
  },
  {
   "cell_type": "markdown",
   "id": "870ae94e",
   "metadata": {},
   "source": [
    "## 2. Reclass Raw Fluvial Raster to Exclude NoData and Water"
   ]
  },
  {
   "cell_type": "code",
   "execution_count": 9,
   "id": "716bc129",
   "metadata": {},
   "outputs": [],
   "source": [
    "fluvial_rc = fluvial_raw.read(1)"
   ]
  },
  {
   "cell_type": "code",
   "execution_count": 10,
   "id": "7e599f1f",
   "metadata": {},
   "outputs": [],
   "source": [
    "fluvial_rc[np.where(fluvial_rc == -9999)] = 0\n",
    "fluvial_rc[np.where(fluvial_rc == 999)] = 0"
   ]
  },
  {
   "cell_type": "code",
   "execution_count": 11,
   "id": "b387d52e",
   "metadata": {},
   "outputs": [],
   "source": [
    "with rio.open(r'D:\\OneDrive\\Work\\WorldBank\\Assignments\\20211104_SSudanWaterSecurity\\Data\\Theme2\\IDPvsFloods\\FluvialUndefendedFathom100_noWater.tif', 'w',\n",
    "             driver= fluvial_raw.driver,\n",
    "             height = fluvial_raw.height,\n",
    "             width = fluvial_raw.width,\n",
    "             count = fluvial_raw.count,\n",
    "             crs = fluvial_raw.crs,\n",
    "             transform = fluvial_raw.transform,\n",
    "             dtype = 'float32'\n",
    ")as dst:\n",
    "    dst.write(pluvial_rc,1)"
   ]
  },
  {
   "cell_type": "markdown",
   "id": "20381bad",
   "metadata": {},
   "source": [
    "## 3. Zonal Statistics: IDPs w/ Flood Data"
   ]
  },
  {
   "cell_type": "markdown",
   "id": "94ecfd7a",
   "metadata": {},
   "source": [
    "### 3.1 IDPs w/ Pluvial Data"
   ]
  },
  {
   "cell_type": "code",
   "execution_count": 12,
   "id": "c07f63b2",
   "metadata": {},
   "outputs": [],
   "source": [
    "affine = pluvial_raw.transform"
   ]
  },
  {
   "cell_type": "code",
   "execution_count": 13,
   "id": "3d01d1b0",
   "metadata": {},
   "outputs": [
    {
     "name": "stderr",
     "output_type": "stream",
     "text": [
      "C:\\Users\\glev2\\anaconda3\\envs\\dreamenv\\lib\\site-packages\\rasterstats\\io.py:301: UserWarning: Setting nodata to -999; specify nodata explicitly\n",
      "  warnings.warn(\"Setting nodata to -999; specify nodata explicitly\")\n"
     ]
    }
   ],
   "source": [
    "IDP_wPlu = zonal_stats(IDP, pluvial_rc, affine=affine, stats=\"sum\")"
   ]
  },
  {
   "cell_type": "code",
   "execution_count": 14,
   "id": "eb8203d4",
   "metadata": {},
   "outputs": [],
   "source": [
    "IDP_wPlu_sumonly = []\n",
    "for i in IDP_wPlu:\n",
    "    IDP_wPlu_sumonly.append(i['sum'])"
   ]
  },
  {
   "cell_type": "code",
   "execution_count": 19,
   "id": "067beb07",
   "metadata": {},
   "outputs": [
    {
     "data": {
      "text/plain": [
       "5.77142333984375"
      ]
     },
     "execution_count": 19,
     "metadata": {},
     "output_type": "execute_result"
    }
   ],
   "source": [
    "np.amax(IDP_wPlu_sumonly)"
   ]
  },
  {
   "cell_type": "code",
   "execution_count": 25,
   "id": "7a9c8f83",
   "metadata": {},
   "outputs": [],
   "source": [
    "IDP['Plu_m'] = IDP_wPlu_sumonly"
   ]
  },
  {
   "cell_type": "markdown",
   "id": "75ee41cb",
   "metadata": {},
   "source": [
    "### 3.2 IDPs w/ Fluvial Data"
   ]
  },
  {
   "cell_type": "code",
   "execution_count": 26,
   "id": "75534065",
   "metadata": {},
   "outputs": [],
   "source": [
    "affine = fluvial_raw.transform"
   ]
  },
  {
   "cell_type": "code",
   "execution_count": 27,
   "id": "9e129770",
   "metadata": {},
   "outputs": [],
   "source": [
    "IDP_wFlu = zonal_stats(IDP, fluvial_rc, affine=affine, stats=\"sum\")"
   ]
  },
  {
   "cell_type": "code",
   "execution_count": 28,
   "id": "7a1e180d",
   "metadata": {},
   "outputs": [],
   "source": [
    "IDP_wFlu_sumonly = []\n",
    "for i in IDP_wFlu:\n",
    "    IDP_wFlu_sumonly.append(i['sum'])"
   ]
  },
  {
   "cell_type": "code",
   "execution_count": 29,
   "id": "cb2824ce",
   "metadata": {},
   "outputs": [
    {
     "data": {
      "text/plain": [
       "4.550774574279785"
      ]
     },
     "execution_count": 29,
     "metadata": {},
     "output_type": "execute_result"
    }
   ],
   "source": [
    "np.amax(IDP_wFlu_sumonly)"
   ]
  },
  {
   "cell_type": "code",
   "execution_count": 30,
   "id": "f6f10da2",
   "metadata": {},
   "outputs": [],
   "source": [
    "IDP['Flu_m']  = IDP_wFlu_sumonly"
   ]
  },
  {
   "cell_type": "code",
   "execution_count": 32,
   "id": "12130343",
   "metadata": {},
   "outputs": [],
   "source": [
    "IDP['Tot_flood'] = IDP['Plu_m']+ IDP['Flu_m']"
   ]
  },
  {
   "cell_type": "code",
   "execution_count": 33,
   "id": "0dc7c91d",
   "metadata": {},
   "outputs": [
    {
     "data": {
      "text/html": [
       "<div>\n",
       "<style scoped>\n",
       "    .dataframe tbody tr th:only-of-type {\n",
       "        vertical-align: middle;\n",
       "    }\n",
       "\n",
       "    .dataframe tbody tr th {\n",
       "        vertical-align: top;\n",
       "    }\n",
       "\n",
       "    .dataframe thead th {\n",
       "        text-align: right;\n",
       "    }\n",
       "</style>\n",
       "<table border=\"1\" class=\"dataframe\">\n",
       "  <thead>\n",
       "    <tr style=\"text-align: right;\">\n",
       "      <th></th>\n",
       "      <th>state_pcod</th>\n",
       "      <th>state_name</th>\n",
       "      <th>location_s</th>\n",
       "      <th>county_pco</th>\n",
       "      <th>county_nam</th>\n",
       "      <th>payam_pcod</th>\n",
       "      <th>payam_name</th>\n",
       "      <th>village_id</th>\n",
       "      <th>alternate_</th>\n",
       "      <th>location_t</th>\n",
       "      <th>...</th>\n",
       "      <th>Estimate13</th>\n",
       "      <th>Estimate14</th>\n",
       "      <th>Estimate15</th>\n",
       "      <th>Source_Rou</th>\n",
       "      <th>Location r</th>\n",
       "      <th>Admin leve</th>\n",
       "      <th>geometry</th>\n",
       "      <th>Plu_m</th>\n",
       "      <th>Flu_m</th>\n",
       "      <th>Tot_flood</th>\n",
       "    </tr>\n",
       "  </thead>\n",
       "  <tbody>\n",
       "    <tr>\n",
       "      <th>0</th>\n",
       "      <td>SS01</td>\n",
       "      <td>Central Equatoria</td>\n",
       "      <td>ssid_SS0101_0002</td>\n",
       "      <td>SS0101</td>\n",
       "      <td>Juba</td>\n",
       "      <td>SS010101</td>\n",
       "      <td>Bungu</td>\n",
       "      <td>Belle</td>\n",
       "      <td>None</td>\n",
       "      <td>Host community</td>\n",
       "      <td>...</td>\n",
       "      <td>0</td>\n",
       "      <td>132</td>\n",
       "      <td>792</td>\n",
       "      <td>R9-September 2020</td>\n",
       "      <td>None</td>\n",
       "      <td>No changes</td>\n",
       "      <td>POINT (31.38855 4.64919)</td>\n",
       "      <td>0.000000</td>\n",
       "      <td>0.0</td>\n",
       "      <td>0.000000</td>\n",
       "    </tr>\n",
       "    <tr>\n",
       "      <th>1</th>\n",
       "      <td>SS01</td>\n",
       "      <td>Central Equatoria</td>\n",
       "      <td>ssid_SS0101_0003</td>\n",
       "      <td>SS0101</td>\n",
       "      <td>Juba</td>\n",
       "      <td>SS010101</td>\n",
       "      <td>Bungu</td>\n",
       "      <td>Bungu Center</td>\n",
       "      <td>None</td>\n",
       "      <td>Host community</td>\n",
       "      <td>...</td>\n",
       "      <td>0</td>\n",
       "      <td>219</td>\n",
       "      <td>1011</td>\n",
       "      <td>R9-September 2020</td>\n",
       "      <td>None</td>\n",
       "      <td>No changes</td>\n",
       "      <td>POINT (31.39612 4.66440)</td>\n",
       "      <td>0.000000</td>\n",
       "      <td>0.0</td>\n",
       "      <td>0.000000</td>\n",
       "    </tr>\n",
       "    <tr>\n",
       "      <th>2</th>\n",
       "      <td>SS01</td>\n",
       "      <td>Central Equatoria</td>\n",
       "      <td>ssid_SS0101_0045</td>\n",
       "      <td>SS0101</td>\n",
       "      <td>Juba</td>\n",
       "      <td>SS010101</td>\n",
       "      <td>Bungu</td>\n",
       "      <td>Kworijik Bungu</td>\n",
       "      <td>None</td>\n",
       "      <td>Host community</td>\n",
       "      <td>...</td>\n",
       "      <td>0</td>\n",
       "      <td>198</td>\n",
       "      <td>992</td>\n",
       "      <td>R9-September 2020</td>\n",
       "      <td>None</td>\n",
       "      <td>No changes</td>\n",
       "      <td>POINT (31.33384 4.60083)</td>\n",
       "      <td>0.000000</td>\n",
       "      <td>0.0</td>\n",
       "      <td>0.000000</td>\n",
       "    </tr>\n",
       "    <tr>\n",
       "      <th>3</th>\n",
       "      <td>SS01</td>\n",
       "      <td>Central Equatoria</td>\n",
       "      <td>ssid_SS0101_0013</td>\n",
       "      <td>SS0101</td>\n",
       "      <td>Juba</td>\n",
       "      <td>SS010102</td>\n",
       "      <td>Dolo</td>\n",
       "      <td>Kuda</td>\n",
       "      <td>None</td>\n",
       "      <td>Host community</td>\n",
       "      <td>...</td>\n",
       "      <td>0</td>\n",
       "      <td>181</td>\n",
       "      <td>997</td>\n",
       "      <td>R9-September 2020</td>\n",
       "      <td>None</td>\n",
       "      <td>No changes</td>\n",
       "      <td>POINT (31.25497 4.95238)</td>\n",
       "      <td>0.000000</td>\n",
       "      <td>0.0</td>\n",
       "      <td>0.000000</td>\n",
       "    </tr>\n",
       "    <tr>\n",
       "      <th>4</th>\n",
       "      <td>SS01</td>\n",
       "      <td>Central Equatoria</td>\n",
       "      <td>ssid_SS0101_0035</td>\n",
       "      <td>SS0101</td>\n",
       "      <td>Juba</td>\n",
       "      <td>SS010102</td>\n",
       "      <td>Dolo</td>\n",
       "      <td>Sirimun</td>\n",
       "      <td>None</td>\n",
       "      <td>Host community</td>\n",
       "      <td>...</td>\n",
       "      <td>0</td>\n",
       "      <td>135</td>\n",
       "      <td>741</td>\n",
       "      <td>R9-September 2020</td>\n",
       "      <td>None</td>\n",
       "      <td>No changes</td>\n",
       "      <td>POINT (31.01958 5.01381)</td>\n",
       "      <td>0.000000</td>\n",
       "      <td>0.0</td>\n",
       "      <td>0.000000</td>\n",
       "    </tr>\n",
       "    <tr>\n",
       "      <th>...</th>\n",
       "      <td>...</td>\n",
       "      <td>...</td>\n",
       "      <td>...</td>\n",
       "      <td>...</td>\n",
       "      <td>...</td>\n",
       "      <td>...</td>\n",
       "      <td>...</td>\n",
       "      <td>...</td>\n",
       "      <td>...</td>\n",
       "      <td>...</td>\n",
       "      <td>...</td>\n",
       "      <td>...</td>\n",
       "      <td>...</td>\n",
       "      <td>...</td>\n",
       "      <td>...</td>\n",
       "      <td>...</td>\n",
       "      <td>...</td>\n",
       "      <td>...</td>\n",
       "      <td>...</td>\n",
       "      <td>...</td>\n",
       "      <td>...</td>\n",
       "    </tr>\n",
       "    <tr>\n",
       "      <th>2849</th>\n",
       "      <td>SS10</td>\n",
       "      <td>Western Equatoria</td>\n",
       "      <td>ssid_SS1010_0014</td>\n",
       "      <td>SS1010</td>\n",
       "      <td>Yambio</td>\n",
       "      <td>SS101007</td>\n",
       "      <td>Yambio</td>\n",
       "      <td>Kuzee</td>\n",
       "      <td>None</td>\n",
       "      <td>Host community</td>\n",
       "      <td>...</td>\n",
       "      <td>155</td>\n",
       "      <td>28</td>\n",
       "      <td>140</td>\n",
       "      <td>R9-September 2020</td>\n",
       "      <td>None</td>\n",
       "      <td>No changes</td>\n",
       "      <td>POINT (28.38120 4.56140)</td>\n",
       "      <td>0.000000</td>\n",
       "      <td>0.0</td>\n",
       "      <td>0.000000</td>\n",
       "    </tr>\n",
       "    <tr>\n",
       "      <th>2850</th>\n",
       "      <td>SS10</td>\n",
       "      <td>Western Equatoria</td>\n",
       "      <td>ssid_SS1010_0017</td>\n",
       "      <td>SS1010</td>\n",
       "      <td>Yambio</td>\n",
       "      <td>SS101007</td>\n",
       "      <td>Yambio</td>\n",
       "      <td>Mokongo</td>\n",
       "      <td>None</td>\n",
       "      <td>Host community</td>\n",
       "      <td>...</td>\n",
       "      <td>35</td>\n",
       "      <td>10</td>\n",
       "      <td>50</td>\n",
       "      <td>R9-September 2020</td>\n",
       "      <td>None</td>\n",
       "      <td>No changes</td>\n",
       "      <td>POINT (28.49394 4.57501)</td>\n",
       "      <td>0.000000</td>\n",
       "      <td>0.0</td>\n",
       "      <td>0.000000</td>\n",
       "    </tr>\n",
       "    <tr>\n",
       "      <th>2851</th>\n",
       "      <td>SS10</td>\n",
       "      <td>Western Equatoria</td>\n",
       "      <td>ssid_SS1010_0026</td>\n",
       "      <td>SS1010</td>\n",
       "      <td>Yambio</td>\n",
       "      <td>SS101007</td>\n",
       "      <td>Yambio</td>\n",
       "      <td>Napere</td>\n",
       "      <td>None</td>\n",
       "      <td>Host community</td>\n",
       "      <td>...</td>\n",
       "      <td>45</td>\n",
       "      <td>6</td>\n",
       "      <td>30</td>\n",
       "      <td>R9-September 2020</td>\n",
       "      <td>None</td>\n",
       "      <td>No changes</td>\n",
       "      <td>POINT (28.49990 4.66386)</td>\n",
       "      <td>0.000000</td>\n",
       "      <td>0.0</td>\n",
       "      <td>0.000000</td>\n",
       "    </tr>\n",
       "    <tr>\n",
       "      <th>2852</th>\n",
       "      <td>SS10</td>\n",
       "      <td>Western Equatoria</td>\n",
       "      <td>ssid_SS1010_0035</td>\n",
       "      <td>SS1010</td>\n",
       "      <td>Yambio</td>\n",
       "      <td>SS101007</td>\n",
       "      <td>Yambio</td>\n",
       "      <td>Saura</td>\n",
       "      <td>None</td>\n",
       "      <td>Host community</td>\n",
       "      <td>...</td>\n",
       "      <td>80</td>\n",
       "      <td>20</td>\n",
       "      <td>100</td>\n",
       "      <td>R9-September 2020</td>\n",
       "      <td>None</td>\n",
       "      <td>No changes</td>\n",
       "      <td>POINT (28.38047 4.62615)</td>\n",
       "      <td>0.196289</td>\n",
       "      <td>0.0</td>\n",
       "      <td>0.196289</td>\n",
       "    </tr>\n",
       "    <tr>\n",
       "      <th>2853</th>\n",
       "      <td>SS10</td>\n",
       "      <td>Western Equatoria</td>\n",
       "      <td>ssid_SS1010_0036</td>\n",
       "      <td>SS1010</td>\n",
       "      <td>Yambio</td>\n",
       "      <td>SS101007</td>\n",
       "      <td>Yambio</td>\n",
       "      <td>Yambio Town</td>\n",
       "      <td>None</td>\n",
       "      <td>Host community</td>\n",
       "      <td>...</td>\n",
       "      <td>250</td>\n",
       "      <td>44</td>\n",
       "      <td>220</td>\n",
       "      <td>R9-September 2020</td>\n",
       "      <td>None</td>\n",
       "      <td>No changes</td>\n",
       "      <td>POINT (28.38999 4.57495)</td>\n",
       "      <td>0.000000</td>\n",
       "      <td>0.0</td>\n",
       "      <td>0.000000</td>\n",
       "    </tr>\n",
       "  </tbody>\n",
       "</table>\n",
       "<p>2854 rows × 38 columns</p>\n",
       "</div>"
      ],
      "text/plain": [
       "     state_pcod         state_name        location_s county_pco county_nam  \\\n",
       "0          SS01  Central Equatoria  ssid_SS0101_0002     SS0101       Juba   \n",
       "1          SS01  Central Equatoria  ssid_SS0101_0003     SS0101       Juba   \n",
       "2          SS01  Central Equatoria  ssid_SS0101_0045     SS0101       Juba   \n",
       "3          SS01  Central Equatoria  ssid_SS0101_0013     SS0101       Juba   \n",
       "4          SS01  Central Equatoria  ssid_SS0101_0035     SS0101       Juba   \n",
       "...         ...                ...               ...        ...        ...   \n",
       "2849       SS10  Western Equatoria  ssid_SS1010_0014     SS1010     Yambio   \n",
       "2850       SS10  Western Equatoria  ssid_SS1010_0017     SS1010     Yambio   \n",
       "2851       SS10  Western Equatoria  ssid_SS1010_0026     SS1010     Yambio   \n",
       "2852       SS10  Western Equatoria  ssid_SS1010_0035     SS1010     Yambio   \n",
       "2853       SS10  Western Equatoria  ssid_SS1010_0036     SS1010     Yambio   \n",
       "\n",
       "     payam_pcod payam_name      village_id alternate_      location_t  ...  \\\n",
       "0      SS010101      Bungu           Belle       None  Host community  ...   \n",
       "1      SS010101      Bungu    Bungu Center       None  Host community  ...   \n",
       "2      SS010101      Bungu  Kworijik Bungu       None  Host community  ...   \n",
       "3      SS010102       Dolo            Kuda       None  Host community  ...   \n",
       "4      SS010102       Dolo         Sirimun       None  Host community  ...   \n",
       "...         ...        ...             ...        ...             ...  ...   \n",
       "2849   SS101007     Yambio           Kuzee       None  Host community  ...   \n",
       "2850   SS101007     Yambio         Mokongo       None  Host community  ...   \n",
       "2851   SS101007     Yambio          Napere       None  Host community  ...   \n",
       "2852   SS101007     Yambio           Saura       None  Host community  ...   \n",
       "2853   SS101007     Yambio     Yambio Town       None  Host community  ...   \n",
       "\n",
       "      Estimate13  Estimate14 Estimate15         Source_Rou  Location r  \\\n",
       "0              0         132        792  R9-September 2020        None   \n",
       "1              0         219       1011  R9-September 2020        None   \n",
       "2              0         198        992  R9-September 2020        None   \n",
       "3              0         181        997  R9-September 2020        None   \n",
       "4              0         135        741  R9-September 2020        None   \n",
       "...          ...         ...        ...                ...         ...   \n",
       "2849         155          28        140  R9-September 2020        None   \n",
       "2850          35          10         50  R9-September 2020        None   \n",
       "2851          45           6         30  R9-September 2020        None   \n",
       "2852          80          20        100  R9-September 2020        None   \n",
       "2853         250          44        220  R9-September 2020        None   \n",
       "\n",
       "      Admin leve                  geometry     Plu_m  Flu_m  Tot_flood  \n",
       "0     No changes  POINT (31.38855 4.64919)  0.000000    0.0   0.000000  \n",
       "1     No changes  POINT (31.39612 4.66440)  0.000000    0.0   0.000000  \n",
       "2     No changes  POINT (31.33384 4.60083)  0.000000    0.0   0.000000  \n",
       "3     No changes  POINT (31.25497 4.95238)  0.000000    0.0   0.000000  \n",
       "4     No changes  POINT (31.01958 5.01381)  0.000000    0.0   0.000000  \n",
       "...          ...                       ...       ...    ...        ...  \n",
       "2849  No changes  POINT (28.38120 4.56140)  0.000000    0.0   0.000000  \n",
       "2850  No changes  POINT (28.49394 4.57501)  0.000000    0.0   0.000000  \n",
       "2851  No changes  POINT (28.49990 4.66386)  0.000000    0.0   0.000000  \n",
       "2852  No changes  POINT (28.38047 4.62615)  0.196289    0.0   0.196289  \n",
       "2853  No changes  POINT (28.38999 4.57495)  0.000000    0.0   0.000000  \n",
       "\n",
       "[2854 rows x 38 columns]"
      ]
     },
     "execution_count": 33,
     "metadata": {},
     "output_type": "execute_result"
    }
   ],
   "source": [
    "IDP"
   ]
  },
  {
   "cell_type": "code",
   "execution_count": 34,
   "id": "8d8aa71c",
   "metadata": {},
   "outputs": [],
   "source": [
    "IDP.to_file(r\"D:\\OneDrive\\Work\\WorldBank\\Assignments\\20211104_SSudanWaterSecurity\\Data\\Theme2\\IDPvsFloods\\IOM_DTM_wFathom.shp\")"
   ]
  },
  {
   "cell_type": "code",
   "execution_count": 55,
   "id": "b98f0441",
   "metadata": {},
   "outputs": [
    {
     "data": {
      "text/plain": [
       "<AxesSubplot:>"
      ]
     },
     "execution_count": 55,
     "metadata": {},
     "output_type": "execute_result"
    },
    {
     "data": {
      "image/png": "[encoded data removed]",
      "text/plain": [
       "<Figure size 432x288 with 1 Axes>"
      ]
     },
     "metadata": {},
     "output_type": "display_data"
    }
   ],
   "source": [
    "IDP.plot()"
   ]
  }
 ],
 "metadata": {
  "kernelspec": {
   "display_name": "Python (dreamenv)",
   "language": "python",
   "name": "dreamenv"
  },
  "language_info": {
   "codemirror_mode": {
    "name": "ipython",
    "version": 3
   },
   "file_extension": ".py",
   "mimetype": "text/x-python",
   "name": "python",
   "nbconvert_exporter": "python",
   "pygments_lexer": "ipython3",
   "version": "3.8.8"
  }
 },
 "nbformat": 4,
 "nbformat_minor": 5
}
